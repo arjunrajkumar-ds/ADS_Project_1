{
 "cells": [
  {
   "cell_type": "code",
   "execution_count": 51,
   "metadata": {},
   "outputs": [],
   "source": [
    "import time\n",
    "from datetime import datetime\n",
    "\n",
    "# To record notebook runtime\n",
    "t1 = datetime.now()"
   ]
  },
  {
   "cell_type": "code",
   "execution_count": 52,
   "metadata": {},
   "outputs": [],
   "source": [
    "import pyspark\n",
    "from pyspark.sql import SparkSession, functions as f\n",
    "\n",
    "import pandas as pd\n",
    "import numpy as np\n",
    "\n",
    "import scipy.stats as stats\n",
    "\n",
    "import geopandas as gpd"
   ]
  },
  {
   "cell_type": "code",
   "execution_count": 53,
   "metadata": {},
   "outputs": [],
   "source": [
    "spark = (\n",
    "    SparkSession.builder.appName(\"MAST30034 Tutorial 1\")\n",
    "    .config(\"spark.sql.repl.eagerEval.enabled\", True) \n",
    "    .config(\"spark.sql.parquet.cacheMetadata\", \"true\")\n",
    "    .config(\"spark.sql.session.timeZone\", \"Etc/UTC\")\n",
    "    .config(\"spark.executor.memory\", \"4g\")\n",
    "    .config(\"spark.driver.memory\", \"8g\")\n",
    "    .getOrCreate()\n",
    ")\n",
    "\n",
    "spark.conf.set(\"spark.sql.execution.arrow.pyspark.enabled\", \"true\")"
   ]
  },
  {
   "cell_type": "markdown",
   "metadata": {},
   "source": [
    "# Preprocessing Steps -"
   ]
  },
  {
   "cell_type": "markdown",
   "metadata": {},
   "source": [
    "## 1. Reading in the data\n",
    "The two datasets used for this analysis are:\n",
    "### Yellow NYC Taxi trip data\n",
    "Consists of 4 months (Jan - Apr 2022) of trip data, in the form of 4 parquet files - one for each month. However with PySpark, the entire directory is allowed to be read in at once, concatenating the data into one large dataframe"
   ]
  },
  {
   "cell_type": "code",
   "execution_count": 54,
   "metadata": {},
   "outputs": [
    {
     "name": "stderr",
     "output_type": "stream",
     "text": [
      "                                                                                \r"
     ]
    },
    {
     "data": {
      "text/html": [
       "<table border='1'>\n",
       "<tr><th>VendorID</th><th>tpep_pickup_datetime</th><th>tpep_dropoff_datetime</th><th>passenger_count</th><th>trip_distance</th><th>RatecodeID</th><th>store_and_fwd_flag</th><th>PULocationID</th><th>DOLocationID</th><th>payment_type</th><th>fare_amount</th><th>extra</th><th>mta_tax</th><th>tip_amount</th><th>tolls_amount</th><th>improvement_surcharge</th><th>total_amount</th><th>congestion_surcharge</th><th>airport_fee</th></tr>\n",
       "<tr><td>1</td><td>2022-01-01 00:35:40</td><td>2022-01-01 00:53:29</td><td>2.0</td><td>3.8</td><td>1.0</td><td>N</td><td>142</td><td>236</td><td>1</td><td>14.5</td><td>3.0</td><td>0.5</td><td>3.65</td><td>0.0</td><td>0.3</td><td>21.95</td><td>2.5</td><td>0.0</td></tr>\n",
       "<tr><td>1</td><td>2022-01-01 00:33:43</td><td>2022-01-01 00:42:07</td><td>1.0</td><td>2.1</td><td>1.0</td><td>N</td><td>236</td><td>42</td><td>1</td><td>8.0</td><td>0.5</td><td>0.5</td><td>4.0</td><td>0.0</td><td>0.3</td><td>13.3</td><td>0.0</td><td>0.0</td></tr>\n",
       "<tr><td>2</td><td>2022-01-01 00:53:21</td><td>2022-01-01 01:02:19</td><td>1.0</td><td>0.97</td><td>1.0</td><td>N</td><td>166</td><td>166</td><td>1</td><td>7.5</td><td>0.5</td><td>0.5</td><td>1.76</td><td>0.0</td><td>0.3</td><td>10.56</td><td>0.0</td><td>0.0</td></tr>\n",
       "<tr><td>2</td><td>2022-01-01 00:25:21</td><td>2022-01-01 00:35:23</td><td>1.0</td><td>1.09</td><td>1.0</td><td>N</td><td>114</td><td>68</td><td>2</td><td>8.0</td><td>0.5</td><td>0.5</td><td>0.0</td><td>0.0</td><td>0.3</td><td>11.8</td><td>2.5</td><td>0.0</td></tr>\n",
       "<tr><td>2</td><td>2022-01-01 00:36:48</td><td>2022-01-01 01:14:20</td><td>1.0</td><td>4.3</td><td>1.0</td><td>N</td><td>68</td><td>163</td><td>1</td><td>23.5</td><td>0.5</td><td>0.5</td><td>3.0</td><td>0.0</td><td>0.3</td><td>30.3</td><td>2.5</td><td>0.0</td></tr>\n",
       "<tr><td>1</td><td>2022-01-01 00:40:15</td><td>2022-01-01 01:09:48</td><td>1.0</td><td>10.3</td><td>1.0</td><td>N</td><td>138</td><td>161</td><td>1</td><td>33.0</td><td>3.0</td><td>0.5</td><td>13.0</td><td>6.55</td><td>0.3</td><td>56.35</td><td>2.5</td><td>0.0</td></tr>\n",
       "<tr><td>2</td><td>2022-01-01 00:20:50</td><td>2022-01-01 00:34:58</td><td>1.0</td><td>5.07</td><td>1.0</td><td>N</td><td>233</td><td>87</td><td>1</td><td>17.0</td><td>0.5</td><td>0.5</td><td>5.2</td><td>0.0</td><td>0.3</td><td>26.0</td><td>2.5</td><td>0.0</td></tr>\n",
       "<tr><td>2</td><td>2022-01-01 00:13:04</td><td>2022-01-01 00:22:45</td><td>1.0</td><td>2.02</td><td>1.0</td><td>N</td><td>238</td><td>152</td><td>2</td><td>9.0</td><td>0.5</td><td>0.5</td><td>0.0</td><td>0.0</td><td>0.3</td><td>12.8</td><td>2.5</td><td>0.0</td></tr>\n",
       "<tr><td>2</td><td>2022-01-01 00:30:02</td><td>2022-01-01 00:44:49</td><td>1.0</td><td>2.71</td><td>1.0</td><td>N</td><td>166</td><td>236</td><td>1</td><td>12.0</td><td>0.5</td><td>0.5</td><td>2.25</td><td>0.0</td><td>0.3</td><td>18.05</td><td>2.5</td><td>0.0</td></tr>\n",
       "<tr><td>2</td><td>2022-01-01 00:48:52</td><td>2022-01-01 00:53:28</td><td>1.0</td><td>0.78</td><td>1.0</td><td>N</td><td>236</td><td>141</td><td>2</td><td>5.0</td><td>0.5</td><td>0.5</td><td>0.0</td><td>0.0</td><td>0.3</td><td>8.8</td><td>2.5</td><td>0.0</td></tr>\n",
       "</table>\n"
      ],
      "text/plain": [
       "+--------+--------------------+---------------------+---------------+-------------+----------+------------------+------------+------------+------------+-----------+-----+-------+----------+------------+---------------------+------------+--------------------+-----------+\n",
       "|VendorID|tpep_pickup_datetime|tpep_dropoff_datetime|passenger_count|trip_distance|RatecodeID|store_and_fwd_flag|PULocationID|DOLocationID|payment_type|fare_amount|extra|mta_tax|tip_amount|tolls_amount|improvement_surcharge|total_amount|congestion_surcharge|airport_fee|\n",
       "+--------+--------------------+---------------------+---------------+-------------+----------+------------------+------------+------------+------------+-----------+-----+-------+----------+------------+---------------------+------------+--------------------+-----------+\n",
       "|       1| 2022-01-01 00:35:40|  2022-01-01 00:53:29|            2.0|          3.8|       1.0|                 N|         142|         236|           1|       14.5|  3.0|    0.5|      3.65|         0.0|                  0.3|       21.95|                 2.5|        0.0|\n",
       "|       1| 2022-01-01 00:33:43|  2022-01-01 00:42:07|            1.0|          2.1|       1.0|                 N|         236|          42|           1|        8.0|  0.5|    0.5|       4.0|         0.0|                  0.3|        13.3|                 0.0|        0.0|\n",
       "|       2| 2022-01-01 00:53:21|  2022-01-01 01:02:19|            1.0|         0.97|       1.0|                 N|         166|         166|           1|        7.5|  0.5|    0.5|      1.76|         0.0|                  0.3|       10.56|                 0.0|        0.0|\n",
       "|       2| 2022-01-01 00:25:21|  2022-01-01 00:35:23|            1.0|         1.09|       1.0|                 N|         114|          68|           2|        8.0|  0.5|    0.5|       0.0|         0.0|                  0.3|        11.8|                 2.5|        0.0|\n",
       "|       2| 2022-01-01 00:36:48|  2022-01-01 01:14:20|            1.0|          4.3|       1.0|                 N|          68|         163|           1|       23.5|  0.5|    0.5|       3.0|         0.0|                  0.3|        30.3|                 2.5|        0.0|\n",
       "|       1| 2022-01-01 00:40:15|  2022-01-01 01:09:48|            1.0|         10.3|       1.0|                 N|         138|         161|           1|       33.0|  3.0|    0.5|      13.0|        6.55|                  0.3|       56.35|                 2.5|        0.0|\n",
       "|       2| 2022-01-01 00:20:50|  2022-01-01 00:34:58|            1.0|         5.07|       1.0|                 N|         233|          87|           1|       17.0|  0.5|    0.5|       5.2|         0.0|                  0.3|        26.0|                 2.5|        0.0|\n",
       "|       2| 2022-01-01 00:13:04|  2022-01-01 00:22:45|            1.0|         2.02|       1.0|                 N|         238|         152|           2|        9.0|  0.5|    0.5|       0.0|         0.0|                  0.3|        12.8|                 2.5|        0.0|\n",
       "|       2| 2022-01-01 00:30:02|  2022-01-01 00:44:49|            1.0|         2.71|       1.0|                 N|         166|         236|           1|       12.0|  0.5|    0.5|      2.25|         0.0|                  0.3|       18.05|                 2.5|        0.0|\n",
       "|       2| 2022-01-01 00:48:52|  2022-01-01 00:53:28|            1.0|         0.78|       1.0|                 N|         236|         141|           2|        5.0|  0.5|    0.5|       0.0|         0.0|                  0.3|         8.8|                 2.5|        0.0|\n",
       "+--------+--------------------+---------------------+---------------+-------------+----------+------------------+------------+------------+------------+-----------+-----+-------+----------+------------+---------------------+------------+--------------------+-----------+"
      ]
     },
     "metadata": {},
     "output_type": "display_data"
    },
    {
     "name": "stdout",
     "output_type": "stream",
     "text": [
      "Shape of yellow dataset is 12671164 rows x 19 columns\n"
     ]
    }
   ],
   "source": [
    "yellow = spark.read.parquet('../../ADS_Project_1/raw_data/tlc_yellow')\n",
    "display(yellow.limit(10))\n",
    "print(f'Shape of yellow dataset is {yellow.count()} rows x {len(yellow.columns)} columns')"
   ]
  },
  {
   "cell_type": "markdown",
   "metadata": {},
   "source": [
    "### NYC Property Sale data\n",
    "Consists of a year (Aug 21 - July 22) of sale data, in the form of 5 excel files - one for each borough. Since this data is in a different format, it will be manually concatenated into a larger, overarching dataframe\n",
    "\n",
    "### *PLEASE NOTE*\n",
    "At this step, please see instructions below on manually preparing the property data for reading these excel files in. These instructions can also be found in the `ReadMe`\n",
    "\n",
    "- Run the download script in `download_script` to get the files on your machine\n",
    "- Open the first property_df file (named after one of NYC's 5 boroughs)\n",
    "- Select the first 4 rows of the Excel spreadsheet by clicking, holding and dragging down from the `1` to the `4` on the left\n",
    "- Right click the selection you just made and click `Delete`\n",
    "- Save the file with `CTRL + S`\n",
    "- Repeat for the other borough files"
   ]
  },
  {
   "cell_type": "code",
   "execution_count": 55,
   "metadata": {},
   "outputs": [
    {
     "name": "stdout",
     "output_type": "stream",
     "text": [
      "Dimensions are:\n",
      "\n",
      "Bronx: (7651, 21)\n",
      "Brooklyn: (28557, 21)\n",
      "Manhattan: (23370, 21)\n",
      "Queens: (29983, 21)\n",
      "Staten Island: (8964, 21)\n",
      "\n",
      "\n",
      "So `property_df` (all individual boroughs stacked on top of each other) should be 7651 + 28557 + 29983 + 8964 = 98525\n",
      "Property: (98525, 21)\n"
     ]
    }
   ],
   "source": [
    "# Initialising the property_df dataset and combining individual .xlsx files to make a dataframe\n",
    "property_df = pd.DataFrame()\n",
    "\n",
    "# Reading in each borough and scaffolding to make sure concatenation is correct\n",
    "bronx = pd.read_excel('../raw_data/property_data/bronx.xlsx')\n",
    "print('Dimensions are:\\n')\n",
    "print(f'Bronx: {bronx.shape}')\n",
    "brooklyn = pd.read_excel('../raw_data/property_data/brooklyn.xlsx')\n",
    "print(f'Brooklyn: {brooklyn.shape}')\n",
    "manhattan = pd.read_excel('../raw_data/property_data/manhattan.xlsx')\n",
    "print(f'Manhattan: {manhattan.shape}')\n",
    "queens = pd.read_excel('../raw_data/property_data/queens.xlsx')\n",
    "print(f'Queens: {queens.shape}')\n",
    "statenisland = pd.read_excel('../raw_data/property_data/statenisland.xlsx')\n",
    "print(f'Staten Island: {statenisland.shape}\\n\\n')\n",
    "\n",
    "# Concatenating them all\n",
    "property_df = bronx\n",
    "property_df = pd.concat([property_df, brooklyn])\n",
    "property_df = pd.concat([property_df, manhattan])\n",
    "property_df = pd.concat([property_df, queens])\n",
    "property_df = pd.concat([property_df, statenisland])\n",
    "\n",
    "tot = 7651 + 28557 + 23370 + 29983 + 8964\n",
    "print(f'So `property_df` (all individual boroughs stacked on top of each other) should be 7651 + 28557 + 29983 + 8964 = {tot}')\n",
    "print(f'Property: {property_df.shape}')"
   ]
  },
  {
   "cell_type": "markdown",
   "metadata": {},
   "source": [
    "## 2. Getting rid of unrelated data\n",
    "We don't care about some attributes for the purposes of our analysis, so need to drop those specific columns\n",
    "\n",
    "### Yellow -\n",
    "- VendorID\n",
    "- Passenger_count: Assumption being made (based off personal experience) that even when multiple riders take an uber, only 1 rider (usually the one who requested the ride) tips the driver\n",
    "- Store_and_fwd_flag\n",
    "- Extra \n",
    "- MTA_tax\n",
    "- Improvement_surcharge\n",
    "- Tolls_amount\n",
    "- Congestion_surcharge\n",
    "- Airport_fee"
   ]
  },
  {
   "cell_type": "code",
   "execution_count": 56,
   "metadata": {},
   "outputs": [],
   "source": [
    "yellow_drop_columns = ['VendorID', 'Passenger_count', 'Store_and_fwd_flag', 'Extra', 'MTA_Tax', 'Improvement_surcharge',\\\n",
    "                       'Tolls_amount', 'Congestion_surcharge', 'Airport_fee']\n",
    "\n",
    "yellow = yellow.drop(*yellow_drop_columns)"
   ]
  },
  {
   "cell_type": "markdown",
   "metadata": {},
   "source": [
    "### Property -\n",
    "The following attributes will be dropped because again, they are unrelevant and don't contribute to this study in a meaningful way. They could potentially be useful for other analyses though\n",
    "- Tax Class at Present\n",
    "- Block\n",
    "- Lot\n",
    "- Easement\n",
    "- Building Class at Present\n",
    "- Apartment Number\n",
    "- ZIP Code\n",
    "- Total Units: A linear combination of Residential and Commercial Unit (might still not end up using this attribute)\n",
    "- Land Square Feet: Will instead use Gross Square Feet - assumption made that property_df valuations use area of land, not building\n",
    "- Tax Class at Time of Sale\n",
    "- Building Class at Time of Sale\n",
    "- Sale Date\n",
    "- Address"
   ]
  },
  {
   "cell_type": "code",
   "execution_count": 57,
   "metadata": {},
   "outputs": [],
   "source": [
    "property_df_drop_columns = ['TAX CLASS AT PRESENT', 'BLOCK', 'LOT', 'EASEMENT', 'BUILDING CLASS AT PRESENT', 'APARTMENT NUMBER',\\\n",
    "                        'ZIP CODE', 'TOTAL UNITS', 'LAND SQUARE FEET', 'TAX CLASS AT TIME OF SALE', \\\n",
    "                         'BUILDING CLASS AT TIME OF SALE', 'SALE DATE', 'ADDRESS']\n",
    "\n",
    "property_df.drop(columns = property_df_drop_columns, inplace = True)"
   ]
  },
  {
   "cell_type": "markdown",
   "metadata": {},
   "source": [
    "## 3. Making consistent variable names\n",
    "\n",
    "Some column names are in CamelCase, so making it consistent and changing those over to `snake_case`"
   ]
  },
  {
   "cell_type": "markdown",
   "metadata": {},
   "source": [
    "### Yellow -"
   ]
  },
  {
   "cell_type": "code",
   "execution_count": 58,
   "metadata": {},
   "outputs": [],
   "source": [
    "yellow = yellow.withColumnRenamed(\n",
    "    'RatecodeID',\n",
    "    'ratecode_id'\n",
    ")\n",
    "yellow = yellow.withColumnRenamed(\n",
    "    'PULocationID',\n",
    "    'pulocation_id'\n",
    ")\n",
    "yellow = yellow.withColumnRenamed(\n",
    "    'DOLocationID',\n",
    "    'dolocation_id'\n",
    ")"
   ]
  },
  {
   "cell_type": "markdown",
   "metadata": {},
   "source": [
    "### Property -"
   ]
  },
  {
   "cell_type": "code",
   "execution_count": 59,
   "metadata": {},
   "outputs": [],
   "source": [
    "property_df.rename(columns={'BOROUGH':'borough', 'NEIGHBORHOOD':'neighbourhood', 'BUILDING CLASS CATEGORY':'building_class', \\\n",
    "                            'RESIDENTIAL UNITS':'resi_units', 'COMMERCIAL UNITS':'comm_units', \\\n",
    "                            'GROSS SQUARE FEET':'gross_sq_feet', 'YEAR BUILT':'year_built', 'SALE PRICE':'sale_price'}, \\\n",
    "                   inplace=True)"
   ]
  },
  {
   "cell_type": "markdown",
   "metadata": {},
   "source": [
    "## 4. Handling Missing / Null / NA Data -"
   ]
  },
  {
   "cell_type": "markdown",
   "metadata": {},
   "source": [
    "### Yellow -"
   ]
  },
  {
   "cell_type": "code",
   "execution_count": 60,
   "metadata": {},
   "outputs": [
    {
     "name": "stderr",
     "output_type": "stream",
     "text": [
      "\r",
      "[Stage 114:========================>                                (3 + 4) / 7]\r"
     ]
    },
    {
     "name": "stdout",
     "output_type": "stream",
     "text": [
      "+-------------+-----------+-------------+-------------+------------+-----------+----------+------------+\n",
      "|trip_distance|ratecode_id|pulocation_id|dolocation_id|payment_type|fare_amount|tip_amount|total_amount|\n",
      "+-------------+-----------+-------------+-------------+------------+-----------+----------+------------+\n",
      "|            0|          0|            0|            0|           0|          0|         0|           0|\n",
      "+-------------+-----------+-------------+-------------+------------+-----------+----------+------------+\n",
      "\n"
     ]
    },
    {
     "name": "stderr",
     "output_type": "stream",
     "text": [
      "\r",
      "[Stage 114:========================================>                (5 + 2) / 7]\r",
      "\r",
      "                                                                                \r"
     ]
    }
   ],
   "source": [
    "# Code taken from https://stackoverflow.com/questions/44627386/how-to-find-count-of-null-and-nan-values-for-each-column-in-a-pyspark-dataframe\n",
    "\n",
    "from pyspark.sql.functions import isnan, when, count, col\n",
    "\n",
    "columns = ['trip_distance', 'ratecode_id', 'pulocation_id', 'dolocation_id', 'payment_type', 'fare_amount', 'tip_amount', \\\n",
    "          'total_amount']\n",
    "\n",
    "yellow.select([count(when(isnan(c), c)).alias(c) for c in columns]).show()\n",
    "\n",
    "# It looks like there are no null values here"
   ]
  },
  {
   "cell_type": "markdown",
   "metadata": {},
   "source": [
    "### Property -"
   ]
  },
  {
   "cell_type": "code",
   "execution_count": 61,
   "metadata": {},
   "outputs": [
    {
     "data": {
      "text/plain": [
       "borough               0\n",
       "neighbourhood         0\n",
       "building_class        0\n",
       "resi_units        24303\n",
       "comm_units        43507\n",
       "gross_sq_feet     46660\n",
       "year_built         7443\n",
       "sale_price            0\n",
       "dtype: int64"
      ]
     },
     "metadata": {},
     "output_type": "display_data"
    }
   ],
   "source": [
    "# Finding how many null values there are in each column \n",
    "display(property_df.isnull().sum())"
   ]
  },
  {
   "cell_type": "code",
   "execution_count": 62,
   "metadata": {},
   "outputs": [
    {
     "name": "stdout",
     "output_type": "stream",
     "text": [
      "Percentage of null values each column:\n",
      "\n",
      "resi_units : 25.0%\n",
      "comm_units : 44.0%\n",
      "gross_sq_feet : 47.0%\n",
      "year_built : 8.0%\n"
     ]
    }
   ],
   "source": [
    "# Substantial number of null values for 3 columns, and some for 1\n",
    "\n",
    "print('Percentage of null values each column:\\n')\n",
    "print(f'resi_units : {100 * (round(24303/property_df.shape[0], 2))}%')\n",
    "print(f'comm_units : {100 * (round(43507/property_df.shape[0], 2))}%')\n",
    "print(f'gross_sq_feet : {100 * (round(46660/property_df.shape[0], 2))}%')\n",
    "print(f'year_built : {100 * (round(7443/property_df.shape[0], 2))}%')"
   ]
  },
  {
   "cell_type": "markdown",
   "metadata": {},
   "source": [
    "- `resi_units`: 25% missing values. This feature tells us about how many units on the property_df were listed as for residential or commercial use. We will just drop this feature entirely, since I originally thought that the # of rooms would probably have a relationship with tip fare, however this would almost directly be correlated with total `sale_price` (more units = more sq footage = more expensive. Possibly an assumption, but a very safe one\n",
    "- `comm_units`: See above\n",
    "- `gross_sq_feet`: Looking at spread of data (see (& run) cell below), it's pretty safe to imput the data - follows an approximate Normal Distribution. However the outliers must be removed before imputation\n",
    "- `year_built`: Values don't really follow a Normal Distribution (cell below), but I think that the feature would still offer some significant significance. Additionally, only 8% of the data would be mean-imputed, so I doubt it would affect the distribution all that much"
   ]
  },
  {
   "cell_type": "code",
   "execution_count": 63,
   "metadata": {},
   "outputs": [
    {
     "data": {
      "image/png": "[encoded data removed]",
      "text/plain": [
       "<Figure size 432x288 with 1 Axes>"
      ]
     },
     "metadata": {
      "needs_background": "light"
     },
     "output_type": "display_data"
    }
   ],
   "source": [
    "fig1 = property_df['gross_sq_feet'].plot.box()"
   ]
  },
  {
   "cell_type": "code",
   "execution_count": 64,
   "metadata": {},
   "outputs": [],
   "source": [
    "# Dropping resi/comm_units\n",
    "property_df = property_df.drop(columns = ['resi_units', 'comm_units'])"
   ]
  },
  {
   "cell_type": "code",
   "execution_count": 65,
   "metadata": {},
   "outputs": [
    {
     "data": {
      "text/plain": [
       "<matplotlib.axes._subplots.AxesSubplot at 0x7fa198e0de20>"
      ]
     },
     "execution_count": 65,
     "metadata": {},
     "output_type": "execute_result"
    },
    {
     "data": {
      "image/png": "[encoded data removed]",
      "text/plain": [
       "<Figure size 432x288 with 1 Axes>"
      ]
     },
     "metadata": {
      "needs_background": "light"
     },
     "output_type": "display_data"
    }
   ],
   "source": [
    "property_df['year_built'].hist()"
   ]
  },
  {
   "cell_type": "code",
   "execution_count": 66,
   "metadata": {},
   "outputs": [],
   "source": [
    "# Mean imputing year_built, since feature is approximately Normally distributed\n",
    "\n",
    "year_mean = property_df['year_built'].mean()\n",
    "property_df['year_built'] = property_df['year_built'].fillna(value = year_mean)"
   ]
  },
  {
   "cell_type": "code",
   "execution_count": 67,
   "metadata": {},
   "outputs": [],
   "source": [
    "# Creating a parquet file to read in the same data to a sdf down below\n",
    "property_df.to_parquet('../raw_data/property_sdf.parquet')"
   ]
  },
  {
   "cell_type": "code",
   "execution_count": 68,
   "metadata": {},
   "outputs": [],
   "source": [
    "property_sdf = spark.read.parquet('../raw_data/property_sdf.parquet')"
   ]
  },
  {
   "cell_type": "code",
   "execution_count": 69,
   "metadata": {},
   "outputs": [],
   "source": [
    "feet_q1 = property_df['gross_sq_feet'].quantile(.25)\n",
    "feet_q3 = property_df['gross_sq_feet'].quantile(.75)\n",
    "feet_iqr = feet_q3 - feet_q1\n",
    "feet_lower = feet_q1 - (1.5 * feet_iqr)\n",
    "feet_upper = feet_q3 + (1.5 * feet_iqr)\n",
    "\n",
    "sale_q1 = property_df['sale_price'].quantile(.25)\n",
    "sale_q3 = property_df['sale_price'].quantile(.75)\n",
    "sale_iqr = sale_q3 - sale_q1\n",
    "sale_lower = sale_q1 - (1.5 * sale_iqr)\n",
    "sale_upper = sale_q3 + (1.5 * sale_iqr)"
   ]
  },
  {
   "cell_type": "code",
   "execution_count": 70,
   "metadata": {},
   "outputs": [
    {
     "data": {
      "text/plain": [
       "90400"
      ]
     },
     "execution_count": 70,
     "metadata": {},
     "output_type": "execute_result"
    }
   ],
   "source": [
    "# property_sdf = property_sdf.select('*').where(property_sdf['gross_sq_feet'] > feet_lower)\n",
    "# property_sdf = property_sdf.select('*').where(property_sdf['gross_sq_feet'] < feet_upper)\n",
    "\n",
    "# Un-comment code above the line and comment out code below the line to see how many rows were removed when removing outliers\n",
    "# for gross_sq_feet\n",
    "# print(property_sdf.count())\n",
    "\n",
    "\n",
    "'---------------------------------------------------------------------------------------------------------------------'\n",
    "\n",
    "property_sdf = property_sdf.select('*').where(property_sdf['sale_price'] > sale_lower)\n",
    "property_sdf = property_sdf.select('*').where(property_sdf['sale_price'] < sale_upper)\n",
    "\n",
    "property_sdf.count()\n",
    "\n",
    "# Lost too many rows when removing 'outliers' in square footage. About 50% of rows were filtered out.\n",
    "# Assumption will be that the values here just have very high variance, and what look like outliers should be considered valid data points"
   ]
  },
  {
   "cell_type": "code",
   "execution_count": null,
   "metadata": {},
   "outputs": [],
   "source": []
  },
  {
   "cell_type": "code",
   "execution_count": null,
   "metadata": {},
   "outputs": [],
   "source": []
  },
  {
   "cell_type": "code",
   "execution_count": null,
   "metadata": {},
   "outputs": [],
   "source": []
  },
  {
   "cell_type": "code",
   "execution_count": 71,
   "metadata": {},
   "outputs": [
    {
     "name": "stderr",
     "output_type": "stream",
     "text": [
      "                                                                                \r"
     ]
    },
    {
     "name": "stdout",
     "output_type": "stream",
     "text": [
      "Partition 1 done.\n"
     ]
    },
    {
     "name": "stderr",
     "output_type": "stream",
     "text": [
      "                                                                                \r"
     ]
    },
    {
     "name": "stdout",
     "output_type": "stream",
     "text": [
      "Partition 2 done.\n"
     ]
    },
    {
     "name": "stderr",
     "output_type": "stream",
     "text": [
      "                                                                                \r"
     ]
    },
    {
     "name": "stdout",
     "output_type": "stream",
     "text": [
      "Partition 3 done.\n"
     ]
    },
    {
     "name": "stderr",
     "output_type": "stream",
     "text": [
      "                                                                                \r"
     ]
    },
    {
     "name": "stdout",
     "output_type": "stream",
     "text": [
      "Partition 4 done.\n"
     ]
    }
   ],
   "source": [
    "# Code taken from - https://www.geeksforgeeks.org/pyspark-split-dataframe-into-equal-number-of-rows/\n",
    "# Searched for 'how to partition by rows pyspark df'\n",
    "\n",
    "# Partitioning the pyspark yellow_df into 4 parts\n",
    "# Converting the entire yellow_df toPandas at once killed my kernel repeatedly\n",
    "\n",
    "n_splits = 4\n",
    "each_len = yellow.count() // n_splits\n",
    "copy_yellow = yellow\n",
    "\n",
    "yellow_pd_partitions = ['yellow_pd_1', 'yellow_pd_2', 'yellow_pd_3', 'yellow_pd_4']\n",
    "\n",
    "i = 0\n",
    "while i < n_splits:\n",
    "    temp_yellow = copy_yellow.limit(each_len)\n",
    "    copy_yellow = copy_yellow.subtract(temp_yellow)\n",
    "    yellow_pd_partitions[i] = temp_yellow.toPandas()\n",
    "    print(f'Partition {i + 1} done.')\n",
    "    i += 1\n",
    "    \n",
    "yellow_pd = pd.concat([yellow_pd_partitions[0], yellow_pd_partitions[1]])\n",
    "yellow_pd = pd.concat([yellow_pd, yellow_pd_partitions[2]])\n",
    "yellow_pd = pd.concat([yellow_pd, yellow_pd_partitions[3]])"
   ]
  },
  {
   "cell_type": "code",
   "execution_count": 72,
   "metadata": {},
   "outputs": [],
   "source": [
    "# Removing outliers manually - had to convert to a Pandas dataframe to filter out based on values\n",
    "\n",
    "fare_q1 = yellow_pd['fare_amount'].quantile(.25)\n",
    "fare_q3 = yellow_pd['fare_amount'].quantile(.75)\n",
    "fare_iqr = fare_q3 - fare_q1\n",
    "fare_lower = fare_q1 - (1.5 * fare_iqr)\n",
    "fare_upper = fare_q3 - (1.5 * fare_iqr)\n",
    "\n",
    "tip_q1 = yellow_pd['tip_amount'].quantile(.25)\n",
    "tip_q3 = yellow_pd['tip_amount'].quantile(.75)\n",
    "tip_iqr = tip_q3 - tip_q1\n",
    "tip_lower = tip_q1 - (1.5 * tip_iqr)\n",
    "tip_upper = tip_q3 - (1.5 * tip_iqr)\n",
    "\n",
    "total_q1 = yellow_pd['total_amount'].quantile(.25)\n",
    "total_q3 = yellow_pd['total_amount'].quantile(.75)\n",
    "total_iqr = total_q3 - total_q1\n",
    "total_lower = total_q1 - (1.5 * total_iqr)\n",
    "total_upper = total_q3 - (1.5 * total_iqr)\n",
    "\n",
    "trip_q1 = yellow_pd['trip_distance'].quantile(.25)\n",
    "trip_q3 = yellow_pd['trip_distance'].quantile(.75)\n",
    "trip_iqr = trip_q3 - trip_q1\n",
    "trip_lower = trip_q1 - (1.5 * trip_iqr)\n",
    "trip_upper = trip_q3 - (1.5 * trip_iqr)"
   ]
  },
  {
   "cell_type": "code",
   "execution_count": 73,
   "metadata": {},
   "outputs": [
    {
     "data": {
      "text/plain": [
       "128414"
      ]
     },
     "execution_count": 73,
     "metadata": {},
     "output_type": "execute_result"
    }
   ],
   "source": [
    "# The underlying distribution of fare_amount seems to be left-skewed. We calculated outlier bounds as normal, but when\n",
    "# you try stay within the upper bound, you get rid of 98% of data.\n",
    "\n",
    "# An upper bound for detecting outliers will not be taken into consideration\n",
    "\n",
    "yellow.select('*').where(yellow['fare_amount'] < fare_upper).count()"
   ]
  },
  {
   "cell_type": "code",
   "execution_count": 74,
   "metadata": {},
   "outputs": [
    {
     "data": {
      "text/plain": [
       "98.98299981238233"
      ]
     },
     "execution_count": 74,
     "metadata": {},
     "output_type": "execute_result"
    }
   ],
   "source": [
    "(12626743 - 128414) / (12626743) * 100"
   ]
  },
  {
   "cell_type": "code",
   "execution_count": 75,
   "metadata": {},
   "outputs": [],
   "source": [
    "yellow = yellow.select('*').where(yellow['fare_amount'] > fare_lower)\n",
    "#yellow = yellow.select('*').where(yellow['fare_amount'] < fare_upper)\n",
    "\n",
    "yellow = yellow.select('*').where(yellow['tip_amount'] > tip_lower)\n",
    "#yellow = yellow.select('*').where(yellow['tip_amount'] < tip_upper)\n",
    "\n",
    "yellow = yellow.select('*').where(yellow['total_amount'] > total_lower)\n",
    "#yellow = yellow.select('*').where(yellow['total_amount'] < total_upper)\n",
    "\n",
    "yellow = yellow.select('*').where(yellow['trip_distance'] > trip_lower)\n",
    "#yellow = yellow.select('*').where(yellow['trip_distance'] < trip_upper)"
   ]
  },
  {
   "cell_type": "markdown",
   "metadata": {},
   "source": [
    "## Strange pattern / anomaly about the data -\n",
    "\n",
    "When trying to remove outliers that are greater than any individual feature's upper bound, as calculated by the IQR, this always results in extreme amounts of data being lost. What this tells us about the data itself, taxi trip data, should be discussed\n",
    "\n",
    "You can observe this below by uncommenting the cell below. If you do run it, then you'll need to re-read yellow in"
   ]
  },
  {
   "cell_type": "code",
   "execution_count": 76,
   "metadata": {},
   "outputs": [
    {
     "data": {
      "text/plain": [
       "\"\\ndisplay((yellow.select('*').where(yellow['fare_amount'] < fare_upper)).limit(3))\\nprint(yellow.select('*').where(yellow['fare_amount'] < fare_upper).count())\\n\\ndisplay((yellow.select('*').where(yellow['tip_amount'] < tip_upper)).limit(3))\\ndisplay((yellow.select('*').where(yellow['tip_amount'] < tip_upper).count()))\\n\\ndisplay((yellow.select('*').where(yellow['total_amount'] < total_upper)).limit(3))\\ndisplay((yellow.select('*').where(yellow['total_amount'] < total_upper)).count())\\n\""
      ]
     },
     "execution_count": 76,
     "metadata": {},
     "output_type": "execute_result"
    }
   ],
   "source": [
    "'''\n",
    "display((yellow.select('*').where(yellow['fare_amount'] < fare_upper)).limit(3))\n",
    "print(yellow.select('*').where(yellow['fare_amount'] < fare_upper).count())\n",
    "\n",
    "display((yellow.select('*').where(yellow['tip_amount'] < tip_upper)).limit(3))\n",
    "display((yellow.select('*').where(yellow['tip_amount'] < tip_upper).count()))\n",
    "\n",
    "display((yellow.select('*').where(yellow['total_amount'] < total_upper)).limit(3))\n",
    "display((yellow.select('*').where(yellow['total_amount'] < total_upper)).count())\n",
    "'''"
   ]
  },
  {
   "cell_type": "markdown",
   "metadata": {},
   "source": [
    "## 5. Typecasting\n",
    "Making sure that all columns are appropriately typed\n",
    "\n",
    "There are several columns that we need to adjust the type for. They'll be listed below with their justifications\n",
    "\n",
    "### Yellow -\n",
    "- Location IDs: int - See above"
   ]
  },
  {
   "cell_type": "code",
   "execution_count": 77,
   "metadata": {},
   "outputs": [
    {
     "data": {
      "text/html": [
       "<table border='1'>\n",
       "<tr><th>tpep_pickup_datetime</th><th>tpep_dropoff_datetime</th><th>trip_distance</th><th>ratecode_id</th><th>pulocation_id</th><th>dolocation_id</th><th>payment_type</th><th>fare_amount</th><th>tip_amount</th><th>total_amount</th></tr>\n",
       "<tr><td>2022-01-01 00:35:40</td><td>2022-01-01 00:53:29</td><td>3.8</td><td>1.0</td><td>142</td><td>236</td><td>1</td><td>14.5</td><td>3.65</td><td>21.95</td></tr>\n",
       "<tr><td>2022-01-01 00:33:43</td><td>2022-01-01 00:42:07</td><td>2.1</td><td>1.0</td><td>236</td><td>42</td><td>1</td><td>8.0</td><td>4.0</td><td>13.3</td></tr>\n",
       "<tr><td>2022-01-01 00:53:21</td><td>2022-01-01 01:02:19</td><td>0.97</td><td>1.0</td><td>166</td><td>166</td><td>1</td><td>7.5</td><td>1.76</td><td>10.56</td></tr>\n",
       "<tr><td>2022-01-01 00:25:21</td><td>2022-01-01 00:35:23</td><td>1.09</td><td>1.0</td><td>114</td><td>68</td><td>2</td><td>8.0</td><td>0.0</td><td>11.8</td></tr>\n",
       "<tr><td>2022-01-01 00:36:48</td><td>2022-01-01 01:14:20</td><td>4.3</td><td>1.0</td><td>68</td><td>163</td><td>1</td><td>23.5</td><td>3.0</td><td>30.3</td></tr>\n",
       "<tr><td>2022-01-01 00:40:15</td><td>2022-01-01 01:09:48</td><td>10.3</td><td>1.0</td><td>138</td><td>161</td><td>1</td><td>33.0</td><td>13.0</td><td>56.35</td></tr>\n",
       "<tr><td>2022-01-01 00:20:50</td><td>2022-01-01 00:34:58</td><td>5.07</td><td>1.0</td><td>233</td><td>87</td><td>1</td><td>17.0</td><td>5.2</td><td>26.0</td></tr>\n",
       "<tr><td>2022-01-01 00:13:04</td><td>2022-01-01 00:22:45</td><td>2.02</td><td>1.0</td><td>238</td><td>152</td><td>2</td><td>9.0</td><td>0.0</td><td>12.8</td></tr>\n",
       "<tr><td>2022-01-01 00:30:02</td><td>2022-01-01 00:44:49</td><td>2.71</td><td>1.0</td><td>166</td><td>236</td><td>1</td><td>12.0</td><td>2.25</td><td>18.05</td></tr>\n",
       "<tr><td>2022-01-01 00:48:52</td><td>2022-01-01 00:53:28</td><td>0.78</td><td>1.0</td><td>236</td><td>141</td><td>2</td><td>5.0</td><td>0.0</td><td>8.8</td></tr>\n",
       "<tr><td>2022-01-01 00:55:03</td><td>2022-01-01 01:04:25</td><td>1.91</td><td>1.0</td><td>141</td><td>229</td><td>2</td><td>8.5</td><td>0.0</td><td>12.3</td></tr>\n",
       "<tr><td>2022-01-01 00:31:06</td><td>2022-01-01 00:34:14</td><td>0.82</td><td>1.0</td><td>114</td><td>90</td><td>2</td><td>4.5</td><td>0.0</td><td>8.3</td></tr>\n",
       "<tr><td>2022-01-01 00:41:07</td><td>2022-01-01 00:44:46</td><td>0.73</td><td>1.0</td><td>234</td><td>113</td><td>2</td><td>4.5</td><td>0.0</td><td>8.3</td></tr>\n",
       "<tr><td>2022-01-01 00:56:34</td><td>2022-01-01 01:12:04</td><td>2.16</td><td>1.0</td><td>246</td><td>79</td><td>1</td><td>11.5</td><td>3.06</td><td>18.36</td></tr>\n",
       "<tr><td>2022-01-01 00:39:46</td><td>2022-01-01 00:47:36</td><td>1.43</td><td>1.0</td><td>43</td><td>140</td><td>1</td><td>7.5</td><td>2.26</td><td>13.56</td></tr>\n",
       "<tr><td>2022-01-01 00:58:06</td><td>2022-01-01 01:05:45</td><td>1.58</td><td>1.0</td><td>239</td><td>151</td><td>2</td><td>8.0</td><td>0.0</td><td>11.8</td></tr>\n",
       "<tr><td>2022-01-01 00:33:52</td><td>2022-01-01 00:47:28</td><td>4.2</td><td>1.0</td><td>148</td><td>141</td><td>1</td><td>14.0</td><td>3.45</td><td>20.75</td></tr>\n",
       "<tr><td>2022-01-01 00:53:54</td><td>2022-01-01 01:05:20</td><td>2.2</td><td>1.0</td><td>237</td><td>107</td><td>1</td><td>9.5</td><td>2.55</td><td>15.35</td></tr>\n",
       "<tr><td>2022-01-01 00:00:44</td><td>2022-01-01 00:05:29</td><td>0.2</td><td>1.0</td><td>7</td><td>7</td><td>2</td><td>5.0</td><td>0.0</td><td>6.3</td></tr>\n",
       "<tr><td>2022-01-01 00:35:50</td><td>2022-01-01 00:48:33</td><td>3.9</td><td>1.0</td><td>107</td><td>263</td><td>1</td><td>13.0</td><td>3.35</td><td>20.15</td></tr>\n",
       "</table>\n",
       "only showing top 20 rows\n"
      ],
      "text/plain": [
       "+--------------------+---------------------+-------------+-----------+-------------+-------------+------------+-----------+----------+------------+\n",
       "|tpep_pickup_datetime|tpep_dropoff_datetime|trip_distance|ratecode_id|pulocation_id|dolocation_id|payment_type|fare_amount|tip_amount|total_amount|\n",
       "+--------------------+---------------------+-------------+-----------+-------------+-------------+------------+-----------+----------+------------+\n",
       "| 2022-01-01 00:35:40|  2022-01-01 00:53:29|          3.8|        1.0|          142|          236|           1|       14.5|      3.65|       21.95|\n",
       "| 2022-01-01 00:33:43|  2022-01-01 00:42:07|          2.1|        1.0|          236|           42|           1|        8.0|       4.0|        13.3|\n",
       "| 2022-01-01 00:53:21|  2022-01-01 01:02:19|         0.97|        1.0|          166|          166|           1|        7.5|      1.76|       10.56|\n",
       "| 2022-01-01 00:25:21|  2022-01-01 00:35:23|         1.09|        1.0|          114|           68|           2|        8.0|       0.0|        11.8|\n",
       "| 2022-01-01 00:36:48|  2022-01-01 01:14:20|          4.3|        1.0|           68|          163|           1|       23.5|       3.0|        30.3|\n",
       "| 2022-01-01 00:40:15|  2022-01-01 01:09:48|         10.3|        1.0|          138|          161|           1|       33.0|      13.0|       56.35|\n",
       "| 2022-01-01 00:20:50|  2022-01-01 00:34:58|         5.07|        1.0|          233|           87|           1|       17.0|       5.2|        26.0|\n",
       "| 2022-01-01 00:13:04|  2022-01-01 00:22:45|         2.02|        1.0|          238|          152|           2|        9.0|       0.0|        12.8|\n",
       "| 2022-01-01 00:30:02|  2022-01-01 00:44:49|         2.71|        1.0|          166|          236|           1|       12.0|      2.25|       18.05|\n",
       "| 2022-01-01 00:48:52|  2022-01-01 00:53:28|         0.78|        1.0|          236|          141|           2|        5.0|       0.0|         8.8|\n",
       "| 2022-01-01 00:55:03|  2022-01-01 01:04:25|         1.91|        1.0|          141|          229|           2|        8.5|       0.0|        12.3|\n",
       "| 2022-01-01 00:31:06|  2022-01-01 00:34:14|         0.82|        1.0|          114|           90|           2|        4.5|       0.0|         8.3|\n",
       "| 2022-01-01 00:41:07|  2022-01-01 00:44:46|         0.73|        1.0|          234|          113|           2|        4.5|       0.0|         8.3|\n",
       "| 2022-01-01 00:56:34|  2022-01-01 01:12:04|         2.16|        1.0|          246|           79|           1|       11.5|      3.06|       18.36|\n",
       "| 2022-01-01 00:39:46|  2022-01-01 00:47:36|         1.43|        1.0|           43|          140|           1|        7.5|      2.26|       13.56|\n",
       "| 2022-01-01 00:58:06|  2022-01-01 01:05:45|         1.58|        1.0|          239|          151|           2|        8.0|       0.0|        11.8|\n",
       "| 2022-01-01 00:33:52|  2022-01-01 00:47:28|          4.2|        1.0|          148|          141|           1|       14.0|      3.45|       20.75|\n",
       "| 2022-01-01 00:53:54|  2022-01-01 01:05:20|          2.2|        1.0|          237|          107|           1|        9.5|      2.55|       15.35|\n",
       "| 2022-01-01 00:00:44|  2022-01-01 00:05:29|          0.2|        1.0|            7|            7|           2|        5.0|       0.0|         6.3|\n",
       "| 2022-01-01 00:35:50|  2022-01-01 00:48:33|          3.9|        1.0|          107|          263|           1|       13.0|      3.35|       20.15|\n",
       "+--------------------+---------------------+-------------+-----------+-------------+-------------+------------+-----------+----------+------------+\n",
       "only showing top 20 rows"
      ]
     },
     "execution_count": 77,
     "metadata": {},
     "output_type": "execute_result"
    }
   ],
   "source": [
    "yellow.withColumn('pulocation_id', yellow['pulocation_id'].cast('int'))"
   ]
  },
  {
   "cell_type": "markdown",
   "metadata": {},
   "source": [
    "# LOOK HERE - check that location ids are int"
   ]
  },
  {
   "cell_type": "code",
   "execution_count": 78,
   "metadata": {},
   "outputs": [
    {
     "name": "stdout",
     "output_type": "stream",
     "text": [
      "root\n",
      " |-- tpep_pickup_datetime: timestamp (nullable = true)\n",
      " |-- tpep_dropoff_datetime: timestamp (nullable = true)\n",
      " |-- trip_distance: double (nullable = true)\n",
      " |-- ratecode_id: double (nullable = true)\n",
      " |-- pulocation_id: long (nullable = true)\n",
      " |-- dolocation_id: long (nullable = true)\n",
      " |-- payment_type: long (nullable = true)\n",
      " |-- fare_amount: double (nullable = true)\n",
      " |-- tip_amount: double (nullable = true)\n",
      " |-- total_amount: double (nullable = true)\n",
      "\n"
     ]
    }
   ],
   "source": [
    "yellow.printSchema()"
   ]
  },
  {
   "cell_type": "markdown",
   "metadata": {},
   "source": [
    "### Property -\n",
    "- year_built: int - See above"
   ]
  },
  {
   "cell_type": "code",
   "execution_count": 79,
   "metadata": {},
   "outputs": [],
   "source": [
    "# Casting year_built column to int\n",
    "property_df = property_df.astype({'year_built': int})"
   ]
  },
  {
   "cell_type": "markdown",
   "metadata": {},
   "source": [
    "## 6. Filtering\n",
    "\n",
    "### Yellow -\n",
    "\n",
    "There are ___ attributes that change the data drastically depending on their value. They are:\n",
    "\n",
    "- ratecode_id: Depending on the `ratecode_id`, the trip data refers to airport trips, group rides or negotiated fare. In an earlier assumption, I posited that shared rides wouldn't have an overt effect on fare / distance / tip, so left that in. However, airport trips and negotiated fares would. They also make up a tiny part of the overall dataset -\n",
    "- payment_type: As this analysis is interested in tips, it has been provided in the data dictionary that tips are only recorded for payment_type = 1. That is, a credit card was used. Other values of payment_type have no tip recorded, and if put into a model, will introduce massive bias\n",
    "- Manual inspection of the data also revealed that "
   ]
  },
  {
   "cell_type": "code",
   "execution_count": 80,
   "metadata": {},
   "outputs": [
    {
     "name": "stderr",
     "output_type": "stream",
     "text": [
      "\r",
      "[Stage 146:================================>                        (4 + 3) / 7]\r",
      "\r",
      "                                                                                \r"
     ]
    },
    {
     "data": {
      "text/html": [
       "<table border='1'>\n",
       "<tr><th>tpep_pickup_datetime</th><th>tpep_dropoff_datetime</th><th>trip_distance</th><th>ratecode_id</th><th>pulocation_id</th><th>dolocation_id</th><th>payment_type</th><th>fare_amount</th><th>tip_amount</th><th>total_amount</th></tr>\n",
       "<tr><td>2022-01-01 00:35:40</td><td>2022-01-01 00:53:29</td><td>3.8</td><td>1.0</td><td>142</td><td>236</td><td>1</td><td>14.5</td><td>3.65</td><td>21.95</td></tr>\n",
       "<tr><td>2022-01-01 00:33:43</td><td>2022-01-01 00:42:07</td><td>2.1</td><td>1.0</td><td>236</td><td>42</td><td>1</td><td>8.0</td><td>4.0</td><td>13.3</td></tr>\n",
       "<tr><td>2022-01-01 00:53:21</td><td>2022-01-01 01:02:19</td><td>0.97</td><td>1.0</td><td>166</td><td>166</td><td>1</td><td>7.5</td><td>1.76</td><td>10.56</td></tr>\n",
       "</table>\n"
      ],
      "text/plain": [
       "+--------------------+---------------------+-------------+-----------+-------------+-------------+------------+-----------+----------+------------+\n",
       "|tpep_pickup_datetime|tpep_dropoff_datetime|trip_distance|ratecode_id|pulocation_id|dolocation_id|payment_type|fare_amount|tip_amount|total_amount|\n",
       "+--------------------+---------------------+-------------+-----------+-------------+-------------+------------+-----------+----------+------------+\n",
       "| 2022-01-01 00:35:40|  2022-01-01 00:53:29|          3.8|        1.0|          142|          236|           1|       14.5|      3.65|       21.95|\n",
       "| 2022-01-01 00:33:43|  2022-01-01 00:42:07|          2.1|        1.0|          236|           42|           1|        8.0|       4.0|        13.3|\n",
       "| 2022-01-01 00:53:21|  2022-01-01 01:02:19|         0.97|        1.0|          166|          166|           1|        7.5|      1.76|       10.56|\n",
       "+--------------------+---------------------+-------------+-----------+-------------+-------------+------------+-----------+----------+------------+"
      ]
     },
     "execution_count": 80,
     "metadata": {},
     "output_type": "execute_result"
    }
   ],
   "source": [
    "yellow.limit(3)"
   ]
  },
  {
   "cell_type": "code",
   "execution_count": 81,
   "metadata": {},
   "outputs": [
    {
     "name": "stdout",
     "output_type": "stream",
     "text": [
      "Full yellow dataset has 12603324 rows\n",
      "\n",
      "ratecode_id = 1 has 11645297 rows\n",
      "ratecode_id = 2 has 97 rows\n",
      "\n"
     ]
    },
    {
     "name": "stderr",
     "output_type": "stream",
     "text": [
      "                                                                                \r"
     ]
    },
    {
     "name": "stdout",
     "output_type": "stream",
     "text": [
      "Filtered yellow dataset has 11645394 rows\n",
      "Should have 11645394 rows\n"
     ]
    },
    {
     "name": "stderr",
     "output_type": "stream",
     "text": [
      "\r",
      "[Stage 170:=======================================>               (10 + 4) / 14]\r",
      "\r",
      "[Stage 170:===================================================>   (13 + 1) / 14]\r"
     ]
    },
    {
     "name": "stdout",
     "output_type": "stream",
     "text": [
      "92.4% of rows retained\n"
     ]
    },
    {
     "name": "stderr",
     "output_type": "stream",
     "text": [
      "\r",
      "                                                                                \r"
     ]
    }
   ],
   "source": [
    "# Filtering relevant rows based on ratecode_id value and overwriting unfiltered yellow dataframe\n",
    "\n",
    "df_1 = yellow.select('*').where(yellow['ratecode_id'] == 1)\n",
    "df_2 = yellow.select('*').where(yellow['ratecode_id'] == 6)\n",
    "\n",
    "original_yellow = yellow.count()\n",
    "\n",
    "print(f'Full yellow dataset has {original_yellow} rows\\n')\n",
    "print(f'ratecode_id = 1 has {df_1.count()} rows')\n",
    "print(f'ratecode_id = 2 has {df_2.count()} rows\\n')\n",
    "\n",
    "yellow = df_1.union(df_2)\n",
    "print(f'Filtered yellow dataset has {yellow.count()} rows')\n",
    "print(f'Should have {df_1.count() + df_2.count()} rows')\n",
    "\n",
    "percentage = yellow.count() / original_yellow\n",
    "print(f'{round(percentage * 100, 2)}% of rows retained')"
   ]
  },
  {
   "cell_type": "code",
   "execution_count": 82,
   "metadata": {},
   "outputs": [
    {
     "name": "stderr",
     "output_type": "stream",
     "text": [
      "\r",
      "[Stage 173:===============================================>       (12 + 2) / 14]\r",
      "\r",
      "                                                                                \r"
     ]
    },
    {
     "name": "stdout",
     "output_type": "stream",
     "text": [
      "payment_type = 1 has 9244848 rows\n"
     ]
    },
    {
     "name": "stderr",
     "output_type": "stream",
     "text": [
      "\r",
      "[Stage 176:===============================================>       (12 + 2) / 14]\r",
      "\r",
      "                                                                                \r"
     ]
    },
    {
     "name": "stdout",
     "output_type": "stream",
     "text": [
      "Filtered yellow has 11645394 rows\n"
     ]
    },
    {
     "name": "stderr",
     "output_type": "stream",
     "text": [
      "[Stage 182:===========================================>           (11 + 3) / 14]\r"
     ]
    },
    {
     "name": "stdout",
     "output_type": "stream",
     "text": [
      "79.39% of rows retained\n"
     ]
    },
    {
     "name": "stderr",
     "output_type": "stream",
     "text": [
      "\r",
      "                                                                                \r"
     ]
    }
   ],
   "source": [
    "df_3 = yellow.select('*').where(yellow['payment_type'] == 1)\n",
    "\n",
    "print(f'payment_type = 1 has {df_3.count()} rows')\n",
    "print(f'Filtered yellow has {yellow.count()} rows')\n",
    "\n",
    "print(f'{round(df_3.count() / yellow.count() * 100, 2)}% of rows retained')\n",
    "\n",
    "yellow = yellow.select('*').where(yellow['payment_type'] == 1)"
   ]
  },
  {
   "cell_type": "code",
   "execution_count": 83,
   "metadata": {
    "scrolled": false
   },
   "outputs": [
    {
     "name": "stderr",
     "output_type": "stream",
     "text": [
      "                                                                                \r"
     ]
    },
    {
     "data": {
      "text/html": [
       "<table border='1'>\n",
       "<tr><th>tpep_pickup_datetime</th><th>tpep_dropoff_datetime</th><th>trip_distance</th><th>ratecode_id</th><th>pulocation_id</th><th>dolocation_id</th><th>payment_type</th><th>fare_amount</th><th>tip_amount</th><th>total_amount</th></tr>\n",
       "<tr><td>2022-01-02 10:34:49</td><td>2022-01-02 10:35:33</td><td>0.0</td><td>1.0</td><td>264</td><td>264</td><td>1</td><td>0.0</td><td>0.0</td><td>0.0</td></tr>\n",
       "<tr><td>2022-01-02 14:19:54</td><td>2022-01-02 14:20:06</td><td>0.0</td><td>1.0</td><td>193</td><td>193</td><td>1</td><td>0.0</td><td>0.0</td><td>0.0</td></tr>\n",
       "<tr><td>2022-01-02 11:36:06</td><td>2022-01-02 11:37:06</td><td>0.0</td><td>1.0</td><td>193</td><td>193</td><td>1</td><td>0.0</td><td>0.0</td><td>0.0</td></tr>\n",
       "<tr><td>2022-01-02 11:11:59</td><td>2022-01-02 11:12:55</td><td>0.0</td><td>1.0</td><td>193</td><td>193</td><td>1</td><td>0.0</td><td>0.0</td><td>0.0</td></tr>\n",
       "<tr><td>2022-01-02 13:39:07</td><td>2022-01-02 13:40:31</td><td>0.0</td><td>1.0</td><td>193</td><td>193</td><td>1</td><td>0.0</td><td>0.0</td><td>0.0</td></tr>\n",
       "<tr><td>2022-01-02 12:07:12</td><td>2022-01-02 12:07:53</td><td>0.0</td><td>1.0</td><td>193</td><td>7</td><td>1</td><td>0.0</td><td>0.0</td><td>0.0</td></tr>\n",
       "<tr><td>2022-01-01 02:46:39</td><td>2022-01-01 03:31:48</td><td>0.0</td><td>1.0</td><td>61</td><td>61</td><td>1</td><td>0.0</td><td>0.0</td><td>0.0</td></tr>\n",
       "<tr><td>2022-01-02 12:33:59</td><td>2022-01-02 12:35:21</td><td>0.0</td><td>1.0</td><td>7</td><td>193</td><td>1</td><td>0.0</td><td>0.0</td><td>0.0</td></tr>\n",
       "<tr><td>2022-01-02 11:04:05</td><td>2022-01-02 11:04:47</td><td>0.0</td><td>1.0</td><td>193</td><td>193</td><td>1</td><td>0.0</td><td>0.0</td><td>0.0</td></tr>\n",
       "<tr><td>2022-01-02 13:56:36</td><td>2022-01-02 13:56:52</td><td>0.0</td><td>1.0</td><td>7</td><td>7</td><td>1</td><td>0.0</td><td>0.0</td><td>0.0</td></tr>\n",
       "</table>\n"
      ],
      "text/plain": [
       "+--------------------+---------------------+-------------+-----------+-------------+-------------+------------+-----------+----------+------------+\n",
       "|tpep_pickup_datetime|tpep_dropoff_datetime|trip_distance|ratecode_id|pulocation_id|dolocation_id|payment_type|fare_amount|tip_amount|total_amount|\n",
       "+--------------------+---------------------+-------------+-----------+-------------+-------------+------------+-----------+----------+------------+\n",
       "| 2022-01-02 10:34:49|  2022-01-02 10:35:33|          0.0|        1.0|          264|          264|           1|        0.0|       0.0|         0.0|\n",
       "| 2022-01-02 14:19:54|  2022-01-02 14:20:06|          0.0|        1.0|          193|          193|           1|        0.0|       0.0|         0.0|\n",
       "| 2022-01-02 11:36:06|  2022-01-02 11:37:06|          0.0|        1.0|          193|          193|           1|        0.0|       0.0|         0.0|\n",
       "| 2022-01-02 11:11:59|  2022-01-02 11:12:55|          0.0|        1.0|          193|          193|           1|        0.0|       0.0|         0.0|\n",
       "| 2022-01-02 13:39:07|  2022-01-02 13:40:31|          0.0|        1.0|          193|          193|           1|        0.0|       0.0|         0.0|\n",
       "| 2022-01-02 12:07:12|  2022-01-02 12:07:53|          0.0|        1.0|          193|            7|           1|        0.0|       0.0|         0.0|\n",
       "| 2022-01-01 02:46:39|  2022-01-01 03:31:48|          0.0|        1.0|           61|           61|           1|        0.0|       0.0|         0.0|\n",
       "| 2022-01-02 12:33:59|  2022-01-02 12:35:21|          0.0|        1.0|            7|          193|           1|        0.0|       0.0|         0.0|\n",
       "| 2022-01-02 11:04:05|  2022-01-02 11:04:47|          0.0|        1.0|          193|          193|           1|        0.0|       0.0|         0.0|\n",
       "| 2022-01-02 13:56:36|  2022-01-02 13:56:52|          0.0|        1.0|            7|            7|           1|        0.0|       0.0|         0.0|\n",
       "+--------------------+---------------------+-------------+-----------+-------------+-------------+------------+-----------+----------+------------+"
      ]
     },
     "metadata": {},
     "output_type": "display_data"
    },
    {
     "name": "stderr",
     "output_type": "stream",
     "text": [
      "                                                                                \r"
     ]
    },
    {
     "name": "stdout",
     "output_type": "stream",
     "text": [
      "After all that, yellow is left with 8933245 rows: 70.88% of original size\n"
     ]
    },
    {
     "name": "stderr",
     "output_type": "stream",
     "text": [
      "\r",
      "[Stage 192:===============================================>       (12 + 2) / 14]\r",
      "\r",
      "                                                                                \r"
     ]
    }
   ],
   "source": [
    "# Negative amount values can be seen. Even for just these 10 rows displayed, if one were to make the argument that a - sign was\n",
    "# input incorrectly, the tip_amount still far outweighs the total_amount in most cases. This is either money laundering or \n",
    "# errors\n",
    "\n",
    "display(yellow.orderBy('total_amount').limit(10))\n",
    "\n",
    "yellow = yellow.select('*').where(yellow['total_amount'] > 0)\n",
    "\n",
    "# Follow similar (real-world) logic to filter out incorrect values for other attributes\n",
    "yellow = yellow.select('*').where(yellow['trip_distance'] > 0)\n",
    "yellow = yellow.select('*').where(yellow['fare_amount'] > 0)\n",
    "yellow = yellow.select('*').where(yellow['tip_amount'] > 0)\n",
    "\n",
    "percentage = round(yellow.count() / original_yellow * 100, 2)\n",
    "print(f'After all that, yellow is left with {yellow.count()} rows: {percentage}% of original size')"
   ]
  },
  {
   "cell_type": "markdown",
   "metadata": {},
   "source": [
    "## 7. Outlier Removal \n",
    "Outliers have to be dealt with appropriately, as they can skew data\n",
    "\n",
    "### Yellow -\n",
    "\n",
    "Since we're dealing with pricing & trip data for taxis, and that approximately 280,000 taxi rides happen each day, I'd say that 280,000 * 30 * 4 is a sufficiently large sample size for the Central Limit Theorem to apply. We're left with just under 9 million rows after filtering, assumption holds\n",
    "\n",
    "Therefore outlier removal won't be overly complex - simply remove whats beyond the IQR for each feature"
   ]
  },
  {
   "cell_type": "markdown",
   "metadata": {},
   "source": [
    "### Property -\n",
    "\n",
    "Outliers were examined and dealt with in _4. Handling of Missing Data_"
   ]
  },
  {
   "cell_type": "markdown",
   "metadata": {},
   "source": [
    "## 5. Unit Conversion\n",
    "\n",
    "- `[pu/do]location_id`: Geometry conversion as covered in Tutorial 2\n",
    "- `trip_distance`: Units are American - convert to metric units\n",
    "- all `fare` quantities are in USD\n",
    "- `gross_sq_feet` would be more interpretable as `gross_sq_metres`"
   ]
  },
  {
   "cell_type": "markdown",
   "metadata": {},
   "source": [
    "### Yellow -"
   ]
  },
  {
   "cell_type": "code",
   "execution_count": 84,
   "metadata": {},
   "outputs": [
    {
     "name": "stderr",
     "output_type": "stream",
     "text": [
      "                                                                                \r"
     ]
    },
    {
     "data": {
      "text/html": [
       "<table border='1'>\n",
       "<tr><th>tpep_pickup_datetime</th><th>tpep_dropoff_datetime</th><th>trip_distance</th><th>ratecode_id</th><th>pulocation_id</th><th>dolocation_id</th><th>payment_type</th><th>fare_amount</th><th>tip_amount</th><th>total_amount</th></tr>\n",
       "<tr><td>2022-01-01 00:35:40</td><td>2022-01-01 00:53:29</td><td>3.8</td><td>1.0</td><td>142</td><td>236</td><td>1</td><td>14.5</td><td>3.65</td><td>21.95</td></tr>\n",
       "</table>\n"
      ],
      "text/plain": [
       "+--------------------+---------------------+-------------+-----------+-------------+-------------+------------+-----------+----------+------------+\n",
       "|tpep_pickup_datetime|tpep_dropoff_datetime|trip_distance|ratecode_id|pulocation_id|dolocation_id|payment_type|fare_amount|tip_amount|total_amount|\n",
       "+--------------------+---------------------+-------------+-----------+-------------+-------------+------------+-----------+----------+------------+\n",
       "| 2022-01-01 00:35:40|  2022-01-01 00:53:29|          3.8|        1.0|          142|          236|           1|       14.5|      3.65|       21.95|\n",
       "+--------------------+---------------------+-------------+-----------+-------------+-------------+------------+-----------+----------+------------+"
      ]
     },
     "execution_count": 84,
     "metadata": {},
     "output_type": "execute_result"
    }
   ],
   "source": [
    "yellow.limit(1)"
   ]
  },
  {
   "cell_type": "code",
   "execution_count": 85,
   "metadata": {},
   "outputs": [],
   "source": [
    "# Converting the PU/DO Location IDs to GEOMETRY\n",
    "\n",
    "#Code attributed to tute2\n",
    "\n",
    "sf = gpd.read_file(\"../raw_data/taxi_zones.shp\")\n",
    "zones = pd.read_csv(\"../raw_data/taxi+_zone_lookup.csv\")\n",
    "\n",
    "sf['geometry'] = sf['geometry'].to_crs(\"+proj=longlat +ellps=WGS84 +datum=WGS84 +no_defs\")"
   ]
  },
  {
   "cell_type": "code",
   "execution_count": 86,
   "metadata": {},
   "outputs": [],
   "source": [
    "gdf = gpd.GeoDataFrame(\n",
    "    pd.merge(zones, sf, on='LocationID', how='inner')\n",
    ")"
   ]
  },
  {
   "cell_type": "code",
   "execution_count": 87,
   "metadata": {},
   "outputs": [
    {
     "name": "stderr",
     "output_type": "stream",
     "text": [
      "                                                                                \r"
     ]
    },
    {
     "data": {
      "text/html": [
       "<table border='1'>\n",
       "<tr><th>tpep_pickup_datetime</th><th>tpep_dropoff_datetime</th><th>trip_distance</th><th>ratecode_id</th><th>pulocation_id</th><th>dolocation_id</th><th>payment_type</th><th>fare_amount</th><th>tip_amount</th><th>total_amount</th></tr>\n",
       "<tr><td>2022-01-01 00:35:40</td><td>2022-01-01 00:53:29</td><td>6.08</td><td>1.0</td><td>142</td><td>236</td><td>1</td><td>14.5</td><td>3.65</td><td>21.95</td></tr>\n",
       "<tr><td>2022-01-01 00:33:43</td><td>2022-01-01 00:42:07</td><td>3.3600000000000003</td><td>1.0</td><td>236</td><td>42</td><td>1</td><td>8.0</td><td>4.0</td><td>13.3</td></tr>\n",
       "<tr><td>2022-01-01 00:53:21</td><td>2022-01-01 01:02:19</td><td>1.552</td><td>1.0</td><td>166</td><td>166</td><td>1</td><td>7.5</td><td>1.76</td><td>10.56</td></tr>\n",
       "</table>\n"
      ],
      "text/plain": [
       "+--------------------+---------------------+------------------+-----------+-------------+-------------+------------+-----------+----------+------------+\n",
       "|tpep_pickup_datetime|tpep_dropoff_datetime|     trip_distance|ratecode_id|pulocation_id|dolocation_id|payment_type|fare_amount|tip_amount|total_amount|\n",
       "+--------------------+---------------------+------------------+-----------+-------------+-------------+------------+-----------+----------+------------+\n",
       "| 2022-01-01 00:35:40|  2022-01-01 00:53:29|              6.08|        1.0|          142|          236|           1|       14.5|      3.65|       21.95|\n",
       "| 2022-01-01 00:33:43|  2022-01-01 00:42:07|3.3600000000000003|        1.0|          236|           42|           1|        8.0|       4.0|        13.3|\n",
       "| 2022-01-01 00:53:21|  2022-01-01 01:02:19|             1.552|        1.0|          166|          166|           1|        7.5|      1.76|       10.56|\n",
       "+--------------------+---------------------+------------------+-----------+-------------+-------------+------------+-----------+----------+------------+"
      ]
     },
     "execution_count": 87,
     "metadata": {},
     "output_type": "execute_result"
    }
   ],
   "source": [
    "# Trip distance: 1.6 miles = 1 km\n",
    "\n",
    "yellow = yellow.withColumn('trip_distance', yellow['trip_distance'] * 1.6)\n",
    "yellow.limit(3)"
   ]
  },
  {
   "cell_type": "markdown",
   "metadata": {},
   "source": [
    "### Fare:\n",
    "USD -> AUD for interpretability\n",
    "Using current FX rates at time of writing this. Will be slightly different, but an incorrect / outdated conversion rate wouldn't affect results of study\n",
    "\n",
    "Current conversion rate: 1 USD = 1.44 AUD"
   ]
  },
  {
   "cell_type": "code",
   "execution_count": 88,
   "metadata": {},
   "outputs": [],
   "source": [
    "yellow = yellow.withColumn('total_amount', yellow['total_amount'] * 1.44)\n",
    "yellow = yellow.withColumn('fare_amount', yellow['fare_amount'] * 1.44)\n",
    "yellow = yellow.withColumn('tip_amount', yellow['tip_amount'] * 1.44)"
   ]
  },
  {
   "cell_type": "markdown",
   "metadata": {},
   "source": [
    "## Property -"
   ]
  },
  {
   "cell_type": "code",
   "execution_count": 89,
   "metadata": {},
   "outputs": [],
   "source": [
    "# 1 gross square foot = 0.09290304 metres sq\n",
    "property_df['gross_sq_metres'] = property_df['gross_sq_feet'].apply(lambda x: x * 0.09290304)\n",
    "property_df = property_df.drop(columns = ['gross_sq_feet'])"
   ]
  },
  {
   "cell_type": "code",
   "execution_count": 90,
   "metadata": {},
   "outputs": [],
   "source": [
    "# Isolating the Building Class tag (number) so that it can be easily visualized / one-hot-encoded later\n",
    "\n",
    "property_df['building_class'] = property_df['building_class'].str[0:3]"
   ]
  },
  {
   "cell_type": "markdown",
   "metadata": {},
   "source": [
    "## Borough\n",
    "\n",
    "Numbers to borough name"
   ]
  },
  {
   "cell_type": "markdown",
   "metadata": {},
   "source": [
    "1 = manhattan\n",
    "2 = bronx\n",
    "3 = brooklyn\n",
    "4 = queens\n",
    "5 = staten_island"
   ]
  },
  {
   "cell_type": "code",
   "execution_count": 91,
   "metadata": {},
   "outputs": [],
   "source": [
    "property_df['borough'] = property_df['borough'].astype('str')"
   ]
  },
  {
   "cell_type": "code",
   "execution_count": 92,
   "metadata": {},
   "outputs": [],
   "source": [
    "property_df['borough'] = property_df['borough'].str.replace('1','manhattan')\n",
    "property_df['borough'] = property_df['borough'].str.replace('2','bronx')\n",
    "property_df['borough'] = property_df['borough'].str.replace('3','brooklyn')\n",
    "property_df['borough'] = property_df['borough'].str.replace('4','queens')\n",
    "property_df['borough'] = property_df['borough'].str.replace('5','staten_island')"
   ]
  },
  {
   "cell_type": "code",
   "execution_count": 93,
   "metadata": {},
   "outputs": [
    {
     "data": {
      "text/html": [
       "<div>\n",
       "<style scoped>\n",
       "    .dataframe tbody tr th:only-of-type {\n",
       "        vertical-align: middle;\n",
       "    }\n",
       "\n",
       "    .dataframe tbody tr th {\n",
       "        vertical-align: top;\n",
       "    }\n",
       "\n",
       "    .dataframe thead th {\n",
       "        text-align: right;\n",
       "    }\n",
       "</style>\n",
       "<table border=\"1\" class=\"dataframe\">\n",
       "  <thead>\n",
       "    <tr style=\"text-align: right;\">\n",
       "      <th></th>\n",
       "      <th>borough</th>\n",
       "      <th>neighbourhood</th>\n",
       "      <th>building_class</th>\n",
       "      <th>year_built</th>\n",
       "      <th>sale_price</th>\n",
       "      <th>gross_sq_metres</th>\n",
       "    </tr>\n",
       "  </thead>\n",
       "  <tbody>\n",
       "    <tr>\n",
       "      <th>0</th>\n",
       "      <td>bronx</td>\n",
       "      <td>BATHGATE</td>\n",
       "      <td>01</td>\n",
       "      <td>1952</td>\n",
       "      <td>720000</td>\n",
       "      <td>261.986573</td>\n",
       "    </tr>\n",
       "    <tr>\n",
       "      <th>1</th>\n",
       "      <td>bronx</td>\n",
       "      <td>BATHGATE</td>\n",
       "      <td>01</td>\n",
       "      <td>1910</td>\n",
       "      <td>499999</td>\n",
       "      <td>117.057830</td>\n",
       "    </tr>\n",
       "    <tr>\n",
       "      <th>2</th>\n",
       "      <td>bronx</td>\n",
       "      <td>BATHGATE</td>\n",
       "      <td>01</td>\n",
       "      <td>1910</td>\n",
       "      <td>599000</td>\n",
       "      <td>120.402340</td>\n",
       "    </tr>\n",
       "    <tr>\n",
       "      <th>3</th>\n",
       "      <td>bronx</td>\n",
       "      <td>BATHGATE</td>\n",
       "      <td>01</td>\n",
       "      <td>1910</td>\n",
       "      <td>455000</td>\n",
       "      <td>120.402340</td>\n",
       "    </tr>\n",
       "    <tr>\n",
       "      <th>4</th>\n",
       "      <td>bronx</td>\n",
       "      <td>BATHGATE</td>\n",
       "      <td>01</td>\n",
       "      <td>1899</td>\n",
       "      <td>540000</td>\n",
       "      <td>150.688731</td>\n",
       "    </tr>\n",
       "    <tr>\n",
       "      <th>...</th>\n",
       "      <td>...</td>\n",
       "      <td>...</td>\n",
       "      <td>...</td>\n",
       "      <td>...</td>\n",
       "      <td>...</td>\n",
       "      <td>...</td>\n",
       "    </tr>\n",
       "    <tr>\n",
       "      <th>8959</th>\n",
       "      <td>staten_island</td>\n",
       "      <td>WOODROW</td>\n",
       "      <td>02</td>\n",
       "      <td>2001</td>\n",
       "      <td>618000</td>\n",
       "      <td>238.296298</td>\n",
       "    </tr>\n",
       "    <tr>\n",
       "      <th>8960</th>\n",
       "      <td>staten_island</td>\n",
       "      <td>WOODROW</td>\n",
       "      <td>05</td>\n",
       "      <td>1953</td>\n",
       "      <td>1000</td>\n",
       "      <td>0.000000</td>\n",
       "    </tr>\n",
       "    <tr>\n",
       "      <th>8961</th>\n",
       "      <td>staten_island</td>\n",
       "      <td>WOODROW</td>\n",
       "      <td>05</td>\n",
       "      <td>1953</td>\n",
       "      <td>40000</td>\n",
       "      <td>0.000000</td>\n",
       "    </tr>\n",
       "    <tr>\n",
       "      <th>8962</th>\n",
       "      <td>staten_island</td>\n",
       "      <td>WOODROW</td>\n",
       "      <td>05</td>\n",
       "      <td>1953</td>\n",
       "      <td>2000</td>\n",
       "      <td>0.000000</td>\n",
       "    </tr>\n",
       "    <tr>\n",
       "      <th>8963</th>\n",
       "      <td>staten_island</td>\n",
       "      <td>WOODROW</td>\n",
       "      <td>21</td>\n",
       "      <td>2000</td>\n",
       "      <td>1600000</td>\n",
       "      <td>779.921021</td>\n",
       "    </tr>\n",
       "  </tbody>\n",
       "</table>\n",
       "<p>98525 rows × 6 columns</p>\n",
       "</div>"
      ],
      "text/plain": [
       "            borough neighbourhood building_class  year_built  sale_price  \\\n",
       "0             bronx      BATHGATE            01         1952      720000   \n",
       "1             bronx      BATHGATE            01         1910      499999   \n",
       "2             bronx      BATHGATE            01         1910      599000   \n",
       "3             bronx      BATHGATE            01         1910      455000   \n",
       "4             bronx      BATHGATE            01         1899      540000   \n",
       "...             ...           ...            ...         ...         ...   \n",
       "8959  staten_island       WOODROW            02         2001      618000   \n",
       "8960  staten_island       WOODROW            05         1953        1000   \n",
       "8961  staten_island       WOODROW            05         1953       40000   \n",
       "8962  staten_island       WOODROW            05         1953        2000   \n",
       "8963  staten_island       WOODROW            21         2000     1600000   \n",
       "\n",
       "      gross_sq_metres  \n",
       "0          261.986573  \n",
       "1          117.057830  \n",
       "2          120.402340  \n",
       "3          120.402340  \n",
       "4          150.688731  \n",
       "...               ...  \n",
       "8959       238.296298  \n",
       "8960         0.000000  \n",
       "8961         0.000000  \n",
       "8962         0.000000  \n",
       "8963       779.921021  \n",
       "\n",
       "[98525 rows x 6 columns]"
      ]
     },
     "execution_count": 93,
     "metadata": {},
     "output_type": "execute_result"
    }
   ],
   "source": [
    "property_df"
   ]
  },
  {
   "cell_type": "markdown",
   "metadata": {},
   "source": [
    "# Last adjustments to data to prepare for model"
   ]
  },
  {
   "cell_type": "markdown",
   "metadata": {},
   "source": [
    "# Saving the clean data as new parquet files\n",
    "\n",
    "## Need it in pandas / df"
   ]
  },
  {
   "cell_type": "code",
   "execution_count": 94,
   "metadata": {},
   "outputs": [],
   "source": [
    "import os"
   ]
  },
  {
   "cell_type": "code",
   "execution_count": 95,
   "metadata": {},
   "outputs": [],
   "source": [
    "output_relative_dir = '../raw_data/'\n",
    "target_dir = 'clean_data/'\n",
    "if not os.path.exists(output_relative_dir + target_dir):\n",
    "    os.makedirs(output_relative_dir + target_dir)"
   ]
  },
  {
   "cell_type": "markdown",
   "metadata": {},
   "source": [
    "# Yellow -"
   ]
  },
  {
   "cell_type": "code",
   "execution_count": 96,
   "metadata": {},
   "outputs": [
    {
     "name": "stderr",
     "output_type": "stream",
     "text": [
      "                                                                                \r"
     ]
    }
   ],
   "source": [
    "yellow.write.parquet('../clean_data/yellow_clean.parquet')"
   ]
  },
  {
   "cell_type": "code",
   "execution_count": 100,
   "metadata": {},
   "outputs": [
    {
     "data": {
      "text/plain": [
       "pyspark.sql.dataframe.DataFrame"
      ]
     },
     "execution_count": 100,
     "metadata": {},
     "output_type": "execute_result"
    }
   ],
   "source": [
    "type(yellow)"
   ]
  },
  {
   "cell_type": "code",
   "execution_count": 101,
   "metadata": {},
   "outputs": [],
   "source": [
    "test = spark.read.parquet('../clean_data/yellow_clean.parquet')"
   ]
  },
  {
   "cell_type": "markdown",
   "metadata": {},
   "source": [
    "# Property -"
   ]
  },
  {
   "cell_type": "code",
   "execution_count": 97,
   "metadata": {
    "scrolled": false
   },
   "outputs": [],
   "source": [
    "property_df.to_parquet('../clean_data/property_clean.parquet')"
   ]
  },
  {
   "cell_type": "markdown",
   "metadata": {},
   "source": [
    "## GDF -"
   ]
  },
  {
   "cell_type": "code",
   "execution_count": 98,
   "metadata": {},
   "outputs": [],
   "source": [
    "gdf.to_csv('../clean_data/gdf.csv')"
   ]
  },
  {
   "cell_type": "code",
   "execution_count": 99,
   "metadata": {},
   "outputs": [
    {
     "name": "stdout",
     "output_type": "stream",
     "text": [
      "This notebook took 0:04:57.674220 to run.\n",
      "This notebook took 4.96 minutes to run.\n"
     ]
    }
   ],
   "source": [
    "t2 = datetime.now()\n",
    "\n",
    "time_taken = t2 - t1\n",
    "print(f'This notebook took {time_taken} to run.')\n",
    "minutes_taken = round(time_taken.total_seconds() / 60, 2)\n",
    "print(f'This notebook took {minutes_taken} minutes to run.')"
   ]
  },
  {
   "cell_type": "code",
   "execution_count": null,
   "metadata": {},
   "outputs": [],
   "source": []
  }
 ],
 "metadata": {
  "kernelspec": {
   "display_name": "Python 3 (ipykernel)",
   "language": "python",
   "name": "python3"
  },
  "language_info": {
   "codemirror_mode": {
    "name": "ipython",
    "version": 3
   },
   "file_extension": ".py",
   "mimetype": "text/x-python",
   "name": "python",
   "nbconvert_exporter": "python",
   "pygments_lexer": "ipython3",
   "version": "3.8.10"
  },
  "vscode": {
   "interpreter": {
    "hash": "916dbcbb3f70747c44a77c7bcd40155683ae19c65e1c03b4aa3499c5328201f1"
   }
  }
 },
 "nbformat": 4,
 "nbformat_minor": 2
}
