{
 "cells": [
  {
   "cell_type": "code",
   "execution_count": 2,
   "metadata": {},
   "outputs": [],
   "source": [
    "import pyspark"
   ]
  },
  {
   "cell_type": "code",
   "execution_count": 15,
   "metadata": {},
   "outputs": [],
   "source": [
    "from pyspark.sql import SparkSession, functions as F"
   ]
  },
  {
   "cell_type": "code",
   "execution_count": 3,
   "metadata": {},
   "outputs": [
    {
     "name": "stdout",
     "output_type": "stream",
     "text": [
      "22/08/07 16:29:17 WARN Utils: Your hostname, DESKTOP-INRF453 resolves to a loopback address: 127.0.1.1; using 172.26.66.126 instead (on interface eth0)\n",
      "22/08/07 16:29:17 WARN Utils: Set SPARK_LOCAL_IP if you need to bind to another address\n"
     ]
    },
    {
     "name": "stderr",
     "output_type": "stream",
     "text": [
      "Setting default log level to \"WARN\".\n",
      "To adjust logging level use sc.setLogLevel(newLevel). For SparkR, use setLogLevel(newLevel).\n"
     ]
    },
    {
     "name": "stdout",
     "output_type": "stream",
     "text": [
      "22/08/07 16:29:19 WARN NativeCodeLoader: Unable to load native-hadoop library for your platform... using builtin-java classes where applicable\n"
     ]
    }
   ],
   "source": [
    "spark = (\n",
    "    SparkSession.builder.appName(\"MAST30034 Tutorial 1\")\n",
    "    .config(\"spark.sql.repl.eagerEval.enabled\", True) \n",
    "    .config(\"spark.sql.parquet.cacheMetadata\", \"true\")\n",
    "    .getOrCreate()\n",
    ")"
   ]
  },
  {
   "cell_type": "code",
   "execution_count": 6,
   "metadata": {},
   "outputs": [],
   "source": [
    "sdf = spark.read.parquet('../../ADS_Project_1/raw_data/tlc_data')"
   ]
  },
  {
   "cell_type": "code",
   "execution_count": 7,
   "metadata": {},
   "outputs": [
    {
     "name": "stderr",
     "output_type": "stream",
     "text": [
      "                                                                                \r"
     ]
    },
    {
     "data": {
      "text/html": [
       "<table border='1'>\n",
       "<tr><th>VendorID</th><th>tpep_pickup_datetime</th><th>tpep_dropoff_datetime</th><th>passenger_count</th><th>trip_distance</th><th>RatecodeID</th><th>store_and_fwd_flag</th><th>PULocationID</th><th>DOLocationID</th><th>payment_type</th><th>fare_amount</th><th>extra</th><th>mta_tax</th><th>tip_amount</th><th>tolls_amount</th><th>improvement_surcharge</th><th>total_amount</th><th>congestion_surcharge</th><th>airport_fee</th></tr>\n",
       "<tr><td>1</td><td>2022-03-01 11:13:08</td><td>2022-03-01 11:24:35</td><td>1.0</td><td>2.4</td><td>1.0</td><td>N</td><td>90</td><td>209</td><td>2</td><td>10.0</td><td>3.0</td><td>0.5</td><td>0.0</td><td>0.0</td><td>0.3</td><td>13.8</td><td>2.5</td><td>0.0</td></tr>\n",
       "<tr><td>1</td><td>2022-03-01 11:47:52</td><td>2022-03-01 12:00:08</td><td>1.0</td><td>2.2</td><td>1.0</td><td>N</td><td>148</td><td>234</td><td>2</td><td>10.5</td><td>3.0</td><td>0.5</td><td>0.0</td><td>0.0</td><td>0.3</td><td>14.3</td><td>2.5</td><td>0.0</td></tr>\n",
       "<tr><td>2</td><td>2022-03-01 11:02:46</td><td>2022-03-01 11:46:43</td><td>1.0</td><td>19.78</td><td>2.0</td><td>N</td><td>132</td><td>249</td><td>1</td><td>52.0</td><td>0.0</td><td>0.5</td><td>11.06</td><td>0.0</td><td>0.3</td><td>67.61</td><td>2.5</td><td>1.25</td></tr>\n",
       "<tr><td>2</td><td>2022-03-01 11:52:43</td><td>2022-03-01 12:03:40</td><td>2.0</td><td>2.94</td><td>1.0</td><td>N</td><td>211</td><td>66</td><td>1</td><td>11.0</td><td>0.5</td><td>0.5</td><td>4.44</td><td>0.0</td><td>0.3</td><td>19.24</td><td>2.5</td><td>0.0</td></tr>\n",
       "<tr><td>2</td><td>2022-03-01 11:15:35</td><td>2022-03-01 11:34:13</td><td>1.0</td><td>8.57</td><td>1.0</td><td>N</td><td>138</td><td>197</td><td>1</td><td>25.0</td><td>0.5</td><td>0.5</td><td>5.51</td><td>0.0</td><td>0.3</td><td>33.06</td><td>0.0</td><td>1.25</td></tr>\n",
       "<tr><td>1</td><td>2022-03-01 11:11:57</td><td>2022-03-01 11:53:05</td><td>2.0</td><td>14.0</td><td>1.0</td><td>N</td><td>132</td><td>33</td><td>1</td><td>43.5</td><td>1.75</td><td>0.5</td><td>9.2</td><td>0.0</td><td>0.3</td><td>55.25</td><td>0.0</td><td>1.25</td></tr>\n",
       "<tr><td>2</td><td>2022-03-01 11:05:11</td><td>2022-03-01 11:08:22</td><td>1.0</td><td>0.61</td><td>1.0</td><td>N</td><td>166</td><td>151</td><td>1</td><td>4.5</td><td>0.5</td><td>0.5</td><td>1.0</td><td>0.0</td><td>0.3</td><td>6.8</td><td>0.0</td><td>0.0</td></tr>\n",
       "<tr><td>2</td><td>2022-03-01 11:30:56</td><td>2022-03-01 11:46:21</td><td>1.0</td><td>2.83</td><td>1.0</td><td>N</td><td>74</td><td>238</td><td>1</td><td>13.0</td><td>0.5</td><td>0.5</td><td>3.7</td><td>0.0</td><td>0.3</td><td>18.0</td><td>0.0</td><td>0.0</td></tr>\n",
       "<tr><td>2</td><td>2022-03-01 11:30:28</td><td>2022-03-01 11:30:36</td><td>1.0</td><td>0.1</td><td>1.0</td><td>N</td><td>145</td><td>145</td><td>3</td><td>-2.5</td><td>-0.5</td><td>-0.5</td><td>0.0</td><td>0.0</td><td>-0.3</td><td>-3.8</td><td>0.0</td><td>0.0</td></tr>\n",
       "<tr><td>2</td><td>2022-03-01 11:30:28</td><td>2022-03-01 11:30:36</td><td>1.0</td><td>0.1</td><td>1.0</td><td>N</td><td>145</td><td>145</td><td>2</td><td>2.5</td><td>0.5</td><td>0.5</td><td>0.0</td><td>0.0</td><td>0.3</td><td>3.8</td><td>0.0</td><td>0.0</td></tr>\n",
       "</table>\n"
      ],
      "text/plain": [
       "+--------+--------------------+---------------------+---------------+-------------+----------+------------------+------------+------------+------------+-----------+-----+-------+----------+------------+---------------------+------------+--------------------+-----------+\n",
       "|VendorID|tpep_pickup_datetime|tpep_dropoff_datetime|passenger_count|trip_distance|RatecodeID|store_and_fwd_flag|PULocationID|DOLocationID|payment_type|fare_amount|extra|mta_tax|tip_amount|tolls_amount|improvement_surcharge|total_amount|congestion_surcharge|airport_fee|\n",
       "+--------+--------------------+---------------------+---------------+-------------+----------+------------------+------------+------------+------------+-----------+-----+-------+----------+------------+---------------------+------------+--------------------+-----------+\n",
       "|       1| 2022-03-01 11:13:08|  2022-03-01 11:24:35|            1.0|          2.4|       1.0|                 N|          90|         209|           2|       10.0|  3.0|    0.5|       0.0|         0.0|                  0.3|        13.8|                 2.5|        0.0|\n",
       "|       1| 2022-03-01 11:47:52|  2022-03-01 12:00:08|            1.0|          2.2|       1.0|                 N|         148|         234|           2|       10.5|  3.0|    0.5|       0.0|         0.0|                  0.3|        14.3|                 2.5|        0.0|\n",
       "|       2| 2022-03-01 11:02:46|  2022-03-01 11:46:43|            1.0|        19.78|       2.0|                 N|         132|         249|           1|       52.0|  0.0|    0.5|     11.06|         0.0|                  0.3|       67.61|                 2.5|       1.25|\n",
       "|       2| 2022-03-01 11:52:43|  2022-03-01 12:03:40|            2.0|         2.94|       1.0|                 N|         211|          66|           1|       11.0|  0.5|    0.5|      4.44|         0.0|                  0.3|       19.24|                 2.5|        0.0|\n",
       "|       2| 2022-03-01 11:15:35|  2022-03-01 11:34:13|            1.0|         8.57|       1.0|                 N|         138|         197|           1|       25.0|  0.5|    0.5|      5.51|         0.0|                  0.3|       33.06|                 0.0|       1.25|\n",
       "|       1| 2022-03-01 11:11:57|  2022-03-01 11:53:05|            2.0|         14.0|       1.0|                 N|         132|          33|           1|       43.5| 1.75|    0.5|       9.2|         0.0|                  0.3|       55.25|                 0.0|       1.25|\n",
       "|       2| 2022-03-01 11:05:11|  2022-03-01 11:08:22|            1.0|         0.61|       1.0|                 N|         166|         151|           1|        4.5|  0.5|    0.5|       1.0|         0.0|                  0.3|         6.8|                 0.0|        0.0|\n",
       "|       2| 2022-03-01 11:30:56|  2022-03-01 11:46:21|            1.0|         2.83|       1.0|                 N|          74|         238|           1|       13.0|  0.5|    0.5|       3.7|         0.0|                  0.3|        18.0|                 0.0|        0.0|\n",
       "|       2| 2022-03-01 11:30:28|  2022-03-01 11:30:36|            1.0|          0.1|       1.0|                 N|         145|         145|           3|       -2.5| -0.5|   -0.5|       0.0|         0.0|                 -0.3|        -3.8|                 0.0|        0.0|\n",
       "|       2| 2022-03-01 11:30:28|  2022-03-01 11:30:36|            1.0|          0.1|       1.0|                 N|         145|         145|           2|        2.5|  0.5|    0.5|       0.0|         0.0|                  0.3|         3.8|                 0.0|        0.0|\n",
       "+--------+--------------------+---------------------+---------------+-------------+----------+------------------+------------+------------+------------+-----------+-----+-------+----------+------------+---------------------+------------+--------------------+-----------+"
      ]
     },
     "execution_count": 7,
     "metadata": {},
     "output_type": "execute_result"
    }
   ],
   "source": [
    "sdf.limit(10)"
   ]
  },
  {
   "cell_type": "code",
   "execution_count": 8,
   "metadata": {},
   "outputs": [
    {
     "name": "stdout",
     "output_type": "stream",
     "text": [
      "root\n",
      " |-- VendorID: long (nullable = true)\n",
      " |-- tpep_pickup_datetime: timestamp (nullable = true)\n",
      " |-- tpep_dropoff_datetime: timestamp (nullable = true)\n",
      " |-- passenger_count: double (nullable = true)\n",
      " |-- trip_distance: double (nullable = true)\n",
      " |-- RatecodeID: double (nullable = true)\n",
      " |-- store_and_fwd_flag: string (nullable = true)\n",
      " |-- PULocationID: long (nullable = true)\n",
      " |-- DOLocationID: long (nullable = true)\n",
      " |-- payment_type: long (nullable = true)\n",
      " |-- fare_amount: double (nullable = true)\n",
      " |-- extra: double (nullable = true)\n",
      " |-- mta_tax: double (nullable = true)\n",
      " |-- tip_amount: double (nullable = true)\n",
      " |-- tolls_amount: double (nullable = true)\n",
      " |-- improvement_surcharge: double (nullable = true)\n",
      " |-- total_amount: double (nullable = true)\n",
      " |-- congestion_surcharge: double (nullable = true)\n",
      " |-- airport_fee: double (nullable = true)\n",
      "\n"
     ]
    }
   ],
   "source": [
    "sdf.printSchema()"
   ]
  },
  {
   "cell_type": "markdown",
   "metadata": {},
   "source": [
    "# Preprocessing Steps -\n",
    "\n",
    "\n",
    "## 1. Typecasting\n",
    "Making sure that all columns are appropriately typed\n",
    "\n",
    "## 2. Getting rid of unrelated data (as per Data Dictionary)\n",
    "We won't care about some fields for the purposes of our analysis, so need to drop them\n",
    "\n",
    "## 3. Handling of Missing Values\n",
    "If NaN / null values are present, need to deal with them appropriately - imputation, deletion, etc\n",
    "\n",
    "## 4. Outlier Removal / Analysis\n",
    "Outliers have to be dealt with appropriately, as they can skew data\n"
   ]
  },
  {
   "cell_type": "markdown",
   "metadata": {},
   "source": [
    "### Typecasting\n",
    "\n",
    "There are several columns that we need to adjust the type for. They'll be listed below with their justifications\n",
    "- VendorID: Inspection of the data revealed that this only takes integer values, so it should be changed to an int\n",
    "- passenger_count: Should be changed to int since # of people is an integer\n",
    "- RatecodeID: Similar to VendorID"
   ]
  },
  {
   "cell_type": "code",
   "execution_count": 13,
   "metadata": {},
   "outputs": [
    {
     "name": "stdout",
     "output_type": "stream",
     "text": [
      "+---------------+\n",
      "|passenger_count|\n",
      "+---------------+\n",
      "|            8.0|\n",
      "|            0.0|\n",
      "|            7.0|\n",
      "|           null|\n",
      "|            1.0|\n",
      "|            4.0|\n",
      "|            3.0|\n",
      "|            2.0|\n",
      "|            6.0|\n",
      "|            5.0|\n",
      "|            9.0|\n",
      "+---------------+\n",
      "\n"
     ]
    }
   ],
   "source": [
    "# I want to check if any taxi drivers have reported half a person -\n",
    "columns = ['passenger_count']\n",
    "for column in columns:\n",
    "    sdf.select(column).distinct().show()\n",
    "    \n",
    "# Can confirm that only integers are reported"
   ]
  },
  {
   "cell_type": "markdown",
   "metadata": {},
   "source": [
    "# How come this code doesn't work?\n",
    "\n",
    "sdf.select(column).distinct().show()"
   ]
  },
  {
   "cell_type": "code",
   "execution_count": 16,
   "metadata": {},
   "outputs": [],
   "source": [
    "columns = ['VendorID', 'passenger_count', 'RatecodeID']\n",
    "for column in columns:\n",
    "    sdf = sdf.withColumn(\n",
    "        column,\n",
    "        F.col(column).astype('INT')\n",
    "    )"
   ]
  },
  {
   "cell_type": "code",
   "execution_count": 17,
   "metadata": {},
   "outputs": [
    {
     "name": "stdout",
     "output_type": "stream",
     "text": [
      "root\n",
      " |-- VendorID: integer (nullable = true)\n",
      " |-- tpep_pickup_datetime: timestamp (nullable = true)\n",
      " |-- tpep_dropoff_datetime: timestamp (nullable = true)\n",
      " |-- passenger_count: integer (nullable = true)\n",
      " |-- trip_distance: double (nullable = true)\n",
      " |-- RatecodeID: integer (nullable = true)\n",
      " |-- store_and_fwd_flag: string (nullable = true)\n",
      " |-- PULocationID: long (nullable = true)\n",
      " |-- DOLocationID: long (nullable = true)\n",
      " |-- payment_type: long (nullable = true)\n",
      " |-- fare_amount: double (nullable = true)\n",
      " |-- extra: double (nullable = true)\n",
      " |-- mta_tax: double (nullable = true)\n",
      " |-- tip_amount: double (nullable = true)\n",
      " |-- tolls_amount: double (nullable = true)\n",
      " |-- improvement_surcharge: double (nullable = true)\n",
      " |-- total_amount: double (nullable = true)\n",
      " |-- congestion_surcharge: double (nullable = true)\n",
      " |-- airport_fee: double (nullable = true)\n",
      "\n"
     ]
    }
   ],
   "source": [
    "sdf.printSchema()"
   ]
  },
  {
   "cell_type": "markdown",
   "metadata": {},
   "source": [
    "### Converting PU/DOLocation to Geometry \n",
    "Code attributed to tute2"
   ]
  },
  {
   "cell_type": "code",
   "execution_count": 21,
   "metadata": {},
   "outputs": [
    {
     "name": "stderr",
     "output_type": "stream",
     "text": [
      "                                                                                \r"
     ]
    },
    {
     "data": {
      "text/html": [
       "<table border='1'>\n",
       "<tr><th>min(fare_amount)</th></tr>\n",
       "<tr><td>-2564.0</td></tr>\n",
       "</table>\n"
      ],
      "text/plain": [
       "+----------------+\n",
       "|min(fare_amount)|\n",
       "+----------------+\n",
       "|         -2564.0|\n",
       "+----------------+"
      ]
     },
     "execution_count": 21,
     "metadata": {},
     "output_type": "execute_result"
    }
   ],
   "source": [
    "sdf.select(F.min('fare_amount'))"
   ]
  },
  {
   "cell_type": "code",
   "execution_count": null,
   "metadata": {},
   "outputs": [],
   "source": [
    "aggregated_results = sdf \\\n",
    "                    .groupBy(\"passenger_count\") \\\n",
    "                    .agg(\n",
    "                        F.mean(\"total_amount\").alias(\"avg_trip_amount_usd\"),\n",
    "                        F.max(\"trip_distance\").alias(\"max_trip_distance_miles\")\n",
    "                    ) \\\n",
    "                    .orderBy(\"passenger_count\")\n",
    "\n",
    "aggregated_results.show()"
   ]
  }
 ],
 "metadata": {
  "kernelspec": {
   "display_name": "Python 3 (ipykernel)",
   "language": "python",
   "name": "python3"
  },
  "language_info": {
   "codemirror_mode": {
    "name": "ipython",
    "version": 3
   },
   "file_extension": ".py",
   "mimetype": "text/x-python",
   "name": "python",
   "nbconvert_exporter": "python",
   "pygments_lexer": "ipython3",
   "version": "3.8.10"
  },
  "vscode": {
   "interpreter": {
    "hash": "916dbcbb3f70747c44a77c7bcd40155683ae19c65e1c03b4aa3499c5328201f1"
   }
  }
 },
 "nbformat": 4,
 "nbformat_minor": 2
}
