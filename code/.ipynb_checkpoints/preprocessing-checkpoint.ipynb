{
 "cells": [
  {
   "cell_type": "code",
   "execution_count": 1,
   "metadata": {},
   "outputs": [],
   "source": [
    "import pyspark\n",
    "import pandas as pd"
   ]
  },
  {
   "cell_type": "code",
   "execution_count": 2,
   "metadata": {},
   "outputs": [],
   "source": [
    "from pyspark.sql import SparkSession, functions as f"
   ]
  },
  {
   "cell_type": "code",
   "execution_count": 3,
   "metadata": {},
   "outputs": [
    {
     "name": "stdout",
     "output_type": "stream",
     "text": [
      "22/08/26 00:38:19 WARN Utils: Your hostname, DESKTOP-4QJNQQU resolves to a loopback address: 127.0.1.1; using 172.17.224.94 instead (on interface eth0)\n",
      "22/08/26 00:38:19 WARN Utils: Set SPARK_LOCAL_IP if you need to bind to another address\n"
     ]
    },
    {
     "name": "stderr",
     "output_type": "stream",
     "text": [
      "Setting default log level to \"WARN\".\n",
      "To adjust logging level use sc.setLogLevel(newLevel). For SparkR, use setLogLevel(newLevel).\n"
     ]
    },
    {
     "name": "stdout",
     "output_type": "stream",
     "text": [
      "22/08/26 00:38:21 WARN NativeCodeLoader: Unable to load native-hadoop library for your platform... using builtin-java classes where applicable\n"
     ]
    }
   ],
   "source": [
    "spark = (\n",
    "    SparkSession.builder.appName(\"MAST30034 Tutorial 1\")\n",
    "    .config(\"spark.sql.repl.eagerEval.enabled\", True) \n",
    "    .config(\"spark.sql.parquet.cacheMetadata\", \"true\")\n",
    "    .config(\"spark.sql.session.timeZone\", \"Etc/UTC\")\n",
    "    .config(\"spark.executor.memory\", \"2g\")\n",
    "    .config(\"spark.driver.memory\", \"4g\")\n",
    "    .getOrCreate()\n",
    ")"
   ]
  },
  {
   "cell_type": "markdown",
   "metadata": {},
   "source": [
    "# Inspecting the Yellow dataset"
   ]
  },
  {
   "cell_type": "code",
   "execution_count": null,
   "metadata": {},
   "outputs": [],
   "source": []
  },
  {
   "cell_type": "markdown",
   "metadata": {},
   "source": [
    "# Inspecting HVFHV dataset "
   ]
  },
  {
   "cell_type": "code",
   "execution_count": 4,
   "metadata": {},
   "outputs": [
    {
     "name": "stderr",
     "output_type": "stream",
     "text": [
      "                                                                                \r"
     ]
    },
    {
     "data": {
      "text/html": [
       "<table border='1'>\n",
       "<tr><th>hvfhs_license_num</th><th>dispatching_base_num</th><th>originating_base_num</th><th>request_datetime</th><th>on_scene_datetime</th><th>pickup_datetime</th><th>dropoff_datetime</th><th>PULocationID</th><th>DOLocationID</th><th>trip_miles</th><th>trip_time</th><th>base_passenger_fare</th><th>tolls</th><th>bcf</th><th>sales_tax</th><th>congestion_surcharge</th><th>airport_fee</th><th>tips</th><th>driver_pay</th><th>shared_request_flag</th><th>shared_match_flag</th><th>access_a_ride_flag</th><th>wav_request_flag</th><th>wav_match_flag</th></tr>\n",
       "<tr><td>HV0003</td><td>B03404</td><td>B03404</td><td>2022-01-01 00:05:31</td><td>2022-01-01 00:05:40</td><td>2022-01-01 00:07:24</td><td>2022-01-01 00:18:28</td><td>170</td><td>161</td><td>1.18</td><td>664</td><td>24.9</td><td>0.0</td><td>0.75</td><td>2.21</td><td>2.75</td><td>0.0</td><td>0.0</td><td>23.03</td><td>N</td><td>N</td><td> </td><td>N</td><td>N</td></tr>\n",
       "<tr><td>HV0003</td><td>B03404</td><td>B03404</td><td>2022-01-01 00:19:27</td><td>2022-01-01 00:22:08</td><td>2022-01-01 00:22:32</td><td>2022-01-01 00:30:12</td><td>237</td><td>161</td><td>0.82</td><td>460</td><td>11.97</td><td>0.0</td><td>0.36</td><td>1.06</td><td>2.75</td><td>0.0</td><td>0.0</td><td>12.32</td><td>N</td><td>N</td><td> </td><td>N</td><td>N</td></tr>\n",
       "<tr><td>HV0003</td><td>B03404</td><td>B03404</td><td>2022-01-01 00:43:53</td><td>2022-01-01 00:57:37</td><td>2022-01-01 00:57:37</td><td>2022-01-01 01:07:32</td><td>237</td><td>161</td><td>1.18</td><td>595</td><td>29.82</td><td>0.0</td><td>0.89</td><td>2.65</td><td>2.75</td><td>0.0</td><td>0.0</td><td>23.3</td><td>N</td><td>N</td><td> </td><td>N</td><td>N</td></tr>\n",
       "<tr><td>HV0003</td><td>B03404</td><td>B03404</td><td>2022-01-01 00:15:36</td><td>2022-01-01 00:17:08</td><td>2022-01-01 00:18:02</td><td>2022-01-01 00:23:05</td><td>262</td><td>229</td><td>1.65</td><td>303</td><td>7.91</td><td>0.0</td><td>0.24</td><td>0.7</td><td>2.75</td><td>0.0</td><td>0.0</td><td>6.3</td><td>N</td><td>N</td><td> </td><td>N</td><td>N</td></tr>\n",
       "<tr><td>HV0003</td><td>B03404</td><td>B03404</td><td>2022-01-01 00:25:45</td><td>2022-01-01 00:26:01</td><td>2022-01-01 00:28:01</td><td>2022-01-01 00:35:42</td><td>229</td><td>141</td><td>1.65</td><td>461</td><td>9.44</td><td>0.0</td><td>0.28</td><td>0.84</td><td>2.75</td><td>0.0</td><td>0.0</td><td>7.44</td><td>N</td><td>N</td><td> </td><td>N</td><td>N</td></tr>\n",
       "<tr><td>HV0003</td><td>B03404</td><td>B03404</td><td>2022-01-01 00:34:44</td><td>2022-01-01 00:36:52</td><td>2022-01-01 00:38:50</td><td>2022-01-01 00:51:32</td><td>263</td><td>79</td><td>4.51</td><td>762</td><td>17.67</td><td>0.0</td><td>0.53</td><td>1.57</td><td>2.75</td><td>0.0</td><td>0.0</td><td>12.25</td><td>N</td><td>N</td><td> </td><td>N</td><td>N</td></tr>\n",
       "<tr><td>HV0003</td><td>B03404</td><td>B03404</td><td>2022-01-01 00:47:51</td><td>2022-01-01 00:52:00</td><td>2022-01-01 00:53:25</td><td>2022-01-01 01:08:56</td><td>113</td><td>140</td><td>3.68</td><td>931</td><td>16.68</td><td>0.0</td><td>0.5</td><td>1.48</td><td>2.75</td><td>0.0</td><td>0.0</td><td>12.75</td><td>N</td><td>N</td><td> </td><td>N</td><td>N</td></tr>\n",
       "<tr><td>HV0003</td><td>B03404</td><td>B03404</td><td>2022-01-01 00:06:21</td><td>2022-01-01 00:06:58</td><td>2022-01-01 00:08:58</td><td>2022-01-01 00:23:01</td><td>151</td><td>75</td><td>2.77</td><td>843</td><td>14.41</td><td>0.0</td><td>0.43</td><td>1.28</td><td>0.0</td><td>0.0</td><td>4.0</td><td>11.47</td><td>N</td><td>N</td><td> </td><td>N</td><td>N</td></tr>\n",
       "<tr><td>HV0003</td><td>B03404</td><td>B03404</td><td>2022-01-01 00:27:54</td><td>2022-01-01 00:30:26</td><td>2022-01-01 00:32:25</td><td>2022-01-01 00:44:15</td><td>263</td><td>229</td><td>2.04</td><td>710</td><td>10.64</td><td>0.0</td><td>0.32</td><td>0.94</td><td>2.75</td><td>0.0</td><td>0.0</td><td>9.55</td><td>N</td><td>N</td><td> </td><td>N</td><td>N</td></tr>\n",
       "<tr><td>HV0003</td><td>B03404</td><td>B03404</td><td>2022-01-01 00:44:59</td><td>2022-01-01 00:48:23</td><td>2022-01-01 00:50:23</td><td>2022-01-01 01:15:30</td><td>237</td><td>169</td><td>8.79</td><td>1507</td><td>107.56</td><td>0.0</td><td>0.83</td><td>2.45</td><td>2.75</td><td>0.0</td><td>0.0</td><td>23.67</td><td>N</td><td>N</td><td> </td><td>N</td><td>N</td></tr>\n",
       "</table>\n"
      ],
      "text/plain": [
       "+-----------------+--------------------+--------------------+-------------------+-------------------+-------------------+-------------------+------------+------------+----------+---------+-------------------+-----+----+---------+--------------------+-----------+----+----------+-------------------+-----------------+------------------+----------------+--------------+\n",
       "|hvfhs_license_num|dispatching_base_num|originating_base_num|   request_datetime|  on_scene_datetime|    pickup_datetime|   dropoff_datetime|PULocationID|DOLocationID|trip_miles|trip_time|base_passenger_fare|tolls| bcf|sales_tax|congestion_surcharge|airport_fee|tips|driver_pay|shared_request_flag|shared_match_flag|access_a_ride_flag|wav_request_flag|wav_match_flag|\n",
       "+-----------------+--------------------+--------------------+-------------------+-------------------+-------------------+-------------------+------------+------------+----------+---------+-------------------+-----+----+---------+--------------------+-----------+----+----------+-------------------+-----------------+------------------+----------------+--------------+\n",
       "|           HV0003|              B03404|              B03404|2022-01-01 00:05:31|2022-01-01 00:05:40|2022-01-01 00:07:24|2022-01-01 00:18:28|         170|         161|      1.18|      664|               24.9|  0.0|0.75|     2.21|                2.75|        0.0| 0.0|     23.03|                  N|                N|                  |               N|             N|\n",
       "|           HV0003|              B03404|              B03404|2022-01-01 00:19:27|2022-01-01 00:22:08|2022-01-01 00:22:32|2022-01-01 00:30:12|         237|         161|      0.82|      460|              11.97|  0.0|0.36|     1.06|                2.75|        0.0| 0.0|     12.32|                  N|                N|                  |               N|             N|\n",
       "|           HV0003|              B03404|              B03404|2022-01-01 00:43:53|2022-01-01 00:57:37|2022-01-01 00:57:37|2022-01-01 01:07:32|         237|         161|      1.18|      595|              29.82|  0.0|0.89|     2.65|                2.75|        0.0| 0.0|      23.3|                  N|                N|                  |               N|             N|\n",
       "|           HV0003|              B03404|              B03404|2022-01-01 00:15:36|2022-01-01 00:17:08|2022-01-01 00:18:02|2022-01-01 00:23:05|         262|         229|      1.65|      303|               7.91|  0.0|0.24|      0.7|                2.75|        0.0| 0.0|       6.3|                  N|                N|                  |               N|             N|\n",
       "|           HV0003|              B03404|              B03404|2022-01-01 00:25:45|2022-01-01 00:26:01|2022-01-01 00:28:01|2022-01-01 00:35:42|         229|         141|      1.65|      461|               9.44|  0.0|0.28|     0.84|                2.75|        0.0| 0.0|      7.44|                  N|                N|                  |               N|             N|\n",
       "|           HV0003|              B03404|              B03404|2022-01-01 00:34:44|2022-01-01 00:36:52|2022-01-01 00:38:50|2022-01-01 00:51:32|         263|          79|      4.51|      762|              17.67|  0.0|0.53|     1.57|                2.75|        0.0| 0.0|     12.25|                  N|                N|                  |               N|             N|\n",
       "|           HV0003|              B03404|              B03404|2022-01-01 00:47:51|2022-01-01 00:52:00|2022-01-01 00:53:25|2022-01-01 01:08:56|         113|         140|      3.68|      931|              16.68|  0.0| 0.5|     1.48|                2.75|        0.0| 0.0|     12.75|                  N|                N|                  |               N|             N|\n",
       "|           HV0003|              B03404|              B03404|2022-01-01 00:06:21|2022-01-01 00:06:58|2022-01-01 00:08:58|2022-01-01 00:23:01|         151|          75|      2.77|      843|              14.41|  0.0|0.43|     1.28|                 0.0|        0.0| 4.0|     11.47|                  N|                N|                  |               N|             N|\n",
       "|           HV0003|              B03404|              B03404|2022-01-01 00:27:54|2022-01-01 00:30:26|2022-01-01 00:32:25|2022-01-01 00:44:15|         263|         229|      2.04|      710|              10.64|  0.0|0.32|     0.94|                2.75|        0.0| 0.0|      9.55|                  N|                N|                  |               N|             N|\n",
       "|           HV0003|              B03404|              B03404|2022-01-01 00:44:59|2022-01-01 00:48:23|2022-01-01 00:50:23|2022-01-01 01:15:30|         237|         169|      8.79|     1507|             107.56|  0.0|0.83|     2.45|                2.75|        0.0| 0.0|     23.67|                  N|                N|                  |               N|             N|\n",
       "+-----------------+--------------------+--------------------+-------------------+-------------------+-------------------+-------------------+------------+------------+----------+---------+-------------------+-----+----+---------+--------------------+-----------+----+----------+-------------------+-----------------+------------------+----------------+--------------+"
      ]
     },
     "metadata": {},
     "output_type": "display_data"
    },
    {
     "name": "stdout",
     "output_type": "stream",
     "text": [
      "Shape of hvfhv dataset is 66976983 rows x 24 columns\n"
     ]
    }
   ],
   "source": [
    "hvfhv = spark.read.parquet('../../ADS_Project_1/raw_data/hvfhv')\n",
    "display(hvfhv.limit(10))\n",
    "print(f'Shape of hvfhv dataset is {hvfhv.count()} rows x {len(hvfhv.columns)} columns')"
   ]
  },
  {
   "cell_type": "markdown",
   "metadata": {},
   "source": [
    "# Inspecting property data"
   ]
  },
  {
   "cell_type": "code",
   "execution_count": null,
   "metadata": {},
   "outputs": [],
   "source": []
  },
  {
   "cell_type": "markdown",
   "metadata": {},
   "source": [
    "# Preprocessing Steps -"
   ]
  },
  {
   "cell_type": "markdown",
   "metadata": {},
   "source": [
    "# 1. Reading in the data\n",
    "The two datasets used for this analysis are:\n",
    "### Yellow NYC Taxi trip data\n",
    "Consists of 4 months (Jan - Apr 2022) of trip data, in the form of 4 parquet files - one for each month. However with PySpark, the entire directory is allowed to be read in at once, concatenating the data into one large dataframe"
   ]
  },
  {
   "cell_type": "code",
   "execution_count": 5,
   "metadata": {},
   "outputs": [
    {
     "name": "stderr",
     "output_type": "stream",
     "text": [
      "                                                                                \r"
     ]
    },
    {
     "data": {
      "text/html": [
       "<table border='1'>\n",
       "<tr><th>VendorID</th><th>tpep_pickup_datetime</th><th>tpep_dropoff_datetime</th><th>passenger_count</th><th>trip_distance</th><th>RatecodeID</th><th>store_and_fwd_flag</th><th>PULocationID</th><th>DOLocationID</th><th>payment_type</th><th>fare_amount</th><th>extra</th><th>mta_tax</th><th>tip_amount</th><th>tolls_amount</th><th>improvement_surcharge</th><th>total_amount</th><th>congestion_surcharge</th><th>airport_fee</th></tr>\n",
       "<tr><td>1</td><td>2022-01-01 00:35:40</td><td>2022-01-01 00:53:29</td><td>2.0</td><td>3.8</td><td>1.0</td><td>N</td><td>142</td><td>236</td><td>1</td><td>14.5</td><td>3.0</td><td>0.5</td><td>3.65</td><td>0.0</td><td>0.3</td><td>21.95</td><td>2.5</td><td>0.0</td></tr>\n",
       "<tr><td>1</td><td>2022-01-01 00:33:43</td><td>2022-01-01 00:42:07</td><td>1.0</td><td>2.1</td><td>1.0</td><td>N</td><td>236</td><td>42</td><td>1</td><td>8.0</td><td>0.5</td><td>0.5</td><td>4.0</td><td>0.0</td><td>0.3</td><td>13.3</td><td>0.0</td><td>0.0</td></tr>\n",
       "<tr><td>2</td><td>2022-01-01 00:53:21</td><td>2022-01-01 01:02:19</td><td>1.0</td><td>0.97</td><td>1.0</td><td>N</td><td>166</td><td>166</td><td>1</td><td>7.5</td><td>0.5</td><td>0.5</td><td>1.76</td><td>0.0</td><td>0.3</td><td>10.56</td><td>0.0</td><td>0.0</td></tr>\n",
       "<tr><td>2</td><td>2022-01-01 00:25:21</td><td>2022-01-01 00:35:23</td><td>1.0</td><td>1.09</td><td>1.0</td><td>N</td><td>114</td><td>68</td><td>2</td><td>8.0</td><td>0.5</td><td>0.5</td><td>0.0</td><td>0.0</td><td>0.3</td><td>11.8</td><td>2.5</td><td>0.0</td></tr>\n",
       "<tr><td>2</td><td>2022-01-01 00:36:48</td><td>2022-01-01 01:14:20</td><td>1.0</td><td>4.3</td><td>1.0</td><td>N</td><td>68</td><td>163</td><td>1</td><td>23.5</td><td>0.5</td><td>0.5</td><td>3.0</td><td>0.0</td><td>0.3</td><td>30.3</td><td>2.5</td><td>0.0</td></tr>\n",
       "<tr><td>1</td><td>2022-01-01 00:40:15</td><td>2022-01-01 01:09:48</td><td>1.0</td><td>10.3</td><td>1.0</td><td>N</td><td>138</td><td>161</td><td>1</td><td>33.0</td><td>3.0</td><td>0.5</td><td>13.0</td><td>6.55</td><td>0.3</td><td>56.35</td><td>2.5</td><td>0.0</td></tr>\n",
       "<tr><td>2</td><td>2022-01-01 00:20:50</td><td>2022-01-01 00:34:58</td><td>1.0</td><td>5.07</td><td>1.0</td><td>N</td><td>233</td><td>87</td><td>1</td><td>17.0</td><td>0.5</td><td>0.5</td><td>5.2</td><td>0.0</td><td>0.3</td><td>26.0</td><td>2.5</td><td>0.0</td></tr>\n",
       "<tr><td>2</td><td>2022-01-01 00:13:04</td><td>2022-01-01 00:22:45</td><td>1.0</td><td>2.02</td><td>1.0</td><td>N</td><td>238</td><td>152</td><td>2</td><td>9.0</td><td>0.5</td><td>0.5</td><td>0.0</td><td>0.0</td><td>0.3</td><td>12.8</td><td>2.5</td><td>0.0</td></tr>\n",
       "<tr><td>2</td><td>2022-01-01 00:30:02</td><td>2022-01-01 00:44:49</td><td>1.0</td><td>2.71</td><td>1.0</td><td>N</td><td>166</td><td>236</td><td>1</td><td>12.0</td><td>0.5</td><td>0.5</td><td>2.25</td><td>0.0</td><td>0.3</td><td>18.05</td><td>2.5</td><td>0.0</td></tr>\n",
       "<tr><td>2</td><td>2022-01-01 00:48:52</td><td>2022-01-01 00:53:28</td><td>1.0</td><td>0.78</td><td>1.0</td><td>N</td><td>236</td><td>141</td><td>2</td><td>5.0</td><td>0.5</td><td>0.5</td><td>0.0</td><td>0.0</td><td>0.3</td><td>8.8</td><td>2.5</td><td>0.0</td></tr>\n",
       "</table>\n"
      ],
      "text/plain": [
       "+--------+--------------------+---------------------+---------------+-------------+----------+------------------+------------+------------+------------+-----------+-----+-------+----------+------------+---------------------+------------+--------------------+-----------+\n",
       "|VendorID|tpep_pickup_datetime|tpep_dropoff_datetime|passenger_count|trip_distance|RatecodeID|store_and_fwd_flag|PULocationID|DOLocationID|payment_type|fare_amount|extra|mta_tax|tip_amount|tolls_amount|improvement_surcharge|total_amount|congestion_surcharge|airport_fee|\n",
       "+--------+--------------------+---------------------+---------------+-------------+----------+------------------+------------+------------+------------+-----------+-----+-------+----------+------------+---------------------+------------+--------------------+-----------+\n",
       "|       1| 2022-01-01 00:35:40|  2022-01-01 00:53:29|            2.0|          3.8|       1.0|                 N|         142|         236|           1|       14.5|  3.0|    0.5|      3.65|         0.0|                  0.3|       21.95|                 2.5|        0.0|\n",
       "|       1| 2022-01-01 00:33:43|  2022-01-01 00:42:07|            1.0|          2.1|       1.0|                 N|         236|          42|           1|        8.0|  0.5|    0.5|       4.0|         0.0|                  0.3|        13.3|                 0.0|        0.0|\n",
       "|       2| 2022-01-01 00:53:21|  2022-01-01 01:02:19|            1.0|         0.97|       1.0|                 N|         166|         166|           1|        7.5|  0.5|    0.5|      1.76|         0.0|                  0.3|       10.56|                 0.0|        0.0|\n",
       "|       2| 2022-01-01 00:25:21|  2022-01-01 00:35:23|            1.0|         1.09|       1.0|                 N|         114|          68|           2|        8.0|  0.5|    0.5|       0.0|         0.0|                  0.3|        11.8|                 2.5|        0.0|\n",
       "|       2| 2022-01-01 00:36:48|  2022-01-01 01:14:20|            1.0|          4.3|       1.0|                 N|          68|         163|           1|       23.5|  0.5|    0.5|       3.0|         0.0|                  0.3|        30.3|                 2.5|        0.0|\n",
       "|       1| 2022-01-01 00:40:15|  2022-01-01 01:09:48|            1.0|         10.3|       1.0|                 N|         138|         161|           1|       33.0|  3.0|    0.5|      13.0|        6.55|                  0.3|       56.35|                 2.5|        0.0|\n",
       "|       2| 2022-01-01 00:20:50|  2022-01-01 00:34:58|            1.0|         5.07|       1.0|                 N|         233|          87|           1|       17.0|  0.5|    0.5|       5.2|         0.0|                  0.3|        26.0|                 2.5|        0.0|\n",
       "|       2| 2022-01-01 00:13:04|  2022-01-01 00:22:45|            1.0|         2.02|       1.0|                 N|         238|         152|           2|        9.0|  0.5|    0.5|       0.0|         0.0|                  0.3|        12.8|                 2.5|        0.0|\n",
       "|       2| 2022-01-01 00:30:02|  2022-01-01 00:44:49|            1.0|         2.71|       1.0|                 N|         166|         236|           1|       12.0|  0.5|    0.5|      2.25|         0.0|                  0.3|       18.05|                 2.5|        0.0|\n",
       "|       2| 2022-01-01 00:48:52|  2022-01-01 00:53:28|            1.0|         0.78|       1.0|                 N|         236|         141|           2|        5.0|  0.5|    0.5|       0.0|         0.0|                  0.3|         8.8|                 2.5|        0.0|\n",
       "+--------+--------------------+---------------------+---------------+-------------+----------+------------------+------------+------------+------------+-----------+-----+-------+----------+------------+---------------------+------------+--------------------+-----------+"
      ]
     },
     "metadata": {},
     "output_type": "display_data"
    },
    {
     "name": "stdout",
     "output_type": "stream",
     "text": [
      "Shape of yellow dataset is 12671164 rows x 19 columns\n"
     ]
    }
   ],
   "source": [
    "yellow = spark.read.parquet('../../ADS_Project_1/raw_data/tlc_yellow')\n",
    "display(yellow.limit(10))\n",
    "print(f'Shape of yellow dataset is {yellow.count()} rows x {len(yellow.columns)} columns')"
   ]
  },
  {
   "cell_type": "markdown",
   "metadata": {},
   "source": [
    "### NYC Property Sale data\n",
    "Consists of a year (Aug 21 - July 22) of sale data, in the form of 5 excel files - one for each borough. Since this data is in a different format, it will be manually concatenated into a larger, overarching dataframe\n",
    "\n",
    "### *PLEASE NOTE*\n",
    "At this step, please see instructions below on manually preparing the data for reading these excel files in. These instructions can also be found in the `ReadMe`\n",
    "\n",
    "- Run the download script in `download_script` to get the files on your machine\n",
    "- Open the first property file (named after one of NYC's 5 boroughs)\n",
    "- Select the first 4 rows of the Excel spreadsheet by clicking, holding and dragging down from the `1` to the `4` on the left\n",
    "- Right click the selection you just made and click `Delete`\n",
    "- Save the file with `CTRL + S`\n",
    "- Repeat for the other borough files"
   ]
  },
  {
   "cell_type": "code",
   "execution_count": 6,
   "metadata": {
    "scrolled": true
   },
   "outputs": [
    {
     "data": {
      "text/plain": [
       "\"\\n# This cell runs for a while\\nboroughs = ['bronx', 'brooklyn', 'manhattan', 'queens', 'statenisland']\\nfor borough in boroughs:\\n    borough = pd.read_excel(f'../raw_data/property_data/{borough}.xlsx')\\n\""
      ]
     },
     "execution_count": 6,
     "metadata": {},
     "output_type": "execute_result"
    }
   ],
   "source": [
    "'''\n",
    "# This cell runs for a while\n",
    "boroughs = ['bronx', 'brooklyn', 'manhattan', 'queens', 'statenisland']\n",
    "for borough in boroughs:\n",
    "    borough = pd.read_excel(f'../raw_data/property_data/{borough}.xlsx')\n",
    "'''"
   ]
  },
  {
   "cell_type": "code",
   "execution_count": 7,
   "metadata": {},
   "outputs": [
    {
     "name": "stdout",
     "output_type": "stream",
     "text": [
      "Dimensions are:\n",
      "\n",
      "Bronx: (7651, 21)\n",
      "Brooklyn: (28557, 21)\n",
      "Manhattan: (23370, 21)\n",
      "Queens: (29983, 21)\n",
      "Staten Island: (8964, 21)\n",
      "\n",
      "\n",
      "So `property` df (all individual boroughs stacked on top of each other) should be 7651 + 28557 + 29983 + 8964 = 98525\n",
      "Property: (98525, 21)\n",
      "Nice\n"
     ]
    }
   ],
   "source": [
    "# Initialising the overarching property dataset\n",
    "property = pd.DataFrame()\n",
    "\n",
    "# Reading in each borough and scaffolding to make sure concatenation is correct\n",
    "bronx = pd.read_excel('../raw_data/property_data/bronx.xlsx')\n",
    "print('Dimensions are:\\n')\n",
    "print(f'Bronx: {bronx.shape}')\n",
    "brooklyn = pd.read_excel('../raw_data/property_data/brooklyn.xlsx')\n",
    "print(f'Brooklyn: {brooklyn.shape}')\n",
    "manhattan = pd.read_excel('../raw_data/property_data/manhattan.xlsx')\n",
    "print(f'Manhattan: {manhattan.shape}')\n",
    "queens = pd.read_excel('../raw_data/property_data/queens.xlsx')\n",
    "print(f'Queens: {queens.shape}')\n",
    "statenisland = pd.read_excel('../raw_data/property_data/statenisland.xlsx')\n",
    "print(f'Staten Island: {statenisland.shape}\\n\\n')\n",
    "\n",
    "# Concatenating them all\n",
    "property = bronx\n",
    "property = pd.concat([property, brooklyn])\n",
    "property = pd.concat([property, manhattan])\n",
    "property = pd.concat([property, queens])\n",
    "property = pd.concat([property, statenisland])\n",
    "\n",
    "tot = 7651 + 28557 + 23370 + 29983 + 8964\n",
    "print(f'So `property` df (all individual boroughs stacked on top of each other) should be 7651 + 28557 + 29983 + 8964 = {tot}')\n",
    "print(f'Property: {property.shape}')\n",
    "\n",
    "if tot == property.shape[0]:\n",
    "    print('Nice')"
   ]
  },
  {
   "cell_type": "code",
   "execution_count": null,
   "metadata": {},
   "outputs": [],
   "source": []
  },
  {
   "cell_type": "code",
   "execution_count": null,
   "metadata": {},
   "outputs": [],
   "source": []
  },
  {
   "cell_type": "code",
   "execution_count": null,
   "metadata": {},
   "outputs": [],
   "source": []
  },
  {
   "cell_type": "code",
   "execution_count": 8,
   "metadata": {},
   "outputs": [
    {
     "data": {
      "text/plain": [
       "[      BOROUGH NEIGHBORHOOD  BUILDING CLASS CATEGORY TAX CLASS AT PRESENT  \\\n",
       " 0           2     BATHGATE  01 ONE FAMILY DWELLINGS                    1   \n",
       " 1           2     BATHGATE  01 ONE FAMILY DWELLINGS                    1   \n",
       " 2           2     BATHGATE  01 ONE FAMILY DWELLINGS                    1   \n",
       " 3           2     BATHGATE  01 ONE FAMILY DWELLINGS                    1   \n",
       " 4           2     BATHGATE  01 ONE FAMILY DWELLINGS                    1   \n",
       " ...       ...          ...                      ...                  ...   \n",
       " 7646        2     WOODLAWN   14 RENTALS - 4-10 UNIT                   2A   \n",
       " 7647        2     WOODLAWN       22 STORE BUILDINGS                    4   \n",
       " 7648        2     WOODLAWN       22 STORE BUILDINGS                    4   \n",
       " 7649        2     WOODLAWN    29 COMMERCIAL GARAGES                    4   \n",
       " 7650        2     WOODLAWN    29 COMMERCIAL GARAGES                    4   \n",
       " \n",
       "       BLOCK  LOT  EASEMENT BUILDING CLASS AT PRESENT                ADDRESS  \\\n",
       " 0      3037  101       NaN                        S0    443 EAST 180 STREET   \n",
       " 1      3039   29       NaN                        A5    2327 WASHINGTON AVE   \n",
       " 2      3039   63       NaN                        A1    469 EAST 185 STREET   \n",
       " 3      3039   63       NaN                        A1  469 EAST 185TH STREET   \n",
       " 4      3046   38       NaN                        A1   2077 BATHGATE AVENUE   \n",
       " ...     ...  ...       ...                       ...                    ...   \n",
       " 7646   3376   58       NaN                        S4    4277 KATONAH AVENUE   \n",
       " 7647   3377   59       NaN                        K4    4299 KATONAH AVENUE   \n",
       " 7648   3385    5       NaN                        K4    4300 KATONAH AVENUE   \n",
       " 7649   3374    1       NaN                        G1  235 EAST 233RD STREET   \n",
       " 7650   3395   63       NaN                        G1    4219 WEBSTER AVENUE   \n",
       " \n",
       "      APARTMENT NUMBER  ...  RESIDENTIAL UNITS  COMMERCIAL UNITS  TOTAL UNITS  \\\n",
       " 0                 NaN  ...                1.0               2.0          3.0   \n",
       " 1                 NaN  ...                1.0               0.0          1.0   \n",
       " 2                 NaN  ...                1.0               0.0          1.0   \n",
       " 3                 NaN  ...                1.0               0.0          1.0   \n",
       " 4                 NaN  ...                1.0               0.0          1.0   \n",
       " ...               ...  ...                ...               ...          ...   \n",
       " 7646              NaN  ...                4.0               1.0          5.0   \n",
       " 7647              NaN  ...                2.0               5.0          7.0   \n",
       " 7648              NaN  ...                2.0               2.0          4.0   \n",
       " 7649              NaN  ...                0.0               1.0          1.0   \n",
       " 7650              NaN  ...                0.0               1.0          1.0   \n",
       " \n",
       "       LAND SQUARE FEET  GROSS SQUARE FEET  YEAR BUILT  \\\n",
       " 0               1293.0             2820.0      1952.0   \n",
       " 1               1095.0             1260.0      1910.0   \n",
       " 2               1650.0             1296.0      1910.0   \n",
       " 3               1650.0             1296.0      1910.0   \n",
       " 4               2306.0             1622.0      1899.0   \n",
       " ...                ...                ...         ...   \n",
       " 7646            2125.0             3780.0      1930.0   \n",
       " 7647            6000.0             8125.0      1931.0   \n",
       " 7648            2330.0             2425.0      1931.0   \n",
       " 7649            3283.0             1160.0      1931.0   \n",
       " 7650           10593.0             2574.0      1931.0   \n",
       " \n",
       "       TAX CLASS AT TIME OF SALE  BUILDING CLASS AT TIME OF SALE SALE PRICE  \\\n",
       " 0                             1                              S0     720000   \n",
       " 1                             1                              A5     499999   \n",
       " 2                             1                              A1     599000   \n",
       " 3                             1                              A1     455000   \n",
       " 4                             1                              A1     540000   \n",
       " ...                         ...                             ...        ...   \n",
       " 7646                          2                              S4     800000   \n",
       " 7647                          4                              K4    4100000   \n",
       " 7648                          4                              K4          0   \n",
       " 7649                          4                              G1     930000   \n",
       " 7650                          4                              G1    3000000   \n",
       " \n",
       "       SALE DATE  \n",
       " 0    2022-02-23  \n",
       " 1    2022-04-28  \n",
       " 2    2022-05-17  \n",
       " 3    2021-12-23  \n",
       " 4    2022-04-19  \n",
       " ...         ...  \n",
       " 7646 2022-01-19  \n",
       " 7647 2021-12-07  \n",
       " 7648 2022-05-17  \n",
       " 7649 2021-12-10  \n",
       " 7650 2021-12-17  \n",
       " \n",
       " [7651 rows x 21 columns],\n",
       "        BOROUGH     NEIGHBORHOOD  BUILDING CLASS CATEGORY TAX CLASS AT PRESENT  \\\n",
       " 0            3       BATH BEACH  01 ONE FAMILY DWELLINGS                    1   \n",
       " 1            3       BATH BEACH  01 ONE FAMILY DWELLINGS                    1   \n",
       " 2            3       BATH BEACH  01 ONE FAMILY DWELLINGS                    1   \n",
       " 3            3       BATH BEACH  01 ONE FAMILY DWELLINGS                    1   \n",
       " 4            3       BATH BEACH  01 ONE FAMILY DWELLINGS                    1   \n",
       " ...        ...              ...                      ...                  ...   \n",
       " 28552        3  WYCKOFF HEIGHTS            30 WAREHOUSES                    4   \n",
       " 28553        3  WYCKOFF HEIGHTS         44 CONDO PARKING                    4   \n",
       " 28554        3  WYCKOFF HEIGHTS         44 CONDO PARKING                    4   \n",
       " 28555        3  WYCKOFF HEIGHTS         44 CONDO PARKING                    4   \n",
       " 28556        3  WYCKOFF HEIGHTS         44 CONDO PARKING                    4   \n",
       " \n",
       "        BLOCK   LOT  EASEMENT BUILDING CLASS AT PRESENT  \\\n",
       " 0       6360    56       NaN                        A5   \n",
       " 1       6360   157       NaN                        A5   \n",
       " 2       6363    22       NaN                        A9   \n",
       " 3       6363    48       NaN                        A9   \n",
       " 4       6364    74       NaN                        A5   \n",
       " ...      ...   ...       ...                       ...   \n",
       " 28552   3176    15       NaN                        E1   \n",
       " 28553   3280  1131       NaN                        RP   \n",
       " 28554   3280  1133       NaN                        RP   \n",
       " 28555   3280  1134       NaN                        RP   \n",
       " 28556   3310  1012       NaN                        RP   \n",
       " \n",
       "                         ADDRESS APARTMENT NUMBER  ...  RESIDENTIAL UNITS  \\\n",
       " 0                     30 BAY 10              NaN  ...                1.0   \n",
       " 1            36 BAY 10TH STREET              NaN  ...                1.0   \n",
       " 2              8645 16TH AVENUE              NaN  ...                1.0   \n",
       " 3                12 BAY 13TH ST              NaN  ...                1.0   \n",
       " 4            72 BAY 14TH STREET              NaN  ...                1.0   \n",
       " ...                         ...              ...  ...                ...   \n",
       " 28552      370 JEFFERSON STREET              NaN  ...                0.0   \n",
       " 28553     369 HARMAN STREET, P1               P1  ...                NaN   \n",
       " 28554     369 HARMAN STREET, P3               P3  ...                NaN   \n",
       " 28555     369 HARMAN STREET, P4               P4  ...                NaN   \n",
       " 28556  330 BLEECKER STREET, PK4              PK4  ...                NaN   \n",
       " \n",
       "        COMMERCIAL UNITS  TOTAL UNITS  LAND SQUARE FEET  GROSS SQUARE FEET  \\\n",
       " 0                   0.0          1.0            1546.0             1428.0   \n",
       " 1                   0.0          1.0            1547.0             1428.0   \n",
       " 2                   0.0          1.0            2058.0             1492.0   \n",
       " 3                   0.0          1.0            3142.0             3200.0   \n",
       " 4                   0.0          1.0            2492.0              972.0   \n",
       " ...                 ...          ...               ...                ...   \n",
       " 28552               1.0          1.0           15000.0            21000.0   \n",
       " 28553               1.0          1.0               NaN                NaN   \n",
       " 28554               1.0          1.0               NaN                NaN   \n",
       " 28555               1.0          1.0               NaN                NaN   \n",
       " 28556               1.0          1.0               NaN                NaN   \n",
       " \n",
       "        YEAR BUILT  TAX CLASS AT TIME OF SALE  BUILDING CLASS AT TIME OF SALE  \\\n",
       " 0          1930.0                          1                              A5   \n",
       " 1          1930.0                          1                              A5   \n",
       " 2          1930.0                          1                              A9   \n",
       " 3          1999.0                          1                              A9   \n",
       " 4          1950.0                          1                              A5   \n",
       " ...           ...                        ...                             ...   \n",
       " 28552      1931.0                          4                              E1   \n",
       " 28553      2009.0                          4                              RP   \n",
       " 28554      2009.0                          4                              RP   \n",
       " 28555      2009.0                          4                              RP   \n",
       " 28556      2013.0                          4                              RP   \n",
       " \n",
       "       SALE PRICE  SALE DATE  \n",
       " 0          75000 2022-06-01  \n",
       " 1              0 2022-03-18  \n",
       " 2         875000 2022-01-07  \n",
       " 3              0 2022-03-14  \n",
       " 4         890000 2021-10-08  \n",
       " ...          ...        ...  \n",
       " 28552          0 2022-03-24  \n",
       " 28553      20000 2021-08-19  \n",
       " 28554          0 2022-04-26  \n",
       " 28555          0 2022-04-26  \n",
       " 28556     875000 2021-10-05  \n",
       " \n",
       " [28557 rows x 21 columns]]"
      ]
     },
     "execution_count": 8,
     "metadata": {},
     "output_type": "execute_result"
    }
   ],
   "source": [
    "# Can u do dfs in array?\n",
    "[pd.DataFrame(bronx), pd.DataFrame(brooklyn)]"
   ]
  },
  {
   "cell_type": "code",
   "execution_count": null,
   "metadata": {},
   "outputs": [],
   "source": []
  },
  {
   "cell_type": "code",
   "execution_count": null,
   "metadata": {},
   "outputs": [],
   "source": []
  },
  {
   "cell_type": "markdown",
   "metadata": {},
   "source": [
    "# Yellow Dataset -"
   ]
  },
  {
   "cell_type": "code",
   "execution_count": 9,
   "metadata": {},
   "outputs": [
    {
     "data": {
      "text/html": [
       "<table border='1'>\n",
       "<tr><th>VendorID</th><th>tpep_pickup_datetime</th><th>tpep_dropoff_datetime</th><th>passenger_count</th><th>trip_distance</th><th>RatecodeID</th><th>store_and_fwd_flag</th><th>PULocationID</th><th>DOLocationID</th><th>payment_type</th><th>fare_amount</th><th>extra</th><th>mta_tax</th><th>tip_amount</th><th>tolls_amount</th><th>improvement_surcharge</th><th>total_amount</th><th>congestion_surcharge</th><th>airport_fee</th></tr>\n",
       "<tr><td>1</td><td>2022-01-01 00:35:40</td><td>2022-01-01 00:53:29</td><td>2.0</td><td>3.8</td><td>1.0</td><td>N</td><td>142</td><td>236</td><td>1</td><td>14.5</td><td>3.0</td><td>0.5</td><td>3.65</td><td>0.0</td><td>0.3</td><td>21.95</td><td>2.5</td><td>0.0</td></tr>\n",
       "<tr><td>1</td><td>2022-01-01 00:33:43</td><td>2022-01-01 00:42:07</td><td>1.0</td><td>2.1</td><td>1.0</td><td>N</td><td>236</td><td>42</td><td>1</td><td>8.0</td><td>0.5</td><td>0.5</td><td>4.0</td><td>0.0</td><td>0.3</td><td>13.3</td><td>0.0</td><td>0.0</td></tr>\n",
       "<tr><td>2</td><td>2022-01-01 00:53:21</td><td>2022-01-01 01:02:19</td><td>1.0</td><td>0.97</td><td>1.0</td><td>N</td><td>166</td><td>166</td><td>1</td><td>7.5</td><td>0.5</td><td>0.5</td><td>1.76</td><td>0.0</td><td>0.3</td><td>10.56</td><td>0.0</td><td>0.0</td></tr>\n",
       "<tr><td>2</td><td>2022-01-01 00:25:21</td><td>2022-01-01 00:35:23</td><td>1.0</td><td>1.09</td><td>1.0</td><td>N</td><td>114</td><td>68</td><td>2</td><td>8.0</td><td>0.5</td><td>0.5</td><td>0.0</td><td>0.0</td><td>0.3</td><td>11.8</td><td>2.5</td><td>0.0</td></tr>\n",
       "<tr><td>2</td><td>2022-01-01 00:36:48</td><td>2022-01-01 01:14:20</td><td>1.0</td><td>4.3</td><td>1.0</td><td>N</td><td>68</td><td>163</td><td>1</td><td>23.5</td><td>0.5</td><td>0.5</td><td>3.0</td><td>0.0</td><td>0.3</td><td>30.3</td><td>2.5</td><td>0.0</td></tr>\n",
       "<tr><td>1</td><td>2022-01-01 00:40:15</td><td>2022-01-01 01:09:48</td><td>1.0</td><td>10.3</td><td>1.0</td><td>N</td><td>138</td><td>161</td><td>1</td><td>33.0</td><td>3.0</td><td>0.5</td><td>13.0</td><td>6.55</td><td>0.3</td><td>56.35</td><td>2.5</td><td>0.0</td></tr>\n",
       "<tr><td>2</td><td>2022-01-01 00:20:50</td><td>2022-01-01 00:34:58</td><td>1.0</td><td>5.07</td><td>1.0</td><td>N</td><td>233</td><td>87</td><td>1</td><td>17.0</td><td>0.5</td><td>0.5</td><td>5.2</td><td>0.0</td><td>0.3</td><td>26.0</td><td>2.5</td><td>0.0</td></tr>\n",
       "<tr><td>2</td><td>2022-01-01 00:13:04</td><td>2022-01-01 00:22:45</td><td>1.0</td><td>2.02</td><td>1.0</td><td>N</td><td>238</td><td>152</td><td>2</td><td>9.0</td><td>0.5</td><td>0.5</td><td>0.0</td><td>0.0</td><td>0.3</td><td>12.8</td><td>2.5</td><td>0.0</td></tr>\n",
       "<tr><td>2</td><td>2022-01-01 00:30:02</td><td>2022-01-01 00:44:49</td><td>1.0</td><td>2.71</td><td>1.0</td><td>N</td><td>166</td><td>236</td><td>1</td><td>12.0</td><td>0.5</td><td>0.5</td><td>2.25</td><td>0.0</td><td>0.3</td><td>18.05</td><td>2.5</td><td>0.0</td></tr>\n",
       "<tr><td>2</td><td>2022-01-01 00:48:52</td><td>2022-01-01 00:53:28</td><td>1.0</td><td>0.78</td><td>1.0</td><td>N</td><td>236</td><td>141</td><td>2</td><td>5.0</td><td>0.5</td><td>0.5</td><td>0.0</td><td>0.0</td><td>0.3</td><td>8.8</td><td>2.5</td><td>0.0</td></tr>\n",
       "<tr><td>2</td><td>2022-01-01 00:55:03</td><td>2022-01-01 01:04:25</td><td>1.0</td><td>1.91</td><td>1.0</td><td>N</td><td>141</td><td>229</td><td>2</td><td>8.5</td><td>0.5</td><td>0.5</td><td>0.0</td><td>0.0</td><td>0.3</td><td>12.3</td><td>2.5</td><td>0.0</td></tr>\n",
       "<tr><td>2</td><td>2022-01-01 00:31:06</td><td>2022-01-01 00:34:14</td><td>3.0</td><td>0.82</td><td>1.0</td><td>N</td><td>114</td><td>90</td><td>2</td><td>4.5</td><td>0.5</td><td>0.5</td><td>0.0</td><td>0.0</td><td>0.3</td><td>8.3</td><td>2.5</td><td>0.0</td></tr>\n",
       "<tr><td>2</td><td>2022-01-01 00:41:07</td><td>2022-01-01 00:44:46</td><td>3.0</td><td>0.73</td><td>1.0</td><td>N</td><td>234</td><td>113</td><td>2</td><td>4.5</td><td>0.5</td><td>0.5</td><td>0.0</td><td>0.0</td><td>0.3</td><td>8.3</td><td>2.5</td><td>0.0</td></tr>\n",
       "<tr><td>2</td><td>2022-01-01 00:56:34</td><td>2022-01-01 01:12:04</td><td>2.0</td><td>2.16</td><td>1.0</td><td>N</td><td>246</td><td>79</td><td>1</td><td>11.5</td><td>0.5</td><td>0.5</td><td>3.06</td><td>0.0</td><td>0.3</td><td>18.36</td><td>2.5</td><td>0.0</td></tr>\n",
       "<tr><td>2</td><td>2022-01-01 00:39:46</td><td>2022-01-01 00:47:36</td><td>4.0</td><td>1.43</td><td>1.0</td><td>N</td><td>43</td><td>140</td><td>1</td><td>7.5</td><td>0.5</td><td>0.5</td><td>2.26</td><td>0.0</td><td>0.3</td><td>13.56</td><td>2.5</td><td>0.0</td></tr>\n",
       "<tr><td>2</td><td>2022-01-01 00:58:06</td><td>2022-01-01 01:05:45</td><td>1.0</td><td>1.58</td><td>1.0</td><td>N</td><td>239</td><td>151</td><td>2</td><td>8.0</td><td>0.5</td><td>0.5</td><td>0.0</td><td>0.0</td><td>0.3</td><td>11.8</td><td>2.5</td><td>0.0</td></tr>\n",
       "<tr><td>1</td><td>2022-01-01 00:33:52</td><td>2022-01-01 00:47:28</td><td>3.0</td><td>4.2</td><td>1.0</td><td>N</td><td>148</td><td>141</td><td>1</td><td>14.0</td><td>2.5</td><td>0.5</td><td>3.45</td><td>0.0</td><td>0.3</td><td>20.75</td><td>2.5</td><td>0.0</td></tr>\n",
       "<tr><td>1</td><td>2022-01-01 00:53:54</td><td>2022-01-01 01:05:20</td><td>2.0</td><td>2.2</td><td>1.0</td><td>N</td><td>237</td><td>107</td><td>1</td><td>9.5</td><td>2.5</td><td>0.5</td><td>2.55</td><td>0.0</td><td>0.3</td><td>15.35</td><td>2.5</td><td>0.0</td></tr>\n",
       "<tr><td>1</td><td>2022-01-01 00:00:44</td><td>2022-01-01 00:05:29</td><td>1.0</td><td>0.2</td><td>1.0</td><td>N</td><td>7</td><td>7</td><td>2</td><td>5.0</td><td>0.5</td><td>0.5</td><td>0.0</td><td>0.0</td><td>0.3</td><td>6.3</td><td>0.0</td><td>0.0</td></tr>\n",
       "<tr><td>1</td><td>2022-01-01 00:35:50</td><td>2022-01-01 00:48:33</td><td>2.0</td><td>3.9</td><td>1.0</td><td>N</td><td>107</td><td>263</td><td>1</td><td>13.0</td><td>3.0</td><td>0.5</td><td>3.35</td><td>0.0</td><td>0.3</td><td>20.15</td><td>2.5</td><td>0.0</td></tr>\n",
       "</table>\n"
      ],
      "text/plain": [
       "+--------+--------------------+---------------------+---------------+-------------+----------+------------------+------------+------------+------------+-----------+-----+-------+----------+------------+---------------------+------------+--------------------+-----------+\n",
       "|VendorID|tpep_pickup_datetime|tpep_dropoff_datetime|passenger_count|trip_distance|RatecodeID|store_and_fwd_flag|PULocationID|DOLocationID|payment_type|fare_amount|extra|mta_tax|tip_amount|tolls_amount|improvement_surcharge|total_amount|congestion_surcharge|airport_fee|\n",
       "+--------+--------------------+---------------------+---------------+-------------+----------+------------------+------------+------------+------------+-----------+-----+-------+----------+------------+---------------------+------------+--------------------+-----------+\n",
       "|       1| 2022-01-01 00:35:40|  2022-01-01 00:53:29|            2.0|          3.8|       1.0|                 N|         142|         236|           1|       14.5|  3.0|    0.5|      3.65|         0.0|                  0.3|       21.95|                 2.5|        0.0|\n",
       "|       1| 2022-01-01 00:33:43|  2022-01-01 00:42:07|            1.0|          2.1|       1.0|                 N|         236|          42|           1|        8.0|  0.5|    0.5|       4.0|         0.0|                  0.3|        13.3|                 0.0|        0.0|\n",
       "|       2| 2022-01-01 00:53:21|  2022-01-01 01:02:19|            1.0|         0.97|       1.0|                 N|         166|         166|           1|        7.5|  0.5|    0.5|      1.76|         0.0|                  0.3|       10.56|                 0.0|        0.0|\n",
       "|       2| 2022-01-01 00:25:21|  2022-01-01 00:35:23|            1.0|         1.09|       1.0|                 N|         114|          68|           2|        8.0|  0.5|    0.5|       0.0|         0.0|                  0.3|        11.8|                 2.5|        0.0|\n",
       "|       2| 2022-01-01 00:36:48|  2022-01-01 01:14:20|            1.0|          4.3|       1.0|                 N|          68|         163|           1|       23.5|  0.5|    0.5|       3.0|         0.0|                  0.3|        30.3|                 2.5|        0.0|\n",
       "|       1| 2022-01-01 00:40:15|  2022-01-01 01:09:48|            1.0|         10.3|       1.0|                 N|         138|         161|           1|       33.0|  3.0|    0.5|      13.0|        6.55|                  0.3|       56.35|                 2.5|        0.0|\n",
       "|       2| 2022-01-01 00:20:50|  2022-01-01 00:34:58|            1.0|         5.07|       1.0|                 N|         233|          87|           1|       17.0|  0.5|    0.5|       5.2|         0.0|                  0.3|        26.0|                 2.5|        0.0|\n",
       "|       2| 2022-01-01 00:13:04|  2022-01-01 00:22:45|            1.0|         2.02|       1.0|                 N|         238|         152|           2|        9.0|  0.5|    0.5|       0.0|         0.0|                  0.3|        12.8|                 2.5|        0.0|\n",
       "|       2| 2022-01-01 00:30:02|  2022-01-01 00:44:49|            1.0|         2.71|       1.0|                 N|         166|         236|           1|       12.0|  0.5|    0.5|      2.25|         0.0|                  0.3|       18.05|                 2.5|        0.0|\n",
       "|       2| 2022-01-01 00:48:52|  2022-01-01 00:53:28|            1.0|         0.78|       1.0|                 N|         236|         141|           2|        5.0|  0.5|    0.5|       0.0|         0.0|                  0.3|         8.8|                 2.5|        0.0|\n",
       "|       2| 2022-01-01 00:55:03|  2022-01-01 01:04:25|            1.0|         1.91|       1.0|                 N|         141|         229|           2|        8.5|  0.5|    0.5|       0.0|         0.0|                  0.3|        12.3|                 2.5|        0.0|\n",
       "|       2| 2022-01-01 00:31:06|  2022-01-01 00:34:14|            3.0|         0.82|       1.0|                 N|         114|          90|           2|        4.5|  0.5|    0.5|       0.0|         0.0|                  0.3|         8.3|                 2.5|        0.0|\n",
       "|       2| 2022-01-01 00:41:07|  2022-01-01 00:44:46|            3.0|         0.73|       1.0|                 N|         234|         113|           2|        4.5|  0.5|    0.5|       0.0|         0.0|                  0.3|         8.3|                 2.5|        0.0|\n",
       "|       2| 2022-01-01 00:56:34|  2022-01-01 01:12:04|            2.0|         2.16|       1.0|                 N|         246|          79|           1|       11.5|  0.5|    0.5|      3.06|         0.0|                  0.3|       18.36|                 2.5|        0.0|\n",
       "|       2| 2022-01-01 00:39:46|  2022-01-01 00:47:36|            4.0|         1.43|       1.0|                 N|          43|         140|           1|        7.5|  0.5|    0.5|      2.26|         0.0|                  0.3|       13.56|                 2.5|        0.0|\n",
       "|       2| 2022-01-01 00:58:06|  2022-01-01 01:05:45|            1.0|         1.58|       1.0|                 N|         239|         151|           2|        8.0|  0.5|    0.5|       0.0|         0.0|                  0.3|        11.8|                 2.5|        0.0|\n",
       "|       1| 2022-01-01 00:33:52|  2022-01-01 00:47:28|            3.0|          4.2|       1.0|                 N|         148|         141|           1|       14.0|  2.5|    0.5|      3.45|         0.0|                  0.3|       20.75|                 2.5|        0.0|\n",
       "|       1| 2022-01-01 00:53:54|  2022-01-01 01:05:20|            2.0|          2.2|       1.0|                 N|         237|         107|           1|        9.5|  2.5|    0.5|      2.55|         0.0|                  0.3|       15.35|                 2.5|        0.0|\n",
       "|       1| 2022-01-01 00:00:44|  2022-01-01 00:05:29|            1.0|          0.2|       1.0|                 N|           7|           7|           2|        5.0|  0.5|    0.5|       0.0|         0.0|                  0.3|         6.3|                 0.0|        0.0|\n",
       "|       1| 2022-01-01 00:35:50|  2022-01-01 00:48:33|            2.0|          3.9|       1.0|                 N|         107|         263|           1|       13.0|  3.0|    0.5|      3.35|         0.0|                  0.3|       20.15|                 2.5|        0.0|\n",
       "+--------+--------------------+---------------------+---------------+-------------+----------+------------------+------------+------------+------------+-----------+-----+-------+----------+------------+---------------------+------------+--------------------+-----------+"
      ]
     },
     "execution_count": 9,
     "metadata": {},
     "output_type": "execute_result"
    }
   ],
   "source": [
    "yellow.limit(20)"
   ]
  },
  {
   "cell_type": "code",
   "execution_count": null,
   "metadata": {},
   "outputs": [],
   "source": []
  },
  {
   "cell_type": "code",
   "execution_count": null,
   "metadata": {},
   "outputs": [],
   "source": []
  },
  {
   "cell_type": "code",
   "execution_count": null,
   "metadata": {},
   "outputs": [],
   "source": []
  },
  {
   "cell_type": "markdown",
   "metadata": {},
   "source": [
    "## 1. Getting rid of unrelated data\n",
    "We don't care about some attributes for the purposes of our analysis, so need to drop those specific columns\n",
    "\n",
    "### Yellow data -\n",
    "- VendorID\n",
    "- Passenger_count: Assumption being made (based off personal experience) that even when multiple riders take an uber, only 1 rider (usually the one who requested the ride) tips the driver\n",
    "- Store_and_fwd_flag\n",
    "- Extra \n",
    "- MTA_tax\n",
    "- Improvement_surcharge\n",
    "- Tolls_amount\n",
    "- Congestion_surcharge\n",
    "- Airport_fee"
   ]
  },
  {
   "cell_type": "code",
   "execution_count": 10,
   "metadata": {},
   "outputs": [],
   "source": [
    "yellow_drop_columns = ['VendorID', 'Passenger_count', 'Store_and_fwd_flag', 'Extra', 'MTA_Tax', 'Improvement_surcharge',\\\n",
    "                       'Tolls_amount', 'Congestion_surcharge', 'Airport_fee']\n",
    "\n",
    "yellow = yellow.drop(*yellow_drop_columns)"
   ]
  },
  {
   "cell_type": "markdown",
   "metadata": {},
   "source": [
    "### HVFHV data -\n",
    "- hvfhs_license_num: License number is not relevant\n",
    "- on_scene_datetime: On_scene refers to when a driver arrives at the designated pickup point, but the rider is not there yet. Often, charges will start after x minutes have passed. Although it would be interesting to see whether rides who make their driver wait tip better, however this is not something that should/would be intentionally increased, so not relevant\n",
    "- request_datetime: This isn't important for this analysis. Would be very useful when looking into optimising rider wait times / something along those lines\n",
    "\n",
    "The following flags provide information on various things. E.g - whether a ride was shared, whether it was attempted to be shared, and several others. These are ultimately irrelevant for this study\n",
    "- shared_request_flag\n",
    "- shared_match_flag\n",
    "- access_a_ride_flag\n",
    "- wav_request_flag\n",
    "- wav_match_flag"
   ]
  },
  {
   "cell_type": "markdown",
   "metadata": {},
   "source": [
    "### Property data -\n",
    "The following attributes will be dropped because again, they are unrelevant and don't contribute to this study in a meaningful way. They could potentially be useful for other analyses though\n",
    "- Tax Class at Present\n",
    "- Block\n",
    "- Lot\n",
    "- Easement\n",
    "- Building Class at Present\n",
    "- Apartment Number\n",
    "- ZIP Code\n",
    "- Total Units: A linear combination of Residential and Commercial Unit (might still not end up using this attribute)\n",
    "- Land Square Feet: Will instead use Gross Square Feet - assumption made that property valuations use area of land, not building\n",
    "- Tax Class at Time of Sale\n",
    "- Building Class at Time of Sale\n",
    "- Sale Date"
   ]
  },
  {
   "cell_type": "code",
   "execution_count": 11,
   "metadata": {},
   "outputs": [],
   "source": [
    "property_drop_columns = ['TAX CLASS AT PRESENT', 'BLOCK', 'LOT', 'EASEMENT', 'BUILDING CLASS AT PRESENT', 'APARTMENT NUMBER',\\\n",
    "                        'ZIP CODE', 'TOTAL UNITS', 'LAND SQUARE FEET', 'TAX CLASS AT TIME OF SALE', \\\n",
    "                         'BUILDING CLASS AT TIME OF SALE', 'SALE DATE']\n",
    "\n",
    "property.drop(columns = property_drop_columns, inplace = True)"
   ]
  },
  {
   "cell_type": "markdown",
   "metadata": {},
   "source": [
    "## 2. Making consistent variable names"
   ]
  },
  {
   "cell_type": "code",
   "execution_count": 12,
   "metadata": {},
   "outputs": [],
   "source": [
    "# Some column names are in CamelCase, so making it consistent and changing those over\n",
    "yellow = yellow.withColumnRenamed(\n",
    "    'RatecodeID',\n",
    "    'ratecode_id'\n",
    ")\n",
    "yellow = yellow.withColumnRenamed(\n",
    "    'PULocationID',\n",
    "    'pulocation_id'\n",
    ")\n",
    "yellow = yellow.withColumnRenamed(\n",
    "    'DOLocationID',\n",
    "    'dolocation_id'\n",
    ")"
   ]
  },
  {
   "cell_type": "code",
   "execution_count": 13,
   "metadata": {},
   "outputs": [],
   "source": [
    "property.rename(columns={'BOROUGH':'borough', 'NEIGHBORHOOD':'neighbourhood', 'BUILDING CLASS CATEGORY':'building_class', \\\n",
    "                         'ADDRESS':'address', 'RESIDENTIAL UNITS':'resi_units', 'COMMERCIAL UNITS':'comm_units', \\\n",
    "                         'GROSS SQUARE FEET':'gross_sq_feet', 'YEAR BUILT':'year_built', 'SALE PRICE':'sale_price'}, \\\n",
    "                inplace=True)"
   ]
  },
  {
   "cell_type": "markdown",
   "metadata": {},
   "source": [
    "## 2. Handling Missing / Null / NA Data -"
   ]
  },
  {
   "cell_type": "markdown",
   "metadata": {},
   "source": [
    "## Yellow -"
   ]
  },
  {
   "cell_type": "code",
   "execution_count": 14,
   "metadata": {},
   "outputs": [
    {
     "name": "stdout",
     "output_type": "stream",
     "text": [
      "+-------------+-----------+-------------+-------------+------------+-----------+----------+------------+\n",
      "|trip_distance|ratecode_id|pulocation_id|dolocation_id|payment_type|fare_amount|tip_amount|total_amount|\n",
      "+-------------+-----------+-------------+-------------+------------+-----------+----------+------------+\n",
      "|            0|          0|            0|            0|           0|          0|         0|           0|\n",
      "+-------------+-----------+-------------+-------------+------------+-----------+----------+------------+\n",
      "\n"
     ]
    },
    {
     "name": "stderr",
     "output_type": "stream",
     "text": [
      "\r",
      "[Stage 26:=========================================>                (5 + 2) / 7]\r",
      "\r",
      "                                                                                \r"
     ]
    }
   ],
   "source": [
    "# Code taken from https://stackoverflow.com/questions/44627386/how-to-find-count-of-null-and-nan-values-for-each-column-in-a-pyspark-dataframe\n",
    "\n",
    "from pyspark.sql.functions import isnan, when, count, col\n",
    "\n",
    "columns = ['trip_distance', 'ratecode_id', 'pulocation_id', 'dolocation_id', 'payment_type', 'fare_amount', 'tip_amount', \\\n",
    "          'total_amount']\n",
    "\n",
    "yellow.select([count(when(isnan(c), c)).alias(c) for c in columns]).show()\n",
    "\n",
    "# It looks like there are no null values here"
   ]
  },
  {
   "cell_type": "markdown",
   "metadata": {},
   "source": [
    "## Property -"
   ]
  },
  {
   "cell_type": "code",
   "execution_count": 15,
   "metadata": {},
   "outputs": [
    {
     "data": {
      "text/plain": [
       "borough               0\n",
       "neighbourhood         0\n",
       "building_class        0\n",
       "address               0\n",
       "resi_units        24303\n",
       "comm_units        43507\n",
       "gross_sq_feet     46660\n",
       "year_built         7443\n",
       "sale_price            0\n",
       "dtype: int64"
      ]
     },
     "metadata": {},
     "output_type": "display_data"
    }
   ],
   "source": [
    "# Finding how many null values there are in each column \n",
    "display(property.isnull().sum())"
   ]
  },
  {
   "cell_type": "code",
   "execution_count": 16,
   "metadata": {},
   "outputs": [
    {
     "name": "stdout",
     "output_type": "stream",
     "text": [
      "Percentage of null values each column:\n",
      "\n",
      "resi_units : 25.0%\n",
      "comm_units : 44.0%\n",
      "gross_sq_feet : 47.0%\n",
      "year_built : 8.0%\n"
     ]
    }
   ],
   "source": [
    "# Substantial number of null values for 3 columns, and some for 1\n",
    "\n",
    "print('Percentage of null values each column:\\n')\n",
    "print(f'resi_units : {100 * (round(24303/property.shape[0], 2))}%')\n",
    "print(f'comm_units : {100 * (round(43507/property.shape[0], 2))}%')\n",
    "print(f'gross_sq_feet : {100 * (round(46660/property.shape[0], 2))}%')\n",
    "print(f'year_built : {100 * (round(7443/property.shape[0], 2))}%')"
   ]
  },
  {
   "cell_type": "markdown",
   "metadata": {},
   "source": [
    "- `resi_units`: 25% missing values. This feature tells us about how many units on the property were listed as for residential or commercial use. We will just drop this feature entirely, since I originally thought that the # of rooms would probably have a relationship with tip fare, however this would almost directly be correlated with total `sale_price` (more units = more sq footage = more expensive. Possibly an assumption, but a very safe one\n",
    "- `comm_units`: See above\n",
    "- `gross_sq_feet`: Looking at spread of data (see (& run) cell below), it's pretty safe to imput the data - follows an approximate Normal Distribution. However the outliers must be removed before imputation\n",
    "- `year_built`: Values don't really follow a Normal Distribution (3 cells below), but I think that the feature would still offer some significant significance. Additionally, only 8% of the data would be mean-imputed, so I doubt it would affect the distribution all that much\n",
    "\n",
    "# REMEMBER TO IMPUTE THIS COLUMN"
   ]
  },
  {
   "cell_type": "code",
   "execution_count": 17,
   "metadata": {},
   "outputs": [
    {
     "data": {
      "image/png": "[encoded data removed]",
      "text/plain": [
       "<Figure size 432x288 with 1 Axes>"
      ]
     },
     "metadata": {
      "needs_background": "light"
     },
     "output_type": "display_data"
    }
   ],
   "source": [
    "fig1 = property['gross_sq_feet'].plot.box()"
   ]
  },
  {
   "cell_type": "code",
   "execution_count": 18,
   "metadata": {},
   "outputs": [
    {
     "data": {
      "image/png": "[encoded data removed]",
      "text/plain": [
       "<Figure size 432x288 with 1 Axes>"
      ]
     },
     "metadata": {
      "needs_background": "light"
     },
     "output_type": "display_data"
    }
   ],
   "source": [
    "fig2 = property['year_built'].plot.hist()"
   ]
  },
  {
   "cell_type": "code",
   "execution_count": 19,
   "metadata": {},
   "outputs": [],
   "source": [
    "# Dropping resi/comm_units\n",
    "property = property.drop(columns = ['resi_units', 'comm_units'])\n",
    "\n",
    "# Mean imputing year_built\n",
    "year_mean = property['year_built'].mean()\n",
    "property['year_built'] = property['year_built'].fillna(value = year_mean)"
   ]
  },
  {
   "cell_type": "markdown",
   "metadata": {},
   "source": [
    "## 2. Typecasting\n",
    "Making sure that all columns are appropriately typed\n",
    "\n",
    "There are several columns that we need to adjust the type for. They'll be listed below with their justifications\n",
    "\n",
    "### Yellow data -\n",
    "- RatecodeIDs: int - Column is made only of integers\n",
    "- Location IDs: int - See above"
   ]
  },
  {
   "cell_type": "code",
   "execution_count": 20,
   "metadata": {},
   "outputs": [],
   "source": [
    "columns = ['ratecode_id', 'pulocation_id', 'dolocation_id']\n",
    "for column in columns:\n",
    "    yellow = yellow.withColumn(\n",
    "        column,\n",
    "        f.col(column).astype('INT')\n",
    "    )"
   ]
  },
  {
   "cell_type": "markdown",
   "metadata": {},
   "source": [
    "### Property data -\n",
    "- year_built: int - See above"
   ]
  },
  {
   "cell_type": "code",
   "execution_count": 21,
   "metadata": {},
   "outputs": [],
   "source": [
    "# Casting year_built column to int\n",
    "property = property.astype({'year_built': int})"
   ]
  },
  {
   "cell_type": "markdown",
   "metadata": {},
   "source": [
    "## Filtering\n",
    "\n",
    "There are ___ attributes that change the data drastically depending on their value. They are:\n",
    "\n",
    "- ratecode_id: Depending on the `ratecode_id`, the trip data refers to airport trips, group rides or negotiated fare. In an earlier assumption, I posited that shared rides wouldn't have an overt effect on fare / distance / tip, so left that in. However, airport trips and negotiated fares would. They also make up a tiny part of the overall dataset -\n",
    "- payment_type: As this analysis is interested in tips, it has been provided in the data dictionary that tips are only recorded for payment_type = 1. That is, a credit card was used. Other values of payment_type have no tip recorded, and if put into a model, will introduce massive bias\n",
    "- Manual inspection of the data also revealed that "
   ]
  },
  {
   "cell_type": "code",
   "execution_count": 22,
   "metadata": {},
   "outputs": [
    {
     "name": "stdout",
     "output_type": "stream",
     "text": [
      "Full yellow dataset has 12671164 rows\n",
      "\n",
      "ratecode_id = 1 has 11705675 rows\n",
      "ratecode_id = 2 has 109 rows\n",
      "\n",
      "Filtered yellow dataset has 11705784 rows\n",
      "Should have 11705784 rows\n",
      "92.38% of rows retained\n"
     ]
    }
   ],
   "source": [
    "# Filtering relevant rows based on ratecode_id value and overwriting unfiltered yellow dataframe\n",
    "\n",
    "df_1 = yellow.select('*').where(yellow['ratecode_id'] == 1)\n",
    "df_2 = yellow.select('*').where(yellow['ratecode_id'] == 6)\n",
    "\n",
    "original_yellow = yellow.count()\n",
    "\n",
    "print(f'Full yellow dataset has {original_yellow} rows\\n')\n",
    "print(f'ratecode_id = 1 has {df_1.count()} rows')\n",
    "print(f'ratecode_id = 2 has {df_2.count()} rows\\n')\n",
    "\n",
    "yellow = df_1.union(df_2)\n",
    "print(f'Filtered yellow dataset has {yellow.count()} rows')\n",
    "print(f'Should have {df_1.count() + df_2.count()} rows')\n",
    "\n",
    "percentage = yellow.count() / original_yellow\n",
    "print(f'{round(percentage * 100, 2)}% of rows retained')"
   ]
  },
  {
   "cell_type": "code",
   "execution_count": 23,
   "metadata": {},
   "outputs": [
    {
     "name": "stdout",
     "output_type": "stream",
     "text": [
      "payment_type = 1 has 9244878 rows\n",
      "Filtered yellow has 11705784 rows\n",
      "78.98% of rows retained\n"
     ]
    }
   ],
   "source": [
    "df_3 = yellow.select('*').where(yellow['payment_type'] == 1)\n",
    "\n",
    "print(f'payment_type = 1 has {df_3.count()} rows')\n",
    "print(f'Filtered yellow has {yellow.count()} rows')\n",
    "\n",
    "print(f'{round(df_3.count() / yellow.count() * 100, 2)}% of rows retained')\n",
    "\n",
    "yellow = yellow.select('*').where(yellow['payment_type'] == 1)"
   ]
  },
  {
   "cell_type": "code",
   "execution_count": 24,
   "metadata": {},
   "outputs": [
    {
     "name": "stderr",
     "output_type": "stream",
     "text": [
      "                                                                                \r"
     ]
    },
    {
     "data": {
      "text/html": [
       "<table border='1'>\n",
       "<tr><th>tpep_pickup_datetime</th><th>tpep_dropoff_datetime</th><th>trip_distance</th><th>ratecode_id</th><th>pulocation_id</th><th>dolocation_id</th><th>payment_type</th><th>fare_amount</th><th>tip_amount</th><th>total_amount</th></tr>\n",
       "<tr><td>2022-03-04 00:02:00</td><td>2022-03-04 00:25:34</td><td>8.06</td><td>1</td><td>138</td><td>152</td><td>1</td><td>-26.0</td><td>-75.26</td><td>-110.36</td></tr>\n",
       "<tr><td>2022-01-20 17:16:29</td><td>2022-01-20 17:23:30</td><td>1.18</td><td>1</td><td>249</td><td>125</td><td>1</td><td>-6.5</td><td>-98.01</td><td>-108.81</td></tr>\n",
       "<tr><td>2022-02-27 14:53:46</td><td>2022-02-27 15:17:28</td><td>2.23</td><td>1</td><td>113</td><td>230</td><td>1</td><td>-15.5</td><td>-76.1</td><td>-94.9</td></tr>\n",
       "<tr><td>2022-03-23 09:43:57</td><td>2022-03-23 10:24:32</td><td>13.23</td><td>1</td><td>186</td><td>182</td><td>1</td><td>-42.0</td><td>-45.3</td><td>-90.6</td></tr>\n",
       "<tr><td>2022-04-01 17:29:49</td><td>2022-04-01 18:13:57</td><td>10.53</td><td>1</td><td>132</td><td>171</td><td>1</td><td>-36.5</td><td>-45.0</td><td>-84.55</td></tr>\n",
       "<tr><td>2022-02-06 14:06:22</td><td>2022-02-06 14:08:51</td><td>0.34</td><td>1</td><td>13</td><td>13</td><td>1</td><td>-3.5</td><td>-68.2</td><td>-75.0</td></tr>\n",
       "<tr><td>2022-03-11 05:41:29</td><td>2022-03-11 06:03:29</td><td>9.28</td><td>1</td><td>132</td><td>98</td><td>1</td><td>-27.0</td><td>-35.0</td><td>-64.55</td></tr>\n",
       "<tr><td>2022-02-20 06:03:40</td><td>2022-02-20 06:27:19</td><td>6.4</td><td>1</td><td>186</td><td>217</td><td>1</td><td>-23.0</td><td>-27.0</td><td>-53.8</td></tr>\n",
       "<tr><td>2022-02-25 15:02:19</td><td>2022-02-25 15:24:45</td><td>6.38</td><td>1</td><td>100</td><td>231</td><td>1</td><td>-22.0</td><td>-5.06</td><td>-30.36</td></tr>\n",
       "<tr><td>2022-04-14 21:01:18</td><td>2022-04-14 21:24:00</td><td>5.12</td><td>1</td><td>114</td><td>62</td><td>1</td><td>-19.5</td><td>-4.66</td><td>-27.96</td></tr>\n",
       "</table>\n"
      ],
      "text/plain": [
       "+--------------------+---------------------+-------------+-----------+-------------+-------------+------------+-----------+----------+------------+\n",
       "|tpep_pickup_datetime|tpep_dropoff_datetime|trip_distance|ratecode_id|pulocation_id|dolocation_id|payment_type|fare_amount|tip_amount|total_amount|\n",
       "+--------------------+---------------------+-------------+-----------+-------------+-------------+------------+-----------+----------+------------+\n",
       "| 2022-03-04 00:02:00|  2022-03-04 00:25:34|         8.06|          1|          138|          152|           1|      -26.0|    -75.26|     -110.36|\n",
       "| 2022-01-20 17:16:29|  2022-01-20 17:23:30|         1.18|          1|          249|          125|           1|       -6.5|    -98.01|     -108.81|\n",
       "| 2022-02-27 14:53:46|  2022-02-27 15:17:28|         2.23|          1|          113|          230|           1|      -15.5|     -76.1|       -94.9|\n",
       "| 2022-03-23 09:43:57|  2022-03-23 10:24:32|        13.23|          1|          186|          182|           1|      -42.0|     -45.3|       -90.6|\n",
       "| 2022-04-01 17:29:49|  2022-04-01 18:13:57|        10.53|          1|          132|          171|           1|      -36.5|     -45.0|      -84.55|\n",
       "| 2022-02-06 14:06:22|  2022-02-06 14:08:51|         0.34|          1|           13|           13|           1|       -3.5|     -68.2|       -75.0|\n",
       "| 2022-03-11 05:41:29|  2022-03-11 06:03:29|         9.28|          1|          132|           98|           1|      -27.0|     -35.0|      -64.55|\n",
       "| 2022-02-20 06:03:40|  2022-02-20 06:27:19|          6.4|          1|          186|          217|           1|      -23.0|     -27.0|       -53.8|\n",
       "| 2022-02-25 15:02:19|  2022-02-25 15:24:45|         6.38|          1|          100|          231|           1|      -22.0|     -5.06|      -30.36|\n",
       "| 2022-04-14 21:01:18|  2022-04-14 21:24:00|         5.12|          1|          114|           62|           1|      -19.5|     -4.66|      -27.96|\n",
       "+--------------------+---------------------+-------------+-----------+-------------+-------------+------------+-----------+----------+------------+"
      ]
     },
     "metadata": {},
     "output_type": "display_data"
    },
    {
     "name": "stderr",
     "output_type": "stream",
     "text": [
      "                                                                                \r"
     ]
    },
    {
     "name": "stdout",
     "output_type": "stream",
     "text": [
      "After all that, yellow is left with 8933245: 70.5% of original size\n"
     ]
    },
    {
     "name": "stderr",
     "output_type": "stream",
     "text": [
      "\r",
      "[Stage 69:================================================>       (12 + 2) / 14]\r",
      "\r",
      "                                                                                \r"
     ]
    }
   ],
   "source": [
    "# Negative amount values can be seen. Even for just these 10 rows displayed, if one were to make the argument that a - sign was\n",
    "# input incorrectly, the tip_amount still far outweighs the total_amount in most cases. This is either money laundering or \n",
    "# errors\n",
    "\n",
    "display(yellow.orderBy('total_amount').limit(10))\n",
    "\n",
    "yellow = yellow.select('*').where(yellow['total_amount'] > 0)\n",
    "\n",
    "# Follow similar (real-world) logic to filter out incorrect values for other attributes\n",
    "yellow = yellow.select('*').where(yellow['trip_distance'] > 0)\n",
    "yellow = yellow.select('*').where(yellow['fare_amount'] > 0)\n",
    "yellow = yellow.select('*').where(yellow['tip_amount'] > 0)\n",
    "\n",
    "percentage = round(yellow.count() / original_yellow * 100, 2)\n",
    "print(f'After all that, yellow is left with {yellow.count()}: {percentage}% of original size')"
   ]
  },
  {
   "cell_type": "markdown",
   "metadata": {},
   "source": [
    "## 4. Outlier Removal \n",
    "Outliers have to be dealt with appropriately, as they can skew data\n",
    "\n",
    "### Yellow -\n",
    "\n",
    "Since we're dealing with pricing & trip data for taxis, and that around 280,000 taxi rides happen each day, I'd say that 280,000 * 30 * 4 is a sufficiently large sample size for the Central Limit Theorem to apply. We're left with just under 9 million rows after filtering, assumption holds\n",
    "\n",
    "Therefore outlier removal won't be overly complex - simply remove whats beyond the IQR for each feature"
   ]
  },
  {
   "cell_type": "code",
   "execution_count": 25,
   "metadata": {},
   "outputs": [
    {
     "name": "stderr",
     "output_type": "stream",
     "text": [
      "                                                                                \r"
     ]
    },
    {
     "data": {
      "text/html": [
       "<table border='1'>\n",
       "<tr><th>tpep_pickup_datetime</th><th>tpep_dropoff_datetime</th><th>trip_distance</th><th>ratecode_id</th><th>pulocation_id</th><th>dolocation_id</th><th>payment_type</th><th>fare_amount</th><th>tip_amount</th><th>total_amount</th></tr>\n",
       "<tr><td>2022-01-29 02:23:46</td><td>2022-01-29 02:32:06</td><td>1.32</td><td>1</td><td>79</td><td>249</td><td>1</td><td>7.0</td><td>888.88</td><td>899.68</td></tr>\n",
       "<tr><td>2022-04-11 17:39:28</td><td>2022-04-11 17:57:43</td><td>2.4</td><td>1</td><td>141</td><td>137</td><td>1</td><td>13.9</td><td>579.73</td><td>596.93</td></tr>\n",
       "<tr><td>2022-03-03 21:00:24</td><td>2022-03-03 21:47:06</td><td>4.51</td><td>1</td><td>237</td><td>112</td><td>1</td><td>22.0</td><td>466.0</td><td>491.8</td></tr>\n",
       "<tr><td>2022-03-25 23:01:16</td><td>2022-03-25 23:27:46</td><td>11.98</td><td>1</td><td>164</td><td>220</td><td>1</td><td>34.5</td><td>444.0</td><td>485.3</td></tr>\n",
       "<tr><td>2022-03-16 16:13:06</td><td>2022-03-16 16:42:16</td><td>2.39</td><td>1</td><td>233</td><td>142</td><td>1</td><td>18.0</td><td>455.0</td><td>477.3</td></tr>\n",
       "<tr><td>2022-03-31 02:06:36</td><td>2022-03-31 04:24:17</td><td>60.9</td><td>1</td><td>90</td><td>238</td><td>1</td><td>172.5</td><td>272.0</td><td>460.05</td></tr>\n",
       "<tr><td>2022-04-19 17:27:54</td><td>2022-04-19 18:05:56</td><td>21.0</td><td>1</td><td>132</td><td>254</td><td>1</td><td>56.5</td><td>363.6</td><td>429.7</td></tr>\n",
       "<tr><td>2022-04-28 22:03:22</td><td>2022-04-28 22:06:53</td><td>0.59</td><td>1</td><td>140</td><td>140</td><td>1</td><td>4.5</td><td>410.0</td><td>418.3</td></tr>\n",
       "<tr><td>2022-02-11 22:19:21</td><td>2022-02-11 22:32:23</td><td>1.93</td><td>1</td><td>230</td><td>107</td><td>1</td><td>9.5</td><td>380.8</td><td>394.1</td></tr>\n",
       "<tr><td>2022-04-19 07:47:57</td><td>2022-04-19 08:21:13</td><td>10.49</td><td>1</td><td>100</td><td>133</td><td>1</td><td>33.5</td><td>350.0</td><td>393.35</td></tr>\n",
       "</table>\n"
      ],
      "text/plain": [
       "+--------------------+---------------------+-------------+-----------+-------------+-------------+------------+-----------+----------+------------+\n",
       "|tpep_pickup_datetime|tpep_dropoff_datetime|trip_distance|ratecode_id|pulocation_id|dolocation_id|payment_type|fare_amount|tip_amount|total_amount|\n",
       "+--------------------+---------------------+-------------+-----------+-------------+-------------+------------+-----------+----------+------------+\n",
       "| 2022-01-29 02:23:46|  2022-01-29 02:32:06|         1.32|          1|           79|          249|           1|        7.0|    888.88|      899.68|\n",
       "| 2022-04-11 17:39:28|  2022-04-11 17:57:43|          2.4|          1|          141|          137|           1|       13.9|    579.73|      596.93|\n",
       "| 2022-03-03 21:00:24|  2022-03-03 21:47:06|         4.51|          1|          237|          112|           1|       22.0|     466.0|       491.8|\n",
       "| 2022-03-25 23:01:16|  2022-03-25 23:27:46|        11.98|          1|          164|          220|           1|       34.5|     444.0|       485.3|\n",
       "| 2022-03-16 16:13:06|  2022-03-16 16:42:16|         2.39|          1|          233|          142|           1|       18.0|     455.0|       477.3|\n",
       "| 2022-03-31 02:06:36|  2022-03-31 04:24:17|         60.9|          1|           90|          238|           1|      172.5|     272.0|      460.05|\n",
       "| 2022-04-19 17:27:54|  2022-04-19 18:05:56|         21.0|          1|          132|          254|           1|       56.5|     363.6|       429.7|\n",
       "| 2022-04-28 22:03:22|  2022-04-28 22:06:53|         0.59|          1|          140|          140|           1|        4.5|     410.0|       418.3|\n",
       "| 2022-02-11 22:19:21|  2022-02-11 22:32:23|         1.93|          1|          230|          107|           1|        9.5|     380.8|       394.1|\n",
       "| 2022-04-19 07:47:57|  2022-04-19 08:21:13|        10.49|          1|          100|          133|           1|       33.5|     350.0|      393.35|\n",
       "+--------------------+---------------------+-------------+-----------+-------------+-------------+------------+-----------+----------+------------+"
      ]
     },
     "execution_count": 25,
     "metadata": {},
     "output_type": "execute_result"
    }
   ],
   "source": [
    "yellow.orderBy('total_amount', ascending = False).limit(10)"
   ]
  },
  {
   "cell_type": "code",
   "execution_count": 26,
   "metadata": {},
   "outputs": [],
   "source": [
    "# Code amended from https://deepnote.com/@rajshekar-2021/Outlier-Detection-Pyspark-069e69af-2c1d-4d4d-884a-92aad276d06f\n",
    "# Googled 'outlier detection pyspark'\n",
    "\n",
    "def remove_outliers(sdf):\n",
    "    numeric_columns = [column[0] for column in sdf.dtypes if column[1]=='int']\n",
    "    \n",
    "    # Using the `for` loop to create new columns by identifying the outliers for each feature\n",
    "    for column in numeric_columns:\n",
    "\n",
    "        less_Q1 = 'less_Q1_{}'.format(column)\n",
    "        more_Q3 = 'more_Q3_{}'.format(column)\n",
    "        Q1 = 'Q1_{}'.format(column)\n",
    "        Q3 = 'Q3_{}'.format(column)\n",
    "\n",
    "        # Q1 : First Quartile ., Q3 : Third Quartile\n",
    "        Q1 = sdf.approxQuantile(column,[0.25],relativeError=0)\n",
    "        Q3 = sdf.approxQuantile(column,[0.75],relativeError=0)\n",
    "        \n",
    "        # IQR : Inter Quantile Range\n",
    "        # We need to define the index [0], as Q1 & Q3 are a set of lists., to perform a mathematical operation\n",
    "        # Q1 & Q3 are defined seperately so as to have a clear indication on First Quantile & 3rd Quantile\n",
    "        IQR = Q3[0] - Q1[0]\n",
    "        \n",
    "        #selecting the data, with -1.5*IQR to + 1.5*IQR., where param = 1.5 default value\n",
    "        less_Q1 =  Q1[0] - 1.5*IQR\n",
    "        more_Q3 =  Q3[0] + 1.5*IQR\n",
    "        \n",
    "        isOutlierCol = 'is_outlier_{}'.format(column)\n",
    "        \n",
    "        sdf = sdf.withColumn(isOutlierCol,f.when((sdf[column] > more_Q3) | (sdf[column] < less_Q1), 1).otherwise(0))\n",
    "    \n",
    "\n",
    "    # Selecting the specific columns which we have added above, to check if there are any outliers\n",
    "    selected_columns = [column for column in sdf.columns if column.startswith(\"is_outlier\")]\n",
    "\n",
    "    # Adding all the outlier columns into a new colum \"total_outliers\", to see the total number of outliers\n",
    "    sdf = sdf.withColumn('total_outliers',sum(sdf[column] for column in selected_columns))\n",
    "\n",
    "    # Dropping the extra columns created above, just to create nice dataframe., without extra columns\n",
    "    sdf = sdf.drop(*[column for column in sdf.columns if column.startswith(\"is_outlier\")])\n",
    "\n",
    "    return sdf\n",
    "    "
   ]
  },
  {
   "cell_type": "code",
   "execution_count": 27,
   "metadata": {
    "scrolled": false
   },
   "outputs": [
    {
     "name": "stderr",
     "output_type": "stream",
     "text": [
      "                                                                                \r"
     ]
    },
    {
     "data": {
      "text/html": [
       "<table border='1'>\n",
       "<tr><th>tpep_pickup_datetime</th><th>tpep_dropoff_datetime</th><th>trip_distance</th><th>ratecode_id</th><th>pulocation_id</th><th>dolocation_id</th><th>payment_type</th><th>fare_amount</th><th>tip_amount</th><th>total_amount</th><th>total_outliers</th></tr>\n",
       "<tr><td>2022-01-01 00:35:40</td><td>2022-01-01 00:53:29</td><td>3.8</td><td>1</td><td>142</td><td>236</td><td>1</td><td>14.5</td><td>3.65</td><td>21.95</td><td>0</td></tr>\n",
       "<tr><td>2022-01-01 00:33:43</td><td>2022-01-01 00:42:07</td><td>2.1</td><td>1</td><td>236</td><td>42</td><td>1</td><td>8.0</td><td>4.0</td><td>13.3</td><td>0</td></tr>\n",
       "<tr><td>2022-01-01 00:53:21</td><td>2022-01-01 01:02:19</td><td>0.97</td><td>1</td><td>166</td><td>166</td><td>1</td><td>7.5</td><td>1.76</td><td>10.56</td><td>0</td></tr>\n",
       "<tr><td>2022-01-01 00:36:48</td><td>2022-01-01 01:14:20</td><td>4.3</td><td>1</td><td>68</td><td>163</td><td>1</td><td>23.5</td><td>3.0</td><td>30.3</td><td>0</td></tr>\n",
       "<tr><td>2022-01-01 00:40:15</td><td>2022-01-01 01:09:48</td><td>10.3</td><td>1</td><td>138</td><td>161</td><td>1</td><td>33.0</td><td>13.0</td><td>56.35</td><td>0</td></tr>\n",
       "<tr><td>2022-01-01 00:20:50</td><td>2022-01-01 00:34:58</td><td>5.07</td><td>1</td><td>233</td><td>87</td><td>1</td><td>17.0</td><td>5.2</td><td>26.0</td><td>0</td></tr>\n",
       "<tr><td>2022-01-01 00:30:02</td><td>2022-01-01 00:44:49</td><td>2.71</td><td>1</td><td>166</td><td>236</td><td>1</td><td>12.0</td><td>2.25</td><td>18.05</td><td>0</td></tr>\n",
       "<tr><td>2022-01-01 00:56:34</td><td>2022-01-01 01:12:04</td><td>2.16</td><td>1</td><td>246</td><td>79</td><td>1</td><td>11.5</td><td>3.06</td><td>18.36</td><td>0</td></tr>\n",
       "<tr><td>2022-01-01 00:39:46</td><td>2022-01-01 00:47:36</td><td>1.43</td><td>1</td><td>43</td><td>140</td><td>1</td><td>7.5</td><td>2.26</td><td>13.56</td><td>0</td></tr>\n",
       "<tr><td>2022-01-01 00:33:52</td><td>2022-01-01 00:47:28</td><td>4.2</td><td>1</td><td>148</td><td>141</td><td>1</td><td>14.0</td><td>3.45</td><td>20.75</td><td>0</td></tr>\n",
       "<tr><td>2022-01-01 00:53:54</td><td>2022-01-01 01:05:20</td><td>2.2</td><td>1</td><td>237</td><td>107</td><td>1</td><td>9.5</td><td>2.55</td><td>15.35</td><td>0</td></tr>\n",
       "<tr><td>2022-01-01 00:35:50</td><td>2022-01-01 00:48:33</td><td>3.9</td><td>1</td><td>107</td><td>263</td><td>1</td><td>13.0</td><td>3.35</td><td>20.15</td><td>0</td></tr>\n",
       "<tr><td>2022-01-01 00:49:14</td><td>2022-01-01 00:58:29</td><td>3.2</td><td>1</td><td>263</td><td>107</td><td>1</td><td>11.0</td><td>2.95</td><td>17.75</td><td>0</td></tr>\n",
       "<tr><td>2022-01-01 00:09:01</td><td>2022-01-01 00:17:15</td><td>1.2</td><td>1</td><td>161</td><td>43</td><td>1</td><td>7.0</td><td>2.15</td><td>12.95</td><td>0</td></tr>\n",
       "<tr><td>2022-01-01 00:30:06</td><td>2022-01-01 00:38:11</td><td>1.7</td><td>1</td><td>239</td><td>24</td><td>1</td><td>7.0</td><td>3.25</td><td>14.05</td><td>0</td></tr>\n",
       "<tr><td>2022-01-01 00:46:41</td><td>2022-01-01 00:57:53</td><td>1.6</td><td>1</td><td>239</td><td>263</td><td>1</td><td>8.0</td><td>2.35</td><td>14.15</td><td>0</td></tr>\n",
       "<tr><td>2022-01-01 00:14:00</td><td>2022-01-01 00:35:24</td><td>2.48</td><td>1</td><td>246</td><td>233</td><td>1</td><td>14.0</td><td>5.34</td><td>23.14</td><td>0</td></tr>\n",
       "<tr><td>2022-01-01 00:46:09</td><td>2022-01-01 01:08:06</td><td>5.95</td><td>1</td><td>79</td><td>238</td><td>1</td><td>20.0</td><td>4.76</td><td>28.56</td><td>0</td></tr>\n",
       "<tr><td>2022-01-01 18:04:06</td><td>2022-01-01 18:40:52</td><td>9.7</td><td>1</td><td>138</td><td>48</td><td>1</td><td>34.5</td><td>9.22</td><td>55.32</td><td>0</td></tr>\n",
       "<tr><td>2022-01-01 00:15:37</td><td>2022-01-01 00:31:13</td><td>3.07</td><td>1</td><td>162</td><td>249</td><td>1</td><td>13.0</td><td>3.36</td><td>20.16</td><td>0</td></tr>\n",
       "</table>\n"
      ],
      "text/plain": [
       "+--------------------+---------------------+-------------+-----------+-------------+-------------+------------+-----------+----------+------------+--------------+\n",
       "|tpep_pickup_datetime|tpep_dropoff_datetime|trip_distance|ratecode_id|pulocation_id|dolocation_id|payment_type|fare_amount|tip_amount|total_amount|total_outliers|\n",
       "+--------------------+---------------------+-------------+-----------+-------------+-------------+------------+-----------+----------+------------+--------------+\n",
       "| 2022-01-01 00:35:40|  2022-01-01 00:53:29|          3.8|          1|          142|          236|           1|       14.5|      3.65|       21.95|             0|\n",
       "| 2022-01-01 00:33:43|  2022-01-01 00:42:07|          2.1|          1|          236|           42|           1|        8.0|       4.0|        13.3|             0|\n",
       "| 2022-01-01 00:53:21|  2022-01-01 01:02:19|         0.97|          1|          166|          166|           1|        7.5|      1.76|       10.56|             0|\n",
       "| 2022-01-01 00:36:48|  2022-01-01 01:14:20|          4.3|          1|           68|          163|           1|       23.5|       3.0|        30.3|             0|\n",
       "| 2022-01-01 00:40:15|  2022-01-01 01:09:48|         10.3|          1|          138|          161|           1|       33.0|      13.0|       56.35|             0|\n",
       "| 2022-01-01 00:20:50|  2022-01-01 00:34:58|         5.07|          1|          233|           87|           1|       17.0|       5.2|        26.0|             0|\n",
       "| 2022-01-01 00:30:02|  2022-01-01 00:44:49|         2.71|          1|          166|          236|           1|       12.0|      2.25|       18.05|             0|\n",
       "| 2022-01-01 00:56:34|  2022-01-01 01:12:04|         2.16|          1|          246|           79|           1|       11.5|      3.06|       18.36|             0|\n",
       "| 2022-01-01 00:39:46|  2022-01-01 00:47:36|         1.43|          1|           43|          140|           1|        7.5|      2.26|       13.56|             0|\n",
       "| 2022-01-01 00:33:52|  2022-01-01 00:47:28|          4.2|          1|          148|          141|           1|       14.0|      3.45|       20.75|             0|\n",
       "| 2022-01-01 00:53:54|  2022-01-01 01:05:20|          2.2|          1|          237|          107|           1|        9.5|      2.55|       15.35|             0|\n",
       "| 2022-01-01 00:35:50|  2022-01-01 00:48:33|          3.9|          1|          107|          263|           1|       13.0|      3.35|       20.15|             0|\n",
       "| 2022-01-01 00:49:14|  2022-01-01 00:58:29|          3.2|          1|          263|          107|           1|       11.0|      2.95|       17.75|             0|\n",
       "| 2022-01-01 00:09:01|  2022-01-01 00:17:15|          1.2|          1|          161|           43|           1|        7.0|      2.15|       12.95|             0|\n",
       "| 2022-01-01 00:30:06|  2022-01-01 00:38:11|          1.7|          1|          239|           24|           1|        7.0|      3.25|       14.05|             0|\n",
       "| 2022-01-01 00:46:41|  2022-01-01 00:57:53|          1.6|          1|          239|          263|           1|        8.0|      2.35|       14.15|             0|\n",
       "| 2022-01-01 00:14:00|  2022-01-01 00:35:24|         2.48|          1|          246|          233|           1|       14.0|      5.34|       23.14|             0|\n",
       "| 2022-01-01 00:46:09|  2022-01-01 01:08:06|         5.95|          1|           79|          238|           1|       20.0|      4.76|       28.56|             0|\n",
       "| 2022-01-01 18:04:06|  2022-01-01 18:40:52|          9.7|          1|          138|           48|           1|       34.5|      9.22|       55.32|             0|\n",
       "| 2022-01-01 00:15:37|  2022-01-01 00:31:13|         3.07|          1|          162|          249|           1|       13.0|      3.36|       20.16|             0|\n",
       "+--------------------+---------------------+-------------+-----------+-------------+-------------+------------+-----------+----------+------------+--------------+"
      ]
     },
     "execution_count": 27,
     "metadata": {},
     "output_type": "execute_result"
    }
   ],
   "source": [
    "outliers = remove_outliers(yellow)\n",
    "outliers.limit(20)"
   ]
  },
  {
   "cell_type": "code",
   "execution_count": 29,
   "metadata": {},
   "outputs": [
    {
     "name": "stderr",
     "output_type": "stream",
     "text": [
      "\r",
      "[Stage 94:================================================>       (12 + 2) / 14]\r",
      "\r",
      "                                                                                \r"
     ]
    },
    {
     "data": {
      "text/plain": [
       "8933245"
      ]
     },
     "execution_count": 29,
     "metadata": {},
     "output_type": "execute_result"
    }
   ],
   "source": [
    "outliers.count()"
   ]
  },
  {
   "cell_type": "code",
   "execution_count": 30,
   "metadata": {},
   "outputs": [
    {
     "name": "stderr",
     "output_type": "stream",
     "text": [
      "                                                                                \r"
     ]
    },
    {
     "data": {
      "text/plain": [
       "8933245"
      ]
     },
     "execution_count": 30,
     "metadata": {},
     "output_type": "execute_result"
    }
   ],
   "source": [
    "yellow.count()"
   ]
  },
  {
   "cell_type": "code",
   "execution_count": null,
   "metadata": {},
   "outputs": [],
   "source": []
  },
  {
   "cell_type": "code",
   "execution_count": null,
   "metadata": {},
   "outputs": [],
   "source": []
  },
  {
   "cell_type": "code",
   "execution_count": 64,
   "metadata": {},
   "outputs": [
    {
     "name": "stderr",
     "output_type": "stream",
     "text": [
      "                                                                                \r"
     ]
    }
   ],
   "source": [
    "pd_numeric_yellow = yellow.select(f.col('total_amount'), f.col('fare_amount'), f.col('tip_amount'), f.col('trip_distance')).toPandas()"
   ]
  },
  {
   "cell_type": "code",
   "execution_count": 65,
   "metadata": {},
   "outputs": [
    {
     "data": {
      "text/plain": [
       "array([[<matplotlib.axes._subplots.AxesSubplot object at 0x7f80082910a0>,\n",
       "        <matplotlib.axes._subplots.AxesSubplot object at 0x7f7fb6685d60>],\n",
       "       [<matplotlib.axes._subplots.AxesSubplot object at 0x7f7fab80ed30>,\n",
       "        <matplotlib.axes._subplots.AxesSubplot object at 0x7f7fb3e2e850>]],\n",
       "      dtype=object)"
      ]
     },
     "execution_count": 65,
     "metadata": {},
     "output_type": "execute_result"
    },
    {
     "data": {
      "image/png": "[encoded data removed]",
      "text/plain": [
       "<Figure size 432x288 with 4 Axes>"
      ]
     },
     "metadata": {
      "needs_background": "light"
     },
     "output_type": "display_data"
    }
   ],
   "source": [
    "pd_numeric_yellow.hist()"
   ]
  },
  {
   "cell_type": "code",
   "execution_count": 68,
   "metadata": {},
   "outputs": [
    {
     "data": {
      "text/plain": [
       "array([[<matplotlib.axes._subplots.AxesSubplot object at 0x7f7f1003d730>,\n",
       "        <matplotlib.axes._subplots.AxesSubplot object at 0x7f806c6f21c0>],\n",
       "       [<matplotlib.axes._subplots.AxesSubplot object at 0x7f7f10015be0>,\n",
       "        <matplotlib.axes._subplots.AxesSubplot object at 0x7f7f10af0460>]],\n",
       "      dtype=object)"
      ]
     },
     "execution_count": 68,
     "metadata": {},
     "output_type": "execute_result"
    },
    {
     "data": {
      "image/png": "[encoded data removed]",
      "text/plain": [
       "<Figure size 432x288 with 4 Axes>"
      ]
     },
     "metadata": {
      "needs_background": "light"
     },
     "output_type": "display_data"
    }
   ],
   "source": [
    "# Code taken from https://stackoverflow.com/questions/23199796/detect-and-exclude-outliers-in-a-pandas-dataframe\n",
    "# Searched for 'remove outliers pd df'\n",
    "# Code calculates the z-score for each value column-wise and filters out any values outside of 2 standard deviations\n",
    "\n",
    "from scipy import stats\n",
    "import numpy as np\n",
    "\n",
    "pd_numeric_yellow = pd_numeric_yellow[(np.abs(stats.zscore(pd_numeric_yellow)) < 2).all(axis=1)]\n",
    "pd_numeric_yellow.hist()\n",
    "\n",
    "# Not sure why the axes are messed up, tried playing around with it but couldn't figure it out\n",
    "# Not worth investing more time since I'm not going to use these visualisations in report, but I took the array of column \n",
    "# values and plotted them in R, got a similar shape, so it worked at least"
   ]
  },
  {
   "cell_type": "code",
   "execution_count": 71,
   "metadata": {},
   "outputs": [
    {
     "name": "stdout",
     "output_type": "stream",
     "text": [
      "root\n",
      " |-- tpep_pickup_datetime: timestamp (nullable = true)\n",
      " |-- tpep_dropoff_datetime: timestamp (nullable = true)\n",
      " |-- trip_distance: double (nullable = true)\n",
      " |-- ratecode_id: integer (nullable = true)\n",
      " |-- pulocation_id: integer (nullable = true)\n",
      " |-- dolocation_id: integer (nullable = true)\n",
      " |-- payment_type: long (nullable = true)\n",
      " |-- fare_amount: double (nullable = true)\n",
      " |-- tip_amount: double (nullable = true)\n",
      " |-- total_amount: double (nullable = true)\n",
      "\n"
     ]
    }
   ],
   "source": [
    "yellow.printSchema()"
   ]
  },
  {
   "cell_type": "markdown",
   "metadata": {},
   "source": [
    "# ENDED HERE\n",
    "\n",
    "Need to concat temp column onto other one"
   ]
  },
  {
   "cell_type": "code",
   "execution_count": 73,
   "metadata": {},
   "outputs": [
    {
     "name": "stderr",
     "output_type": "stream",
     "text": [
      "\r",
      "[Stage 132:===============================================>       (12 + 2) / 14]\r",
      "\r",
      "                                                                                \r"
     ]
    },
    {
     "name": "stdout",
     "output_type": "stream",
     "text": [
      "Number of rows in non-numerical yellow: 8933245\n",
      "22/08/26 01:47:44 WARN TaskSetManager: Stage 135 contains a task of very large size (54603 KiB). The maximum recommended task size is 1000 KiB.\n"
     ]
    },
    {
     "name": "stderr",
     "output_type": "stream",
     "text": [
      "[Stage 135:======================================>                  (4 + 2) / 6]\r"
     ]
    },
    {
     "name": "stdout",
     "output_type": "stream",
     "text": [
      "Number of rows in numerical yellow: 8596575\n"
     ]
    },
    {
     "name": "stderr",
     "output_type": "stream",
     "text": [
      "\r",
      "                                                                                \r"
     ]
    },
    {
     "ename": "AnalysisException",
     "evalue": "Union can only be performed on tables with the same number of columns, but the first table has 8 columns and the second table has 4 columns;\n'Union false, false\n:- Project [trip_distance#276, ratecode_id#775, pulocation_id#786, dolocation_id#797, payment_type#281L, fare_amount#282, tip_amount#285, total_amount#288]\n:  +- Filter (tip_amount#285 > cast(0 as double))\n:     +- Project [tpep_pickup_datetime#273, tpep_dropoff_datetime#274, trip_distance#276, ratecode_id#775, pulocation_id#786, dolocation_id#797, payment_type#281L, fare_amount#282, tip_amount#285, total_amount#288]\n:        +- Filter (fare_amount#282 > cast(0 as double))\n:           +- Project [tpep_pickup_datetime#273, tpep_dropoff_datetime#274, trip_distance#276, ratecode_id#775, pulocation_id#786, dolocation_id#797, payment_type#281L, fare_amount#282, tip_amount#285, total_amount#288]\n:              +- Filter (trip_distance#276 > cast(0 as double))\n:                 +- Project [tpep_pickup_datetime#273, tpep_dropoff_datetime#274, trip_distance#276, ratecode_id#775, pulocation_id#786, dolocation_id#797, payment_type#281L, fare_amount#282, tip_amount#285, total_amount#288]\n:                    +- Filter (total_amount#288 > cast(0 as double))\n:                       +- Project [tpep_pickup_datetime#273, tpep_dropoff_datetime#274, trip_distance#276, ratecode_id#775, pulocation_id#786, dolocation_id#797, payment_type#281L, fare_amount#282, tip_amount#285, total_amount#288]\n:                          +- Filter (payment_type#281L = cast(1 as bigint))\n:                             +- Project [tpep_pickup_datetime#273, tpep_dropoff_datetime#274, trip_distance#276, ratecode_id#775, pulocation_id#786, dolocation_id#797, payment_type#281L, fare_amount#282, tip_amount#285, total_amount#288]\n:                                +- Union false, false\n:                                   :- Filter (ratecode_id#775 = 1)\n:                                   :  +- Project [tpep_pickup_datetime#273, tpep_dropoff_datetime#274, trip_distance#276, ratecode_id#775, pulocation_id#786, dolocation_id#797, payment_type#281L, fare_amount#282, tip_amount#285, total_amount#288]\n:                                   :     +- Project [tpep_pickup_datetime#273, tpep_dropoff_datetime#274, trip_distance#276, ratecode_id#775, pulocation_id#786, cast(dolocation_id#675L as int) AS dolocation_id#797, payment_type#281L, fare_amount#282, tip_amount#285, total_amount#288]\n:                                   :        +- Project [tpep_pickup_datetime#273, tpep_dropoff_datetime#274, trip_distance#276, ratecode_id#775, cast(pulocation_id#664L as int) AS pulocation_id#786, dolocation_id#675L, payment_type#281L, fare_amount#282, tip_amount#285, total_amount#288]\n:                                   :           +- Project [tpep_pickup_datetime#273, tpep_dropoff_datetime#274, trip_distance#276, cast(ratecode_id#653 as int) AS ratecode_id#775, pulocation_id#664L, dolocation_id#675L, payment_type#281L, fare_amount#282, tip_amount#285, total_amount#288]\n:                                   :              +- Project [tpep_pickup_datetime#273, tpep_dropoff_datetime#274, trip_distance#276, ratecode_id#653, pulocation_id#664L, DOLocationID#280L AS dolocation_id#675L, payment_type#281L, fare_amount#282, tip_amount#285, total_amount#288]\n:                                   :                 +- Project [tpep_pickup_datetime#273, tpep_dropoff_datetime#274, trip_distance#276, ratecode_id#653, PULocationID#279L AS pulocation_id#664L, DOLocationID#280L, payment_type#281L, fare_amount#282, tip_amount#285, total_amount#288]\n:                                   :                    +- Project [tpep_pickup_datetime#273, tpep_dropoff_datetime#274, trip_distance#276, RatecodeID#277 AS ratecode_id#653, PULocationID#279L, DOLocationID#280L, payment_type#281L, fare_amount#282, tip_amount#285, total_amount#288]\n:                                   :                       +- Project [tpep_pickup_datetime#273, tpep_dropoff_datetime#274, trip_distance#276, RatecodeID#277, PULocationID#279L, DOLocationID#280L, payment_type#281L, fare_amount#282, tip_amount#285, total_amount#288]\n:                                   :                          +- Relation [VendorID#272L,tpep_pickup_datetime#273,tpep_dropoff_datetime#274,passenger_count#275,trip_distance#276,RatecodeID#277,store_and_fwd_flag#278,PULocationID#279L,DOLocationID#280L,payment_type#281L,fare_amount#282,extra#283,mta_tax#284,tip_amount#285,tolls_amount#286,improvement_surcharge#287,total_amount#288,congestion_surcharge#289,airport_fee#290] parquet\n:                                   +- Project [tpep_pickup_datetime#874 AS tpep_pickup_datetime#892, tpep_dropoff_datetime#875 AS tpep_dropoff_datetime#893, trip_distance#877 AS trip_distance#894, ratecode_id#775 AS ratecode_id#895, pulocation_id#786 AS pulocation_id#896, dolocation_id#797 AS dolocation_id#897, payment_type#882L AS payment_type#898L, fare_amount#883 AS fare_amount#899, tip_amount#886 AS tip_amount#900, total_amount#889 AS total_amount#901]\n:                                      +- Filter (ratecode_id#775 = 6)\n:                                         +- Project [tpep_pickup_datetime#874, tpep_dropoff_datetime#875, trip_distance#877, ratecode_id#775, pulocation_id#786, dolocation_id#797, payment_type#882L, fare_amount#883, tip_amount#886, total_amount#889]\n:                                            +- Project [tpep_pickup_datetime#874, tpep_dropoff_datetime#875, trip_distance#877, ratecode_id#775, pulocation_id#786, cast(dolocation_id#675L as int) AS dolocation_id#797, payment_type#882L, fare_amount#883, tip_amount#886, total_amount#889]\n:                                               +- Project [tpep_pickup_datetime#874, tpep_dropoff_datetime#875, trip_distance#877, ratecode_id#775, cast(pulocation_id#664L as int) AS pulocation_id#786, dolocation_id#675L, payment_type#882L, fare_amount#883, tip_amount#886, total_amount#889]\n:                                                  +- Project [tpep_pickup_datetime#874, tpep_dropoff_datetime#875, trip_distance#877, cast(ratecode_id#653 as int) AS ratecode_id#775, pulocation_id#664L, dolocation_id#675L, payment_type#882L, fare_amount#883, tip_amount#886, total_amount#889]\n:                                                     +- Project [tpep_pickup_datetime#874, tpep_dropoff_datetime#875, trip_distance#877, ratecode_id#653, pulocation_id#664L, DOLocationID#881L AS dolocation_id#675L, payment_type#882L, fare_amount#883, tip_amount#886, total_amount#889]\n:                                                        +- Project [tpep_pickup_datetime#874, tpep_dropoff_datetime#875, trip_distance#877, ratecode_id#653, PULocationID#880L AS pulocation_id#664L, DOLocationID#881L, payment_type#882L, fare_amount#883, tip_amount#886, total_amount#889]\n:                                                           +- Project [tpep_pickup_datetime#874, tpep_dropoff_datetime#875, trip_distance#877, RatecodeID#878 AS ratecode_id#653, PULocationID#880L, DOLocationID#881L, payment_type#882L, fare_amount#883, tip_amount#886, total_amount#889]\n:                                                              +- Project [tpep_pickup_datetime#874, tpep_dropoff_datetime#875, trip_distance#877, RatecodeID#878, PULocationID#880L, DOLocationID#881L, payment_type#882L, fare_amount#883, tip_amount#886, total_amount#889]\n:                                                                 +- Relation [VendorID#873L,tpep_pickup_datetime#874,tpep_dropoff_datetime#875,passenger_count#876,trip_distance#877,RatecodeID#878,store_and_fwd_flag#879,PULocationID#880L,DOLocationID#881L,payment_type#882L,fare_amount#883,extra#884,mta_tax#885,tip_amount#886,tolls_amount#887,improvement_surcharge#888,total_amount#889,congestion_surcharge#890,airport_fee#891] parquet\n+- LogicalRDD [total_amount#1987, fare_amount#1988, tip_amount#1989, trip_distance#1990], false\n",
     "output_type": "error",
     "traceback": [
      "\u001b[0;31m---------------------------------------------------------------------------\u001b[0m",
      "\u001b[0;31mAnalysisException\u001b[0m                         Traceback (most recent call last)",
      "\u001b[0;32m/tmp/ipykernel_5475/1124457805.py\u001b[0m in \u001b[0;36m<module>\u001b[0;34m\u001b[0m\n\u001b[1;32m      6\u001b[0m \u001b[0mprint\u001b[0m\u001b[0;34m(\u001b[0m\u001b[0;34mf'Number of rows in numerical yellow: {sdf_numeric_yellow.count()}'\u001b[0m\u001b[0;34m)\u001b[0m\u001b[0;34m\u001b[0m\u001b[0;34m\u001b[0m\u001b[0m\n\u001b[1;32m      7\u001b[0m \u001b[0;34m\u001b[0m\u001b[0m\n\u001b[0;32m----> 8\u001b[0;31m \u001b[0myellow\u001b[0m \u001b[0;34m=\u001b[0m \u001b[0mtemp_non_numeric\u001b[0m\u001b[0;34m.\u001b[0m\u001b[0munion\u001b[0m\u001b[0;34m(\u001b[0m\u001b[0msdf_numeric_yellow\u001b[0m\u001b[0;34m)\u001b[0m\u001b[0;34m\u001b[0m\u001b[0;34m\u001b[0m\u001b[0m\n\u001b[0m\u001b[1;32m      9\u001b[0m \u001b[0mprint\u001b[0m\u001b[0;34m(\u001b[0m\u001b[0;34mf'Number of rows in concatenated yellow: {yellow.count()}'\u001b[0m\u001b[0;34m)\u001b[0m\u001b[0;34m\u001b[0m\u001b[0;34m\u001b[0m\u001b[0m\n",
      "\u001b[0;32m~/.local/lib/python3.8/site-packages/pyspark/sql/dataframe.py\u001b[0m in \u001b[0;36munion\u001b[0;34m(self, other)\u001b[0m\n\u001b[1;32m   2255\u001b[0m         \u001b[0mAlso\u001b[0m \u001b[0;32mas\u001b[0m \u001b[0mstandard\u001b[0m \u001b[0;32min\u001b[0m \u001b[0mSQL\u001b[0m\u001b[0;34m,\u001b[0m \u001b[0mthis\u001b[0m \u001b[0mfunction\u001b[0m \u001b[0mresolves\u001b[0m \u001b[0mcolumns\u001b[0m \u001b[0mby\u001b[0m \u001b[0mposition\u001b[0m \u001b[0;34m(\u001b[0m\u001b[0;32mnot\u001b[0m \u001b[0mby\u001b[0m \u001b[0mname\u001b[0m\u001b[0;34m)\u001b[0m\u001b[0;34m.\u001b[0m\u001b[0;34m\u001b[0m\u001b[0;34m\u001b[0m\u001b[0m\n\u001b[1;32m   2256\u001b[0m         \"\"\"\n\u001b[0;32m-> 2257\u001b[0;31m         \u001b[0;32mreturn\u001b[0m \u001b[0mDataFrame\u001b[0m\u001b[0;34m(\u001b[0m\u001b[0mself\u001b[0m\u001b[0;34m.\u001b[0m\u001b[0m_jdf\u001b[0m\u001b[0;34m.\u001b[0m\u001b[0munion\u001b[0m\u001b[0;34m(\u001b[0m\u001b[0mother\u001b[0m\u001b[0;34m.\u001b[0m\u001b[0m_jdf\u001b[0m\u001b[0;34m)\u001b[0m\u001b[0;34m,\u001b[0m \u001b[0mself\u001b[0m\u001b[0;34m.\u001b[0m\u001b[0msparkSession\u001b[0m\u001b[0;34m)\u001b[0m\u001b[0;34m\u001b[0m\u001b[0;34m\u001b[0m\u001b[0m\n\u001b[0m\u001b[1;32m   2258\u001b[0m \u001b[0;34m\u001b[0m\u001b[0m\n\u001b[1;32m   2259\u001b[0m     \u001b[0;34m@\u001b[0m\u001b[0msince\u001b[0m\u001b[0;34m(\u001b[0m\u001b[0;36m1.3\u001b[0m\u001b[0;34m)\u001b[0m\u001b[0;34m\u001b[0m\u001b[0;34m\u001b[0m\u001b[0m\n",
      "\u001b[0;32m~/.local/lib/python3.8/site-packages/py4j/java_gateway.py\u001b[0m in \u001b[0;36m__call__\u001b[0;34m(self, *args)\u001b[0m\n\u001b[1;32m   1319\u001b[0m \u001b[0;34m\u001b[0m\u001b[0m\n\u001b[1;32m   1320\u001b[0m         \u001b[0manswer\u001b[0m \u001b[0;34m=\u001b[0m \u001b[0mself\u001b[0m\u001b[0;34m.\u001b[0m\u001b[0mgateway_client\u001b[0m\u001b[0;34m.\u001b[0m\u001b[0msend_command\u001b[0m\u001b[0;34m(\u001b[0m\u001b[0mcommand\u001b[0m\u001b[0;34m)\u001b[0m\u001b[0;34m\u001b[0m\u001b[0;34m\u001b[0m\u001b[0m\n\u001b[0;32m-> 1321\u001b[0;31m         return_value = get_return_value(\n\u001b[0m\u001b[1;32m   1322\u001b[0m             answer, self.gateway_client, self.target_id, self.name)\n\u001b[1;32m   1323\u001b[0m \u001b[0;34m\u001b[0m\u001b[0m\n",
      "\u001b[0;32m~/.local/lib/python3.8/site-packages/pyspark/sql/utils.py\u001b[0m in \u001b[0;36mdeco\u001b[0;34m(*a, **kw)\u001b[0m\n\u001b[1;32m    194\u001b[0m                 \u001b[0;31m# Hide where the exception came from that shows a non-Pythonic\u001b[0m\u001b[0;34m\u001b[0m\u001b[0;34m\u001b[0m\u001b[0;34m\u001b[0m\u001b[0m\n\u001b[1;32m    195\u001b[0m                 \u001b[0;31m# JVM exception message.\u001b[0m\u001b[0;34m\u001b[0m\u001b[0;34m\u001b[0m\u001b[0;34m\u001b[0m\u001b[0m\n\u001b[0;32m--> 196\u001b[0;31m                 \u001b[0;32mraise\u001b[0m \u001b[0mconverted\u001b[0m \u001b[0;32mfrom\u001b[0m \u001b[0;32mNone\u001b[0m\u001b[0;34m\u001b[0m\u001b[0;34m\u001b[0m\u001b[0m\n\u001b[0m\u001b[1;32m    197\u001b[0m             \u001b[0;32melse\u001b[0m\u001b[0;34m:\u001b[0m\u001b[0;34m\u001b[0m\u001b[0;34m\u001b[0m\u001b[0m\n\u001b[1;32m    198\u001b[0m                 \u001b[0;32mraise\u001b[0m\u001b[0;34m\u001b[0m\u001b[0;34m\u001b[0m\u001b[0m\n",
      "\u001b[0;31mAnalysisException\u001b[0m: Union can only be performed on tables with the same number of columns, but the first table has 8 columns and the second table has 4 columns;\n'Union false, false\n:- Project [trip_distance#276, ratecode_id#775, pulocation_id#786, dolocation_id#797, payment_type#281L, fare_amount#282, tip_amount#285, total_amount#288]\n:  +- Filter (tip_amount#285 > cast(0 as double))\n:     +- Project [tpep_pickup_datetime#273, tpep_dropoff_datetime#274, trip_distance#276, ratecode_id#775, pulocation_id#786, dolocation_id#797, payment_type#281L, fare_amount#282, tip_amount#285, total_amount#288]\n:        +- Filter (fare_amount#282 > cast(0 as double))\n:           +- Project [tpep_pickup_datetime#273, tpep_dropoff_datetime#274, trip_distance#276, ratecode_id#775, pulocation_id#786, dolocation_id#797, payment_type#281L, fare_amount#282, tip_amount#285, total_amount#288]\n:              +- Filter (trip_distance#276 > cast(0 as double))\n:                 +- Project [tpep_pickup_datetime#273, tpep_dropoff_datetime#274, trip_distance#276, ratecode_id#775, pulocation_id#786, dolocation_id#797, payment_type#281L, fare_amount#282, tip_amount#285, total_amount#288]\n:                    +- Filter (total_amount#288 > cast(0 as double))\n:                       +- Project [tpep_pickup_datetime#273, tpep_dropoff_datetime#274, trip_distance#276, ratecode_id#775, pulocation_id#786, dolocation_id#797, payment_type#281L, fare_amount#282, tip_amount#285, total_amount#288]\n:                          +- Filter (payment_type#281L = cast(1 as bigint))\n:                             +- Project [tpep_pickup_datetime#273, tpep_dropoff_datetime#274, trip_distance#276, ratecode_id#775, pulocation_id#786, dolocation_id#797, payment_type#281L, fare_amount#282, tip_amount#285, total_amount#288]\n:                                +- Union false, false\n:                                   :- Filter (ratecode_id#775 = 1)\n:                                   :  +- Project [tpep_pickup_datetime#273, tpep_dropoff_datetime#274, trip_distance#276, ratecode_id#775, pulocation_id#786, dolocation_id#797, payment_type#281L, fare_amount#282, tip_amount#285, total_amount#288]\n:                                   :     +- Project [tpep_pickup_datetime#273, tpep_dropoff_datetime#274, trip_distance#276, ratecode_id#775, pulocation_id#786, cast(dolocation_id#675L as int) AS dolocation_id#797, payment_type#281L, fare_amount#282, tip_amount#285, total_amount#288]\n:                                   :        +- Project [tpep_pickup_datetime#273, tpep_dropoff_datetime#274, trip_distance#276, ratecode_id#775, cast(pulocation_id#664L as int) AS pulocation_id#786, dolocation_id#675L, payment_type#281L, fare_amount#282, tip_amount#285, total_amount#288]\n:                                   :           +- Project [tpep_pickup_datetime#273, tpep_dropoff_datetime#274, trip_distance#276, cast(ratecode_id#653 as int) AS ratecode_id#775, pulocation_id#664L, dolocation_id#675L, payment_type#281L, fare_amount#282, tip_amount#285, total_amount#288]\n:                                   :              +- Project [tpep_pickup_datetime#273, tpep_dropoff_datetime#274, trip_distance#276, ratecode_id#653, pulocation_id#664L, DOLocationID#280L AS dolocation_id#675L, payment_type#281L, fare_amount#282, tip_amount#285, total_amount#288]\n:                                   :                 +- Project [tpep_pickup_datetime#273, tpep_dropoff_datetime#274, trip_distance#276, ratecode_id#653, PULocationID#279L AS pulocation_id#664L, DOLocationID#280L, payment_type#281L, fare_amount#282, tip_amount#285, total_amount#288]\n:                                   :                    +- Project [tpep_pickup_datetime#273, tpep_dropoff_datetime#274, trip_distance#276, RatecodeID#277 AS ratecode_id#653, PULocationID#279L, DOLocationID#280L, payment_type#281L, fare_amount#282, tip_amount#285, total_amount#288]\n:                                   :                       +- Project [tpep_pickup_datetime#273, tpep_dropoff_datetime#274, trip_distance#276, RatecodeID#277, PULocationID#279L, DOLocationID#280L, payment_type#281L, fare_amount#282, tip_amount#285, total_amount#288]\n:                                   :                          +- Relation [VendorID#272L,tpep_pickup_datetime#273,tpep_dropoff_datetime#274,passenger_count#275,trip_distance#276,RatecodeID#277,store_and_fwd_flag#278,PULocationID#279L,DOLocationID#280L,payment_type#281L,fare_amount#282,extra#283,mta_tax#284,tip_amount#285,tolls_amount#286,improvement_surcharge#287,total_amount#288,congestion_surcharge#289,airport_fee#290] parquet\n:                                   +- Project [tpep_pickup_datetime#874 AS tpep_pickup_datetime#892, tpep_dropoff_datetime#875 AS tpep_dropoff_datetime#893, trip_distance#877 AS trip_distance#894, ratecode_id#775 AS ratecode_id#895, pulocation_id#786 AS pulocation_id#896, dolocation_id#797 AS dolocation_id#897, payment_type#882L AS payment_type#898L, fare_amount#883 AS fare_amount#899, tip_amount#886 AS tip_amount#900, total_amount#889 AS total_amount#901]\n:                                      +- Filter (ratecode_id#775 = 6)\n:                                         +- Project [tpep_pickup_datetime#874, tpep_dropoff_datetime#875, trip_distance#877, ratecode_id#775, pulocation_id#786, dolocation_id#797, payment_type#882L, fare_amount#883, tip_amount#886, total_amount#889]\n:                                            +- Project [tpep_pickup_datetime#874, tpep_dropoff_datetime#875, trip_distance#877, ratecode_id#775, pulocation_id#786, cast(dolocation_id#675L as int) AS dolocation_id#797, payment_type#882L, fare_amount#883, tip_amount#886, total_amount#889]\n:                                               +- Project [tpep_pickup_datetime#874, tpep_dropoff_datetime#875, trip_distance#877, ratecode_id#775, cast(pulocation_id#664L as int) AS pulocation_id#786, dolocation_id#675L, payment_type#882L, fare_amount#883, tip_amount#886, total_amount#889]\n:                                                  +- Project [tpep_pickup_datetime#874, tpep_dropoff_datetime#875, trip_distance#877, cast(ratecode_id#653 as int) AS ratecode_id#775, pulocation_id#664L, dolocation_id#675L, payment_type#882L, fare_amount#883, tip_amount#886, total_amount#889]\n:                                                     +- Project [tpep_pickup_datetime#874, tpep_dropoff_datetime#875, trip_distance#877, ratecode_id#653, pulocation_id#664L, DOLocationID#881L AS dolocation_id#675L, payment_type#882L, fare_amount#883, tip_amount#886, total_amount#889]\n:                                                        +- Project [tpep_pickup_datetime#874, tpep_dropoff_datetime#875, trip_distance#877, ratecode_id#653, PULocationID#880L AS pulocation_id#664L, DOLocationID#881L, payment_type#882L, fare_amount#883, tip_amount#886, total_amount#889]\n:                                                           +- Project [tpep_pickup_datetime#874, tpep_dropoff_datetime#875, trip_distance#877, RatecodeID#878 AS ratecode_id#653, PULocationID#880L, DOLocationID#881L, payment_type#882L, fare_amount#883, tip_amount#886, total_amount#889]\n:                                                              +- Project [tpep_pickup_datetime#874, tpep_dropoff_datetime#875, trip_distance#877, RatecodeID#878, PULocationID#880L, DOLocationID#881L, payment_type#882L, fare_amount#883, tip_amount#886, total_amount#889]\n:                                                                 +- Relation [VendorID#873L,tpep_pickup_datetime#874,tpep_dropoff_datetime#875,passenger_count#876,trip_distance#877,RatecodeID#878,store_and_fwd_flag#879,PULocationID#880L,DOLocationID#881L,payment_type#882L,fare_amount#883,extra#884,mta_tax#885,tip_amount#886,tolls_amount#887,improvement_surcharge#888,total_amount#889,congestion_surcharge#890,airport_fee#891] parquet\n+- LogicalRDD [total_amount#1987, fare_amount#1988, tip_amount#1989, trip_distance#1990], false\n"
     ]
    }
   ],
   "source": [
    "temp_non_numeric = yellow\n",
    "temp_non_numeric = temp_non_numeric.drop('tpep_pickup_datetime', 'tpep_dropoff_datetime')\n",
    "print(f'Number of rows in non-numerical yellow: {temp_non_numeric.count()}')\n",
    "\n",
    "\n",
    "\n",
    "'''sdf_numeric_yellow = spark.createDataFrame(pd_numeric_yellow)\n",
    "print(f'Number of rows in numerical yellow: {sdf_numeric_yellow.count()}')\n",
    "\n",
    "yellow = temp_non_numeric.union(sdf_numeric_yellow)\n",
    "print(f'Number of rows in concatenated yellow: {yellow.count()}')'''"
   ]
  },
  {
   "cell_type": "markdown",
   "metadata": {},
   "source": [
    "## 5. Unit Conversion\n",
    "\n",
    "- `[pu/do]location_id`: Geometry conversion as covered in Tutorial 2\n",
    "- `trip_distance`: Units are American - convert to metric units"
   ]
  },
  {
   "cell_type": "code",
   "execution_count": 70,
   "metadata": {},
   "outputs": [
    {
     "name": "stderr",
     "output_type": "stream",
     "text": [
      "                                                                                \r"
     ]
    },
    {
     "data": {
      "text/html": [
       "<table border='1'>\n",
       "<tr><th>tpep_pickup_datetime</th><th>tpep_dropoff_datetime</th><th>trip_distance</th><th>ratecode_id</th><th>pulocation_id</th><th>dolocation_id</th><th>payment_type</th><th>fare_amount</th><th>tip_amount</th><th>total_amount</th></tr>\n",
       "<tr><td>2022-01-01 00:35:40</td><td>2022-01-01 00:53:29</td><td>3.8</td><td>1</td><td>142</td><td>236</td><td>1</td><td>14.5</td><td>3.65</td><td>21.95</td></tr>\n",
       "<tr><td>2022-01-01 00:33:43</td><td>2022-01-01 00:42:07</td><td>2.1</td><td>1</td><td>236</td><td>42</td><td>1</td><td>8.0</td><td>4.0</td><td>13.3</td></tr>\n",
       "</table>\n"
      ],
      "text/plain": [
       "+--------------------+---------------------+-------------+-----------+-------------+-------------+------------+-----------+----------+------------+\n",
       "|tpep_pickup_datetime|tpep_dropoff_datetime|trip_distance|ratecode_id|pulocation_id|dolocation_id|payment_type|fare_amount|tip_amount|total_amount|\n",
       "+--------------------+---------------------+-------------+-----------+-------------+-------------+------------+-----------+----------+------------+\n",
       "| 2022-01-01 00:35:40|  2022-01-01 00:53:29|          3.8|          1|          142|          236|           1|       14.5|      3.65|       21.95|\n",
       "| 2022-01-01 00:33:43|  2022-01-01 00:42:07|          2.1|          1|          236|           42|           1|        8.0|       4.0|        13.3|\n",
       "+--------------------+---------------------+-------------+-----------+-------------+-------------+------------+-----------+----------+------------+"
      ]
     },
     "execution_count": 70,
     "metadata": {},
     "output_type": "execute_result"
    }
   ],
   "source": [
    "# Miles -> KM : 1.6 * miles = km\n",
    "yellow.limit(2)"
   ]
  },
  {
   "cell_type": "markdown",
   "metadata": {},
   "source": [
    "### Converting PU/DOLocation to Geometry \n",
    "Code attributed to tute2"
   ]
  },
  {
   "cell_type": "code",
   "execution_count": null,
   "metadata": {},
   "outputs": [],
   "source": []
  },
  {
   "cell_type": "code",
   "execution_count": null,
   "metadata": {},
   "outputs": [],
   "source": []
  },
  {
   "cell_type": "markdown",
   "metadata": {},
   "source": [
    "# How come this code doesn't work?\n",
    "\n",
    "sdf.select(column).distinct().show()"
   ]
  },
  {
   "cell_type": "code",
   "execution_count": null,
   "metadata": {},
   "outputs": [],
   "source": [
    "aggregated_results = sdf \\\n",
    "                    .groupBy(\"passenger_count\") \\\n",
    "                    .agg(\n",
    "                        F.mean(\"total_amount\").alias(\"avg_trip_amount_usd\"),\n",
    "                        F.max(\"trip_distance\").alias(\"max_trip_distance_miles\")\n",
    "                    ) \\\n",
    "                    .orderBy(\"passenger_count\")\n",
    "\n",
    "aggregated_results.show()"
   ]
  },
  {
   "cell_type": "code",
   "execution_count": null,
   "metadata": {},
   "outputs": [],
   "source": []
  }
 ],
 "metadata": {
  "kernelspec": {
   "display_name": "Python 3 (ipykernel)",
   "language": "python",
   "name": "python3"
  },
  "language_info": {
   "codemirror_mode": {
    "name": "ipython",
    "version": 3
   },
   "file_extension": ".py",
   "mimetype": "text/x-python",
   "name": "python",
   "nbconvert_exporter": "python",
   "pygments_lexer": "ipython3",
   "version": "3.8.10"
  },
  "vscode": {
   "interpreter": {
    "hash": "916dbcbb3f70747c44a77c7bcd40155683ae19c65e1c03b4aa3499c5328201f1"
   }
  }
 },
 "nbformat": 4,
 "nbformat_minor": 2
}
