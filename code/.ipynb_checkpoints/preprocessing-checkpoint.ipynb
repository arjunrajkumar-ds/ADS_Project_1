{
 "cells": [
  {
   "cell_type": "code",
   "execution_count": 1,
   "metadata": {},
   "outputs": [],
   "source": [
    "import time\n",
    "from datetime import datetime\n",
    "\n",
    "t1 = datetime.now()"
   ]
  },
  {
   "cell_type": "code",
   "execution_count": 2,
   "metadata": {},
   "outputs": [],
   "source": [
    "import pyspark\n",
    "import pandas as pd"
   ]
  },
  {
   "cell_type": "code",
   "execution_count": 3,
   "metadata": {},
   "outputs": [],
   "source": [
    "from pyspark.sql import SparkSession, functions as f\n",
    "import geopandas as gpd"
   ]
  },
  {
   "cell_type": "code",
   "execution_count": 4,
   "metadata": {},
   "outputs": [
    {
     "name": "stdout",
     "output_type": "stream",
     "text": [
      "22/08/26 19:28:30 WARN Utils: Your hostname, DESKTOP-4QJNQQU resolves to a loopback address: 127.0.1.1; using 172.17.239.84 instead (on interface eth0)\n",
      "22/08/26 19:28:30 WARN Utils: Set SPARK_LOCAL_IP if you need to bind to another address\n"
     ]
    },
    {
     "name": "stderr",
     "output_type": "stream",
     "text": [
      "Setting default log level to \"WARN\".\n",
      "To adjust logging level use sc.setLogLevel(newLevel). For SparkR, use setLogLevel(newLevel).\n"
     ]
    },
    {
     "name": "stdout",
     "output_type": "stream",
     "text": [
      "22/08/26 19:28:32 WARN NativeCodeLoader: Unable to load native-hadoop library for your platform... using builtin-java classes where applicable\n"
     ]
    }
   ],
   "source": [
    "spark = (\n",
    "    SparkSession.builder.appName(\"MAST30034 Tutorial 1\")\n",
    "    .config(\"spark.sql.repl.eagerEval.enabled\", True) \n",
    "    .config(\"spark.sql.parquet.cacheMetadata\", \"true\")\n",
    "    .config(\"spark.sql.session.timeZone\", \"Etc/UTC\")\n",
    "    .config(\"spark.executor.memory\", \"4g\")\n",
    "    .config(\"spark.driver.memory\", \"8g\")\n",
    "    .getOrCreate()\n",
    ")"
   ]
  },
  {
   "cell_type": "markdown",
   "metadata": {},
   "source": [
    "# Preprocessing Steps -"
   ]
  },
  {
   "cell_type": "markdown",
   "metadata": {},
   "source": [
    "# 1. Reading in the data\n",
    "The two datasets used for this analysis are:\n",
    "### Yellow NYC Taxi trip data\n",
    "Consists of 4 months (Jan - Apr 2022) of trip data, in the form of 4 parquet files - one for each month. However with PySpark, the entire directory is allowed to be read in at once, concatenating the data into one large dataframe"
   ]
  },
  {
   "cell_type": "code",
   "execution_count": 5,
   "metadata": {},
   "outputs": [
    {
     "name": "stderr",
     "output_type": "stream",
     "text": [
      "                                                                                \r"
     ]
    },
    {
     "data": {
      "text/html": [
       "<table border='1'>\n",
       "<tr><th>VendorID</th><th>tpep_pickup_datetime</th><th>tpep_dropoff_datetime</th><th>passenger_count</th><th>trip_distance</th><th>RatecodeID</th><th>store_and_fwd_flag</th><th>PULocationID</th><th>DOLocationID</th><th>payment_type</th><th>fare_amount</th><th>extra</th><th>mta_tax</th><th>tip_amount</th><th>tolls_amount</th><th>improvement_surcharge</th><th>total_amount</th><th>congestion_surcharge</th><th>airport_fee</th></tr>\n",
       "<tr><td>1</td><td>2022-01-01 00:35:40</td><td>2022-01-01 00:53:29</td><td>2.0</td><td>3.8</td><td>1.0</td><td>N</td><td>142</td><td>236</td><td>1</td><td>14.5</td><td>3.0</td><td>0.5</td><td>3.65</td><td>0.0</td><td>0.3</td><td>21.95</td><td>2.5</td><td>0.0</td></tr>\n",
       "<tr><td>1</td><td>2022-01-01 00:33:43</td><td>2022-01-01 00:42:07</td><td>1.0</td><td>2.1</td><td>1.0</td><td>N</td><td>236</td><td>42</td><td>1</td><td>8.0</td><td>0.5</td><td>0.5</td><td>4.0</td><td>0.0</td><td>0.3</td><td>13.3</td><td>0.0</td><td>0.0</td></tr>\n",
       "<tr><td>2</td><td>2022-01-01 00:53:21</td><td>2022-01-01 01:02:19</td><td>1.0</td><td>0.97</td><td>1.0</td><td>N</td><td>166</td><td>166</td><td>1</td><td>7.5</td><td>0.5</td><td>0.5</td><td>1.76</td><td>0.0</td><td>0.3</td><td>10.56</td><td>0.0</td><td>0.0</td></tr>\n",
       "<tr><td>2</td><td>2022-01-01 00:25:21</td><td>2022-01-01 00:35:23</td><td>1.0</td><td>1.09</td><td>1.0</td><td>N</td><td>114</td><td>68</td><td>2</td><td>8.0</td><td>0.5</td><td>0.5</td><td>0.0</td><td>0.0</td><td>0.3</td><td>11.8</td><td>2.5</td><td>0.0</td></tr>\n",
       "<tr><td>2</td><td>2022-01-01 00:36:48</td><td>2022-01-01 01:14:20</td><td>1.0</td><td>4.3</td><td>1.0</td><td>N</td><td>68</td><td>163</td><td>1</td><td>23.5</td><td>0.5</td><td>0.5</td><td>3.0</td><td>0.0</td><td>0.3</td><td>30.3</td><td>2.5</td><td>0.0</td></tr>\n",
       "<tr><td>1</td><td>2022-01-01 00:40:15</td><td>2022-01-01 01:09:48</td><td>1.0</td><td>10.3</td><td>1.0</td><td>N</td><td>138</td><td>161</td><td>1</td><td>33.0</td><td>3.0</td><td>0.5</td><td>13.0</td><td>6.55</td><td>0.3</td><td>56.35</td><td>2.5</td><td>0.0</td></tr>\n",
       "<tr><td>2</td><td>2022-01-01 00:20:50</td><td>2022-01-01 00:34:58</td><td>1.0</td><td>5.07</td><td>1.0</td><td>N</td><td>233</td><td>87</td><td>1</td><td>17.0</td><td>0.5</td><td>0.5</td><td>5.2</td><td>0.0</td><td>0.3</td><td>26.0</td><td>2.5</td><td>0.0</td></tr>\n",
       "<tr><td>2</td><td>2022-01-01 00:13:04</td><td>2022-01-01 00:22:45</td><td>1.0</td><td>2.02</td><td>1.0</td><td>N</td><td>238</td><td>152</td><td>2</td><td>9.0</td><td>0.5</td><td>0.5</td><td>0.0</td><td>0.0</td><td>0.3</td><td>12.8</td><td>2.5</td><td>0.0</td></tr>\n",
       "<tr><td>2</td><td>2022-01-01 00:30:02</td><td>2022-01-01 00:44:49</td><td>1.0</td><td>2.71</td><td>1.0</td><td>N</td><td>166</td><td>236</td><td>1</td><td>12.0</td><td>0.5</td><td>0.5</td><td>2.25</td><td>0.0</td><td>0.3</td><td>18.05</td><td>2.5</td><td>0.0</td></tr>\n",
       "<tr><td>2</td><td>2022-01-01 00:48:52</td><td>2022-01-01 00:53:28</td><td>1.0</td><td>0.78</td><td>1.0</td><td>N</td><td>236</td><td>141</td><td>2</td><td>5.0</td><td>0.5</td><td>0.5</td><td>0.0</td><td>0.0</td><td>0.3</td><td>8.8</td><td>2.5</td><td>0.0</td></tr>\n",
       "</table>\n"
      ],
      "text/plain": [
       "+--------+--------------------+---------------------+---------------+-------------+----------+------------------+------------+------------+------------+-----------+-----+-------+----------+------------+---------------------+------------+--------------------+-----------+\n",
       "|VendorID|tpep_pickup_datetime|tpep_dropoff_datetime|passenger_count|trip_distance|RatecodeID|store_and_fwd_flag|PULocationID|DOLocationID|payment_type|fare_amount|extra|mta_tax|tip_amount|tolls_amount|improvement_surcharge|total_amount|congestion_surcharge|airport_fee|\n",
       "+--------+--------------------+---------------------+---------------+-------------+----------+------------------+------------+------------+------------+-----------+-----+-------+----------+------------+---------------------+------------+--------------------+-----------+\n",
       "|       1| 2022-01-01 00:35:40|  2022-01-01 00:53:29|            2.0|          3.8|       1.0|                 N|         142|         236|           1|       14.5|  3.0|    0.5|      3.65|         0.0|                  0.3|       21.95|                 2.5|        0.0|\n",
       "|       1| 2022-01-01 00:33:43|  2022-01-01 00:42:07|            1.0|          2.1|       1.0|                 N|         236|          42|           1|        8.0|  0.5|    0.5|       4.0|         0.0|                  0.3|        13.3|                 0.0|        0.0|\n",
       "|       2| 2022-01-01 00:53:21|  2022-01-01 01:02:19|            1.0|         0.97|       1.0|                 N|         166|         166|           1|        7.5|  0.5|    0.5|      1.76|         0.0|                  0.3|       10.56|                 0.0|        0.0|\n",
       "|       2| 2022-01-01 00:25:21|  2022-01-01 00:35:23|            1.0|         1.09|       1.0|                 N|         114|          68|           2|        8.0|  0.5|    0.5|       0.0|         0.0|                  0.3|        11.8|                 2.5|        0.0|\n",
       "|       2| 2022-01-01 00:36:48|  2022-01-01 01:14:20|            1.0|          4.3|       1.0|                 N|          68|         163|           1|       23.5|  0.5|    0.5|       3.0|         0.0|                  0.3|        30.3|                 2.5|        0.0|\n",
       "|       1| 2022-01-01 00:40:15|  2022-01-01 01:09:48|            1.0|         10.3|       1.0|                 N|         138|         161|           1|       33.0|  3.0|    0.5|      13.0|        6.55|                  0.3|       56.35|                 2.5|        0.0|\n",
       "|       2| 2022-01-01 00:20:50|  2022-01-01 00:34:58|            1.0|         5.07|       1.0|                 N|         233|          87|           1|       17.0|  0.5|    0.5|       5.2|         0.0|                  0.3|        26.0|                 2.5|        0.0|\n",
       "|       2| 2022-01-01 00:13:04|  2022-01-01 00:22:45|            1.0|         2.02|       1.0|                 N|         238|         152|           2|        9.0|  0.5|    0.5|       0.0|         0.0|                  0.3|        12.8|                 2.5|        0.0|\n",
       "|       2| 2022-01-01 00:30:02|  2022-01-01 00:44:49|            1.0|         2.71|       1.0|                 N|         166|         236|           1|       12.0|  0.5|    0.5|      2.25|         0.0|                  0.3|       18.05|                 2.5|        0.0|\n",
       "|       2| 2022-01-01 00:48:52|  2022-01-01 00:53:28|            1.0|         0.78|       1.0|                 N|         236|         141|           2|        5.0|  0.5|    0.5|       0.0|         0.0|                  0.3|         8.8|                 2.5|        0.0|\n",
       "+--------+--------------------+---------------------+---------------+-------------+----------+------------------+------------+------------+------------+-----------+-----+-------+----------+------------+---------------------+------------+--------------------+-----------+"
      ]
     },
     "metadata": {},
     "output_type": "display_data"
    },
    {
     "name": "stdout",
     "output_type": "stream",
     "text": [
      "Shape of yellow dataset is 12671164 rows x 19 columns\n"
     ]
    }
   ],
   "source": [
    "yellow = spark.read.parquet('../../ADS_Project_1/raw_data/tlc_yellow')\n",
    "display(yellow.limit(10))\n",
    "print(f'Shape of yellow dataset is {yellow.count()} rows x {len(yellow.columns)} columns')"
   ]
  },
  {
   "cell_type": "markdown",
   "metadata": {},
   "source": [
    "### NYC Property Sale data\n",
    "Consists of a year (Aug 21 - July 22) of sale data, in the form of 5 excel files - one for each borough. Since this data is in a different format, it will be manually concatenated into a larger, overarching dataframe\n",
    "\n",
    "### *PLEASE NOTE*\n",
    "At this step, please see instructions below on manually preparing the data for reading these excel files in. These instructions can also be found in the `ReadMe`\n",
    "\n",
    "- Run the download script in `download_script` to get the files on your machine\n",
    "- Open the first property_df file (named after one of NYC's 5 boroughs)\n",
    "- Select the first 4 rows of the Excel spreadsheet by clicking, holding and dragging down from the `1` to the `4` on the left\n",
    "- Right click the selection you just made and click `Delete`\n",
    "- Save the file with `CTRL + S`\n",
    "- Repeat for the other borough files"
   ]
  },
  {
   "cell_type": "code",
   "execution_count": 6,
   "metadata": {},
   "outputs": [
    {
     "name": "stdout",
     "output_type": "stream",
     "text": [
      "Dimensions are:\n",
      "\n",
      "Bronx: (7651, 21)\n",
      "Brooklyn: (28557, 21)\n",
      "Manhattan: (23370, 21)\n",
      "Queens: (29983, 21)\n",
      "Staten Island: (8964, 21)\n",
      "\n",
      "\n",
      "So `property_df` (all individual boroughs stacked on top of each other) should be 7651 + 28557 + 29983 + 8964 = 98525\n",
      "Property: (98525, 21)\n",
      "Nice\n"
     ]
    }
   ],
   "source": [
    "# Initialising the overarching property_df dataset\n",
    "property_df = pd.DataFrame()\n",
    "\n",
    "# Reading in each borough and scaffolding to make sure concatenation is correct\n",
    "bronx = pd.read_excel('../raw_data/property_data/bronx.xlsx')\n",
    "print('Dimensions are:\\n')\n",
    "print(f'Bronx: {bronx.shape}')\n",
    "brooklyn = pd.read_excel('../raw_data/property_data/brooklyn.xlsx')\n",
    "print(f'Brooklyn: {brooklyn.shape}')\n",
    "manhattan = pd.read_excel('../raw_data/property_data/manhattan.xlsx')\n",
    "print(f'Manhattan: {manhattan.shape}')\n",
    "queens = pd.read_excel('../raw_data/property_data/queens.xlsx')\n",
    "print(f'Queens: {queens.shape}')\n",
    "statenisland = pd.read_excel('../raw_data/property_data/statenisland.xlsx')\n",
    "print(f'Staten Island: {statenisland.shape}\\n\\n')\n",
    "\n",
    "# Concatenating them all\n",
    "property_df = bronx\n",
    "property_df = pd.concat([property_df, brooklyn])\n",
    "property_df = pd.concat([property_df, manhattan])\n",
    "property_df = pd.concat([property_df, queens])\n",
    "property_df = pd.concat([property_df, statenisland])\n",
    "\n",
    "tot = 7651 + 28557 + 23370 + 29983 + 8964\n",
    "print(f'So `property_df` (all individual boroughs stacked on top of each other) should be 7651 + 28557 + 29983 + 8964 = {tot}')\n",
    "print(f'Property: {property_df.shape}')\n",
    "\n",
    "if tot == property_df.shape[0]:\n",
    "    print('Nice')"
   ]
  },
  {
   "cell_type": "markdown",
   "metadata": {},
   "source": [
    "# Yellow Dataset -"
   ]
  },
  {
   "cell_type": "markdown",
   "metadata": {},
   "source": [
    "## 1. Getting rid of unrelated data\n",
    "We don't care about some attributes for the purposes of our analysis, so need to drop those specific columns\n",
    "\n",
    "### Yellow data -\n",
    "- VendorID\n",
    "- Passenger_count: Assumption being made (based off personal experience) that even when multiple riders take an uber, only 1 rider (usually the one who requested the ride) tips the driver\n",
    "- Store_and_fwd_flag\n",
    "- Extra \n",
    "- MTA_tax\n",
    "- Improvement_surcharge\n",
    "- Tolls_amount\n",
    "- Congestion_surcharge\n",
    "- Airport_fee"
   ]
  },
  {
   "cell_type": "code",
   "execution_count": 7,
   "metadata": {},
   "outputs": [],
   "source": [
    "yellow_drop_columns = ['VendorID', 'Passenger_count', 'Store_and_fwd_flag', 'Extra', 'MTA_Tax', 'Improvement_surcharge',\\\n",
    "                       'Tolls_amount', 'Congestion_surcharge', 'Airport_fee']\n",
    "\n",
    "yellow = yellow.drop(*yellow_drop_columns)"
   ]
  },
  {
   "cell_type": "markdown",
   "metadata": {},
   "source": [
    "### Property data -\n",
    "The following attributes will be dropped because again, they are unrelevant and don't contribute to this study in a meaningful way. They could potentially be useful for other analyses though\n",
    "- Tax Class at Present\n",
    "- Block\n",
    "- Lot\n",
    "- Easement\n",
    "- Building Class at Present\n",
    "- Apartment Number\n",
    "- ZIP Code\n",
    "- Total Units: A linear combination of Residential and Commercial Unit (might still not end up using this attribute)\n",
    "- Land Square Feet: Will instead use Gross Square Feet - assumption made that property_df valuations use area of land, not building\n",
    "- Tax Class at Time of Sale\n",
    "- Building Class at Time of Sale\n",
    "- Sale Date"
   ]
  },
  {
   "cell_type": "code",
   "execution_count": 8,
   "metadata": {},
   "outputs": [],
   "source": [
    "property_df_drop_columns = ['TAX CLASS AT PRESENT', 'BLOCK', 'LOT', 'EASEMENT', 'BUILDING CLASS AT PRESENT', 'APARTMENT NUMBER',\\\n",
    "                        'ZIP CODE', 'TOTAL UNITS', 'LAND SQUARE FEET', 'TAX CLASS AT TIME OF SALE', \\\n",
    "                         'BUILDING CLASS AT TIME OF SALE', 'SALE DATE']\n",
    "\n",
    "property_df.drop(columns = property_df_drop_columns, inplace = True)"
   ]
  },
  {
   "cell_type": "markdown",
   "metadata": {},
   "source": [
    "## 2. Making consistent variable names"
   ]
  },
  {
   "cell_type": "code",
   "execution_count": 9,
   "metadata": {},
   "outputs": [],
   "source": [
    "# Some column names are in CamelCase, so making it consistent and changing those over\n",
    "yellow = yellow.withColumnRenamed(\n",
    "    'RatecodeID',\n",
    "    'ratecode_id'\n",
    ")\n",
    "yellow = yellow.withColumnRenamed(\n",
    "    'PULocationID',\n",
    "    'pulocation_id'\n",
    ")\n",
    "yellow = yellow.withColumnRenamed(\n",
    "    'DOLocationID',\n",
    "    'dolocation_id'\n",
    ")"
   ]
  },
  {
   "cell_type": "code",
   "execution_count": 10,
   "metadata": {},
   "outputs": [],
   "source": [
    "property_df.rename(columns={'BOROUGH':'borough', 'NEIGHBORHOOD':'neighbourhood', 'BUILDING CLASS CATEGORY':'building_class', \\\n",
    "                         'ADDRESS':'address', 'RESIDENTIAL UNITS':'resi_units', 'COMMERCIAL UNITS':'comm_units', \\\n",
    "                         'GROSS SQUARE FEET':'gross_sq_feet', 'YEAR BUILT':'year_built', 'SALE PRICE':'sale_price'}, \\\n",
    "                inplace=True)"
   ]
  },
  {
   "cell_type": "markdown",
   "metadata": {},
   "source": [
    "## 2. Handling Missing / Null / NA Data -"
   ]
  },
  {
   "cell_type": "markdown",
   "metadata": {},
   "source": [
    "## Yellow -"
   ]
  },
  {
   "cell_type": "code",
   "execution_count": 11,
   "metadata": {},
   "outputs": [
    {
     "name": "stderr",
     "output_type": "stream",
     "text": [
      "[Stage 10:=========================================>                (5 + 2) / 7]\r"
     ]
    },
    {
     "name": "stdout",
     "output_type": "stream",
     "text": [
      "+-------------+-----------+-------------+-------------+------------+-----------+----------+------------+\n",
      "|trip_distance|ratecode_id|pulocation_id|dolocation_id|payment_type|fare_amount|tip_amount|total_amount|\n",
      "+-------------+-----------+-------------+-------------+------------+-----------+----------+------------+\n",
      "|            0|          0|            0|            0|           0|          0|         0|           0|\n",
      "+-------------+-----------+-------------+-------------+------------+-----------+----------+------------+\n",
      "\n"
     ]
    },
    {
     "name": "stderr",
     "output_type": "stream",
     "text": [
      "\r",
      "                                                                                \r"
     ]
    }
   ],
   "source": [
    "# Code taken from https://stackoverflow.com/questions/44627386/how-to-find-count-of-null-and-nan-values-for-each-column-in-a-pyspark-dataframe\n",
    "\n",
    "from pyspark.sql.functions import isnan, when, count, col\n",
    "\n",
    "columns = ['trip_distance', 'ratecode_id', 'pulocation_id', 'dolocation_id', 'payment_type', 'fare_amount', 'tip_amount', \\\n",
    "          'total_amount']\n",
    "\n",
    "yellow.select([count(when(isnan(c), c)).alias(c) for c in columns]).show()\n",
    "\n",
    "# It looks like there are no null values here"
   ]
  },
  {
   "cell_type": "markdown",
   "metadata": {},
   "source": [
    "## Property -"
   ]
  },
  {
   "cell_type": "code",
   "execution_count": 12,
   "metadata": {},
   "outputs": [
    {
     "data": {
      "text/plain": [
       "borough               0\n",
       "neighbourhood         0\n",
       "building_class        0\n",
       "address               0\n",
       "resi_units        24303\n",
       "comm_units        43507\n",
       "gross_sq_feet     46660\n",
       "year_built         7443\n",
       "sale_price            0\n",
       "dtype: int64"
      ]
     },
     "metadata": {},
     "output_type": "display_data"
    }
   ],
   "source": [
    "# Finding how many null values there are in each column \n",
    "display(property_df.isnull().sum())"
   ]
  },
  {
   "cell_type": "code",
   "execution_count": 13,
   "metadata": {},
   "outputs": [
    {
     "name": "stdout",
     "output_type": "stream",
     "text": [
      "Percentage of null values each column:\n",
      "\n",
      "resi_units : 25.0%\n",
      "comm_units : 44.0%\n",
      "gross_sq_feet : 47.0%\n",
      "year_built : 8.0%\n"
     ]
    }
   ],
   "source": [
    "# Substantial number of null values for 3 columns, and some for 1\n",
    "\n",
    "print('Percentage of null values each column:\\n')\n",
    "print(f'resi_units : {100 * (round(24303/property_df.shape[0], 2))}%')\n",
    "print(f'comm_units : {100 * (round(43507/property_df.shape[0], 2))}%')\n",
    "print(f'gross_sq_feet : {100 * (round(46660/property_df.shape[0], 2))}%')\n",
    "print(f'year_built : {100 * (round(7443/property_df.shape[0], 2))}%')"
   ]
  },
  {
   "cell_type": "markdown",
   "metadata": {},
   "source": [
    "- `resi_units`: 25% missing values. This feature tells us about how many units on the property_df were listed as for residential or commercial use. We will just drop this feature entirely, since I originally thought that the # of rooms would probably have a relationship with tip fare, however this would almost directly be correlated with total `sale_price` (more units = more sq footage = more expensive. Possibly an assumption, but a very safe one\n",
    "- `comm_units`: See above\n",
    "- `gross_sq_feet`: Looking at spread of data (see (& run) cell below), it's pretty safe to imput the data - follows an approximate Normal Distribution. However the outliers must be removed before imputation\n",
    "- `year_built`: Values don't really follow a Normal Distribution (3 cells below), but I think that the feature would still offer some significant significance. Additionally, only 8% of the data would be mean-imputed, so I doubt it would affect the distribution all that much\n",
    "\n",
    "# REMEMBER TO IMPUTE THIS COLUMN"
   ]
  },
  {
   "cell_type": "code",
   "execution_count": 14,
   "metadata": {},
   "outputs": [
    {
     "data": {
      "image/png": "[encoded data removed]",
      "text/plain": [
       "<Figure size 432x288 with 1 Axes>"
      ]
     },
     "metadata": {
      "needs_background": "light"
     },
     "output_type": "display_data"
    }
   ],
   "source": [
    "fig1 = property_df['gross_sq_feet'].plot.box()"
   ]
  },
  {
   "cell_type": "code",
   "execution_count": 15,
   "metadata": {},
   "outputs": [
    {
     "data": {
      "image/png": "[encoded data removed]",
      "text/plain": [
       "<Figure size 432x288 with 1 Axes>"
      ]
     },
     "metadata": {
      "needs_background": "light"
     },
     "output_type": "display_data"
    }
   ],
   "source": [
    "fig2 = property_df['year_built'].plot.hist()"
   ]
  },
  {
   "cell_type": "code",
   "execution_count": 16,
   "metadata": {},
   "outputs": [],
   "source": [
    "# Dropping resi/comm_units\n",
    "property_df = property_df.drop(columns = ['resi_units', 'comm_units'])\n",
    "\n",
    "# Mean imputing year_built\n",
    "year_mean = property_df['year_built'].mean()\n",
    "property_df['year_built'] = property_df['year_built'].fillna(value = year_mean)"
   ]
  },
  {
   "cell_type": "markdown",
   "metadata": {},
   "source": [
    "## 2. Typecasting\n",
    "Making sure that all columns are appropriately typed\n",
    "\n",
    "There are several columns that we need to adjust the type for. They'll be listed below with their justifications\n",
    "\n",
    "### Yellow data -\n",
    "- RatecodeIDs: int - Column is made only of integers\n",
    "- Location IDs: int - See above"
   ]
  },
  {
   "cell_type": "code",
   "execution_count": 17,
   "metadata": {},
   "outputs": [],
   "source": [
    "columns = ['ratecode_id', 'pulocation_id', 'dolocation_id']\n",
    "for column in columns:\n",
    "    yellow = yellow.withColumn(\n",
    "        column,\n",
    "        f.col(column).astype('INT')\n",
    "    )"
   ]
  },
  {
   "cell_type": "markdown",
   "metadata": {},
   "source": [
    "### Property data -\n",
    "- year_built: int - See above"
   ]
  },
  {
   "cell_type": "code",
   "execution_count": 18,
   "metadata": {},
   "outputs": [],
   "source": [
    "# Casting year_built column to int\n",
    "property_df = property_df.astype({'year_built': int})"
   ]
  },
  {
   "cell_type": "markdown",
   "metadata": {},
   "source": [
    "## Filtering\n",
    "\n",
    "There are ___ attributes that change the data drastically depending on their value. They are:\n",
    "\n",
    "- ratecode_id: Depending on the `ratecode_id`, the trip data refers to airport trips, group rides or negotiated fare. In an earlier assumption, I posited that shared rides wouldn't have an overt effect on fare / distance / tip, so left that in. However, airport trips and negotiated fares would. They also make up a tiny part of the overall dataset -\n",
    "- payment_type: As this analysis is interested in tips, it has been provided in the data dictionary that tips are only recorded for payment_type = 1. That is, a credit card was used. Other values of payment_type have no tip recorded, and if put into a model, will introduce massive bias\n",
    "- Manual inspection of the data also revealed that "
   ]
  },
  {
   "cell_type": "code",
   "execution_count": 19,
   "metadata": {},
   "outputs": [
    {
     "name": "stdout",
     "output_type": "stream",
     "text": [
      "Full yellow dataset has 12671164 rows\n",
      "\n",
      "ratecode_id = 1 has 11705675 rows\n",
      "ratecode_id = 2 has 109 rows\n",
      "\n",
      "Filtered yellow dataset has 11705784 rows\n",
      "Should have 11705784 rows\n",
      "92.38% of rows retained\n"
     ]
    }
   ],
   "source": [
    "# Filtering relevant rows based on ratecode_id value and overwriting unfiltered yellow dataframe\n",
    "\n",
    "df_1 = yellow.select('*').where(yellow['ratecode_id'] == 1)\n",
    "df_2 = yellow.select('*').where(yellow['ratecode_id'] == 6)\n",
    "\n",
    "original_yellow = yellow.count()\n",
    "\n",
    "print(f'Full yellow dataset has {original_yellow} rows\\n')\n",
    "print(f'ratecode_id = 1 has {df_1.count()} rows')\n",
    "print(f'ratecode_id = 2 has {df_2.count()} rows\\n')\n",
    "\n",
    "yellow = df_1.union(df_2)\n",
    "print(f'Filtered yellow dataset has {yellow.count()} rows')\n",
    "print(f'Should have {df_1.count() + df_2.count()} rows')\n",
    "\n",
    "percentage = yellow.count() / original_yellow\n",
    "print(f'{round(percentage * 100, 2)}% of rows retained')"
   ]
  },
  {
   "cell_type": "code",
   "execution_count": 20,
   "metadata": {},
   "outputs": [
    {
     "name": "stdout",
     "output_type": "stream",
     "text": [
      "payment_type = 1 has 9244878 rows\n",
      "Filtered yellow has 11705784 rows\n",
      "78.98% of rows retained\n"
     ]
    }
   ],
   "source": [
    "df_3 = yellow.select('*').where(yellow['payment_type'] == 1)\n",
    "\n",
    "print(f'payment_type = 1 has {df_3.count()} rows')\n",
    "print(f'Filtered yellow has {yellow.count()} rows')\n",
    "\n",
    "print(f'{round(df_3.count() / yellow.count() * 100, 2)}% of rows retained')\n",
    "\n",
    "yellow = yellow.select('*').where(yellow['payment_type'] == 1)"
   ]
  },
  {
   "cell_type": "code",
   "execution_count": 21,
   "metadata": {},
   "outputs": [
    {
     "name": "stderr",
     "output_type": "stream",
     "text": [
      "                                                                                \r"
     ]
    },
    {
     "data": {
      "text/html": [
       "<table border='1'>\n",
       "<tr><th>tpep_pickup_datetime</th><th>tpep_dropoff_datetime</th><th>trip_distance</th><th>ratecode_id</th><th>pulocation_id</th><th>dolocation_id</th><th>payment_type</th><th>fare_amount</th><th>tip_amount</th><th>total_amount</th></tr>\n",
       "<tr><td>2022-03-04 00:02:00</td><td>2022-03-04 00:25:34</td><td>8.06</td><td>1</td><td>138</td><td>152</td><td>1</td><td>-26.0</td><td>-75.26</td><td>-110.36</td></tr>\n",
       "<tr><td>2022-01-20 17:16:29</td><td>2022-01-20 17:23:30</td><td>1.18</td><td>1</td><td>249</td><td>125</td><td>1</td><td>-6.5</td><td>-98.01</td><td>-108.81</td></tr>\n",
       "<tr><td>2022-02-27 14:53:46</td><td>2022-02-27 15:17:28</td><td>2.23</td><td>1</td><td>113</td><td>230</td><td>1</td><td>-15.5</td><td>-76.1</td><td>-94.9</td></tr>\n",
       "<tr><td>2022-03-23 09:43:57</td><td>2022-03-23 10:24:32</td><td>13.23</td><td>1</td><td>186</td><td>182</td><td>1</td><td>-42.0</td><td>-45.3</td><td>-90.6</td></tr>\n",
       "<tr><td>2022-04-01 17:29:49</td><td>2022-04-01 18:13:57</td><td>10.53</td><td>1</td><td>132</td><td>171</td><td>1</td><td>-36.5</td><td>-45.0</td><td>-84.55</td></tr>\n",
       "<tr><td>2022-02-06 14:06:22</td><td>2022-02-06 14:08:51</td><td>0.34</td><td>1</td><td>13</td><td>13</td><td>1</td><td>-3.5</td><td>-68.2</td><td>-75.0</td></tr>\n",
       "<tr><td>2022-03-11 05:41:29</td><td>2022-03-11 06:03:29</td><td>9.28</td><td>1</td><td>132</td><td>98</td><td>1</td><td>-27.0</td><td>-35.0</td><td>-64.55</td></tr>\n",
       "<tr><td>2022-02-20 06:03:40</td><td>2022-02-20 06:27:19</td><td>6.4</td><td>1</td><td>186</td><td>217</td><td>1</td><td>-23.0</td><td>-27.0</td><td>-53.8</td></tr>\n",
       "<tr><td>2022-02-25 15:02:19</td><td>2022-02-25 15:24:45</td><td>6.38</td><td>1</td><td>100</td><td>231</td><td>1</td><td>-22.0</td><td>-5.06</td><td>-30.36</td></tr>\n",
       "<tr><td>2022-04-14 21:01:18</td><td>2022-04-14 21:24:00</td><td>5.12</td><td>1</td><td>114</td><td>62</td><td>1</td><td>-19.5</td><td>-4.66</td><td>-27.96</td></tr>\n",
       "</table>\n"
      ],
      "text/plain": [
       "+--------------------+---------------------+-------------+-----------+-------------+-------------+------------+-----------+----------+------------+\n",
       "|tpep_pickup_datetime|tpep_dropoff_datetime|trip_distance|ratecode_id|pulocation_id|dolocation_id|payment_type|fare_amount|tip_amount|total_amount|\n",
       "+--------------------+---------------------+-------------+-----------+-------------+-------------+------------+-----------+----------+------------+\n",
       "| 2022-03-04 00:02:00|  2022-03-04 00:25:34|         8.06|          1|          138|          152|           1|      -26.0|    -75.26|     -110.36|\n",
       "| 2022-01-20 17:16:29|  2022-01-20 17:23:30|         1.18|          1|          249|          125|           1|       -6.5|    -98.01|     -108.81|\n",
       "| 2022-02-27 14:53:46|  2022-02-27 15:17:28|         2.23|          1|          113|          230|           1|      -15.5|     -76.1|       -94.9|\n",
       "| 2022-03-23 09:43:57|  2022-03-23 10:24:32|        13.23|          1|          186|          182|           1|      -42.0|     -45.3|       -90.6|\n",
       "| 2022-04-01 17:29:49|  2022-04-01 18:13:57|        10.53|          1|          132|          171|           1|      -36.5|     -45.0|      -84.55|\n",
       "| 2022-02-06 14:06:22|  2022-02-06 14:08:51|         0.34|          1|           13|           13|           1|       -3.5|     -68.2|       -75.0|\n",
       "| 2022-03-11 05:41:29|  2022-03-11 06:03:29|         9.28|          1|          132|           98|           1|      -27.0|     -35.0|      -64.55|\n",
       "| 2022-02-20 06:03:40|  2022-02-20 06:27:19|          6.4|          1|          186|          217|           1|      -23.0|     -27.0|       -53.8|\n",
       "| 2022-02-25 15:02:19|  2022-02-25 15:24:45|         6.38|          1|          100|          231|           1|      -22.0|     -5.06|      -30.36|\n",
       "| 2022-04-14 21:01:18|  2022-04-14 21:24:00|         5.12|          1|          114|           62|           1|      -19.5|     -4.66|      -27.96|\n",
       "+--------------------+---------------------+-------------+-----------+-------------+-------------+------------+-----------+----------+------------+"
      ]
     },
     "metadata": {},
     "output_type": "display_data"
    },
    {
     "name": "stderr",
     "output_type": "stream",
     "text": [
      "[Stage 53:====================>                                    (5 + 6) / 14]\r"
     ]
    },
    {
     "name": "stdout",
     "output_type": "stream",
     "text": [
      "After all that, yellow is left with 8933245: 70.5% of original size\n"
     ]
    },
    {
     "name": "stderr",
     "output_type": "stream",
     "text": [
      "\r",
      "[Stage 53:============================================>           (11 + 3) / 14]\r",
      "\r",
      "                                                                                \r"
     ]
    }
   ],
   "source": [
    "# Negative amount values can be seen. Even for just these 10 rows displayed, if one were to make the argument that a - sign was\n",
    "# input incorrectly, the tip_amount still far outweighs the total_amount in most cases. This is either money laundering or \n",
    "# errors\n",
    "\n",
    "display(yellow.orderBy('total_amount').limit(10))\n",
    "\n",
    "yellow = yellow.select('*').where(yellow['total_amount'] > 0)\n",
    "\n",
    "# Follow similar (real-world) logic to filter out incorrect values for other attributes\n",
    "yellow = yellow.select('*').where(yellow['trip_distance'] > 0)\n",
    "yellow = yellow.select('*').where(yellow['fare_amount'] > 0)\n",
    "yellow = yellow.select('*').where(yellow['tip_amount'] > 0)\n",
    "\n",
    "percentage = round(yellow.count() / original_yellow * 100, 2)\n",
    "print(f'After all that, yellow is left with {yellow.count()}: {percentage}% of original size')"
   ]
  },
  {
   "cell_type": "markdown",
   "metadata": {},
   "source": [
    "## 4. Outlier Removal \n",
    "Outliers have to be dealt with appropriately, as they can skew data\n",
    "\n",
    "### Yellow -\n",
    "\n",
    "Since we're dealing with pricing & trip data for taxis, and that around 280,000 taxi rides happen each day, I'd say that 280,000 * 30 * 4 is a sufficiently large sample size for the Central Limit Theorem to apply. We're left with just under 9 million rows after filtering, assumption holds\n",
    "\n",
    "Therefore outlier removal won't be overly complex - simply remove whats beyond the IQR for each feature"
   ]
  },
  {
   "cell_type": "code",
   "execution_count": 22,
   "metadata": {},
   "outputs": [
    {
     "name": "stderr",
     "output_type": "stream",
     "text": [
      "                                                                                \r"
     ]
    }
   ],
   "source": [
    "pd_numeric_yellow = yellow.select(f.col('total_amount'), f.col('fare_amount'), f.col('tip_amount'), f.col('trip_distance')).toPandas()"
   ]
  },
  {
   "cell_type": "code",
   "execution_count": 23,
   "metadata": {},
   "outputs": [
    {
     "data": {
      "text/plain": [
       "array([[<matplotlib.axes._subplots.AxesSubplot object at 0x7f3453672400>,\n",
       "        <matplotlib.axes._subplots.AxesSubplot object at 0x7f344aa0f520>],\n",
       "       [<matplotlib.axes._subplots.AxesSubplot object at 0x7f345376e730>,\n",
       "        <matplotlib.axes._subplots.AxesSubplot object at 0x7f3394c1ff70>]],\n",
       "      dtype=object)"
      ]
     },
     "execution_count": 23,
     "metadata": {},
     "output_type": "execute_result"
    },
    {
     "data": {
      "image/png": "[encoded data removed]",
      "text/plain": [
       "<Figure size 432x288 with 4 Axes>"
      ]
     },
     "metadata": {
      "needs_background": "light"
     },
     "output_type": "display_data"
    }
   ],
   "source": [
    "pd_numeric_yellow.hist()"
   ]
  },
  {
   "cell_type": "code",
   "execution_count": 24,
   "metadata": {
    "scrolled": true
   },
   "outputs": [
    {
     "data": {
      "text/plain": [
       "array([[<matplotlib.axes._subplots.AxesSubplot object at 0x7f339e571760>,\n",
       "        <matplotlib.axes._subplots.AxesSubplot object at 0x7f339f016f70>],\n",
       "       [<matplotlib.axes._subplots.AxesSubplot object at 0x7f339fae1820>,\n",
       "        <matplotlib.axes._subplots.AxesSubplot object at 0x7f339faaae50>]],\n",
       "      dtype=object)"
      ]
     },
     "execution_count": 24,
     "metadata": {},
     "output_type": "execute_result"
    },
    {
     "data": {
      "image/png": "[encoded data removed]",
      "text/plain": [
       "<Figure size 432x288 with 4 Axes>"
      ]
     },
     "metadata": {
      "needs_background": "light"
     },
     "output_type": "display_data"
    }
   ],
   "source": [
    "# Code taken from https://stackoverflow.com/questions/23199796/detect-and-exclude-outliers-in-a-pandas-dataframe\n",
    "# Searched for 'remove outliers pd df'\n",
    "# Code calculates the z-score for each value column-wise and filters out any values outside of 2 standard deviations\n",
    "\n",
    "from scipy import stats\n",
    "import numpy as np\n",
    "\n",
    "pd_numeric_yellow = pd_numeric_yellow[(np.abs(stats.zscore(pd_numeric_yellow)) < 2).all(axis=1)]\n",
    "pd_numeric_yellow.hist()\n",
    "\n",
    "# Not sure why the axes are messed up, tried playing around with it but couldn't figure it out\n",
    "# Not worth investing more time since I'm not going to use these visualisations in report, but I took the array of column \n",
    "# values and plotted them in R, got a similar shape, so it worked at least\n",
    "\n",
    "# Additionally, the rows filtered out in this step still exist in the categorical_yellow df, and I can't figure out how to\n",
    "# keep it consistent, so data will be split here into categorical and numerical. Would have had to split later on anyway"
   ]
  },
  {
   "cell_type": "code",
   "execution_count": 25,
   "metadata": {},
   "outputs": [
    {
     "data": {
      "text/plain": [
       "array([[<matplotlib.axes._subplots.AxesSubplot object at 0x7f33a1aa54c0>,\n",
       "        <matplotlib.axes._subplots.AxesSubplot object at 0x7f33a258b7c0>],\n",
       "       [<matplotlib.axes._subplots.AxesSubplot object at 0x7f33a2fe68b0>,\n",
       "        <matplotlib.axes._subplots.AxesSubplot object at 0x7f33a3aadee0>]],\n",
       "      dtype=object)"
      ]
     },
     "execution_count": 25,
     "metadata": {},
     "output_type": "execute_result"
    },
    {
     "data": {
      "image/png": "[encoded data removed]",
      "text/plain": [
       "<Figure size 432x288 with 4 Axes>"
      ]
     },
     "metadata": {
      "needs_background": "light"
     },
     "output_type": "display_data"
    }
   ],
   "source": [
    "property_df.hist()"
   ]
  },
  {
   "cell_type": "code",
   "execution_count": 27,
   "metadata": {},
   "outputs": [],
   "source": [
    "property_numerical = pd.DataFrame"
   ]
  },
  {
   "cell_type": "code",
   "execution_count": 30,
   "metadata": {},
   "outputs": [
    {
     "ename": "TypeError",
     "evalue": "'type' object does not support item assignment",
     "output_type": "error",
     "traceback": [
      "\u001b[0;31m---------------------------------------------------------------------------\u001b[0m",
      "\u001b[0;31mTypeError\u001b[0m                                 Traceback (most recent call last)",
      "\u001b[0;32m/tmp/ipykernel_3813/2201962835.py\u001b[0m in \u001b[0;36m<module>\u001b[0;34m\u001b[0m\n\u001b[0;32m----> 1\u001b[0;31m \u001b[0mproperty_numerical\u001b[0m\u001b[0;34m[\u001b[0m\u001b[0;34m'gross_sq_feet'\u001b[0m\u001b[0;34m]\u001b[0m \u001b[0;34m=\u001b[0m \u001b[0mproperty_df\u001b[0m\u001b[0;34m.\u001b[0m\u001b[0mgross_sq_feet\u001b[0m\u001b[0;34m\u001b[0m\u001b[0;34m\u001b[0m\u001b[0m\n\u001b[0m\u001b[1;32m      2\u001b[0m \u001b[0;31m#property_numerical['sale_price'] = property_df['sale_price']\u001b[0m\u001b[0;34m\u001b[0m\u001b[0;34m\u001b[0m\u001b[0;34m\u001b[0m\u001b[0m\n",
      "\u001b[0;31mTypeError\u001b[0m: 'type' object does not support item assignment"
     ]
    }
   ],
   "source": [
    "property_numerical['gross_sq_feet'] = property_df.gross_sq_feet\n",
    "#property_numerical['sale_price'] = property_df['sale_price']"
   ]
  },
  {
   "cell_type": "code",
   "execution_count": null,
   "metadata": {},
   "outputs": [],
   "source": [
    "property_df['gross_sq_feet'] = property_df['gross_sq_feet'][(np.abs(stats.zscore(property_df['gross_sq_feet'])) < 2).all(axis=1)]\n",
    "\n",
    "property_df['sale_price'] = property_df['sale_price'][(np.abs(stats.zscore(property_df['sale_price'])) < 2).all(axis=1)]\n",
    "\n",
    "property_df.hist()"
   ]
  },
  {
   "cell_type": "markdown",
   "metadata": {},
   "source": [
    "## 5. Unit Conversion\n",
    "\n",
    "- `[pu/do]location_id`: Geometry conversion as covered in Tutorial 2\n",
    "- `trip_distance`: Units are American - convert to metric units\n",
    "- all `fare` quantities are in USD"
   ]
  },
  {
   "cell_type": "markdown",
   "metadata": {},
   "source": [
    "### Converting PU/DOLocation to Geometry \n",
    "Code attributed to tute2"
   ]
  },
  {
   "cell_type": "code",
   "execution_count": null,
   "metadata": {},
   "outputs": [],
   "source": []
  },
  {
   "cell_type": "code",
   "execution_count": null,
   "metadata": {},
   "outputs": [],
   "source": [
    "sf = gpd.read_file(\"../raw_data/taxi_zones.shp\")\n",
    "zones = pd.read_csv(\"../raw_data/taxi+_zone_lookup.csv\")"
   ]
  },
  {
   "cell_type": "code",
   "execution_count": null,
   "metadata": {},
   "outputs": [],
   "source": [
    "sf['geometry'] = sf['geometry'].to_crs(\"+proj=longlat +ellps=WGS84 +datum=WGS84 +no_defs\")"
   ]
  },
  {
   "cell_type": "markdown",
   "metadata": {},
   "source": [
    "## Trip Distance\n",
    "\n",
    "Mile -> Km conversion is 1.6 * miles = km"
   ]
  },
  {
   "cell_type": "code",
   "execution_count": null,
   "metadata": {},
   "outputs": [],
   "source": [
    "pd_numeric_yellow['trip_distance'] = pd_numeric_yellow['trip_distance'] * 1.6"
   ]
  },
  {
   "cell_type": "markdown",
   "metadata": {},
   "source": [
    "## Fare\n",
    "USD -> AUD for interpretability\n",
    "Using current FX rates at time of writing this. Will be slightly different, but an incorrect / outdated conversion rate wouldn't affect results of study\n",
    "\n",
    "Current conversion rate: 1 USD = 1.44 AUD"
   ]
  },
  {
   "cell_type": "code",
   "execution_count": null,
   "metadata": {},
   "outputs": [],
   "source": [
    "pd_numeric_yellow['total_amount'] = pd_numeric_yellow['total_amount'] * 1.44\n",
    "pd_numeric_yellow['fare_amount'] = pd_numeric_yellow['fare_amount'] * 1.44\n",
    "pd_numeric_yellow['tip_amount'] = pd_numeric_yellow['tip_amount'] * 1.44"
   ]
  },
  {
   "cell_type": "code",
   "execution_count": null,
   "metadata": {},
   "outputs": [],
   "source": []
  },
  {
   "cell_type": "code",
   "execution_count": null,
   "metadata": {},
   "outputs": [],
   "source": [
    "yellow_numerical = spark.createDataFrame(pd_numeric_yellow)\n",
    "yellow_categorical = yellow.select(f.col('tpep_pickup_datetime'), f.col('tpep_dropoff_datetime'), \\\n",
    "                                   f.col('ratecode_id'), f.col('pulocation_id'), f.col('dolocation_id'), \\\n",
    "                                   f.col('payment_type'))"
   ]
  },
  {
   "cell_type": "code",
   "execution_count": null,
   "metadata": {},
   "outputs": [],
   "source": []
  },
  {
   "cell_type": "code",
   "execution_count": null,
   "metadata": {},
   "outputs": [],
   "source": [
    "import os"
   ]
  },
  {
   "cell_type": "code",
   "execution_count": null,
   "metadata": {},
   "outputs": [],
   "source": [
    "output_relative_dir = '../raw_data/'\n",
    "target_dir = 'clean_data/'\n",
    "if not os.path.exists(output_relative_dir + target_dir):\n",
    "    os.makedirs(output_relative_dir + target_dir)"
   ]
  },
  {
   "cell_type": "code",
   "execution_count": null,
   "metadata": {},
   "outputs": [],
   "source": [
    "yellow_numerical.write.parquet('../clean_data/yellow_numerical')\n",
    "yellow_categorical.write.parquet('../clean_data/yellow_categorical')"
   ]
  },
  {
   "cell_type": "code",
   "execution_count": null,
   "metadata": {},
   "outputs": [],
   "source": []
  },
  {
   "cell_type": "code",
   "execution_count": null,
   "metadata": {},
   "outputs": [],
   "source": [
    "t2 = datetime.now()\n",
    "\n",
    "time_taken = t2 - t1\n",
    "print(f'This notebook took {time_taken} to run.')\n",
    "minutes_taken = round(time_taken.total_seconds() / 60, 2)\n",
    "print(f'This notebook took {minutes_taken} minutes to run.')"
   ]
  }
 ],
 "metadata": {
  "kernelspec": {
   "display_name": "Python 3 (ipykernel)",
   "language": "python",
   "name": "python3"
  },
  "language_info": {
   "codemirror_mode": {
    "name": "ipython",
    "version": 3
   },
   "file_extension": ".py",
   "mimetype": "text/x-python",
   "name": "python",
   "nbconvert_exporter": "python",
   "pygments_lexer": "ipython3",
   "version": "3.8.10"
  },
  "vscode": {
   "interpreter": {
    "hash": "916dbcbb3f70747c44a77c7bcd40155683ae19c65e1c03b4aa3499c5328201f1"
   }
  }
 },
 "nbformat": 4,
 "nbformat_minor": 2
}
