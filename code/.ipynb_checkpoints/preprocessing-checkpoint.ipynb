{
 "cells": [
  {
   "cell_type": "code",
   "execution_count": 1,
   "metadata": {},
   "outputs": [],
   "source": [
    "import pyspark"
   ]
  },
  {
   "cell_type": "code",
   "execution_count": 2,
   "metadata": {},
   "outputs": [],
   "source": [
    "from pyspark.sql import SparkSession, functions as F"
   ]
  },
  {
   "cell_type": "code",
   "execution_count": 3,
   "metadata": {},
   "outputs": [
    {
     "name": "stdout",
     "output_type": "stream",
     "text": [
      "22/08/24 23:56:13 WARN Utils: Your hostname, DESKTOP-4QJNQQU resolves to a loopback address: 127.0.1.1; using 172.17.233.51 instead (on interface eth0)\n",
      "22/08/24 23:56:13 WARN Utils: Set SPARK_LOCAL_IP if you need to bind to another address\n"
     ]
    },
    {
     "name": "stderr",
     "output_type": "stream",
     "text": [
      "Setting default log level to \"WARN\".\n",
      "To adjust logging level use sc.setLogLevel(newLevel). For SparkR, use setLogLevel(newLevel).\n"
     ]
    },
    {
     "name": "stdout",
     "output_type": "stream",
     "text": [
      "22/08/24 23:56:14 WARN NativeCodeLoader: Unable to load native-hadoop library for your platform... using builtin-java classes where applicable\n"
     ]
    }
   ],
   "source": [
    "spark = (\n",
    "    SparkSession.builder.appName(\"MAST30034 Tutorial 1\")\n",
    "    .config(\"spark.sql.repl.eagerEval.enabled\", True) \n",
    "    .config(\"spark.sql.parquet.cacheMetadata\", \"true\")\n",
    "    .config(\"spark.sql.session.timeZone\", \"Etc/UTC\")\n",
    "    .config(\"spark.executor.memory\", \"2g\")\n",
    "    .config(\"spark.driver.memory\", \"4g\")\n",
    "    .getOrCreate()\n",
    ")"
   ]
  },
  {
   "cell_type": "markdown",
   "metadata": {},
   "source": [
    "# Inspecting the Yellow dataset"
   ]
  },
  {
   "cell_type": "code",
   "execution_count": 4,
   "metadata": {},
   "outputs": [
    {
     "name": "stderr",
     "output_type": "stream",
     "text": [
      "                                                                                \r"
     ]
    },
    {
     "data": {
      "text/html": [
       "<table border='1'>\n",
       "<tr><th>VendorID</th><th>tpep_pickup_datetime</th><th>tpep_dropoff_datetime</th><th>passenger_count</th><th>trip_distance</th><th>RatecodeID</th><th>store_and_fwd_flag</th><th>PULocationID</th><th>DOLocationID</th><th>payment_type</th><th>fare_amount</th><th>extra</th><th>mta_tax</th><th>tip_amount</th><th>tolls_amount</th><th>improvement_surcharge</th><th>total_amount</th><th>congestion_surcharge</th><th>airport_fee</th></tr>\n",
       "<tr><td>1</td><td>2022-01-01 00:35:40</td><td>2022-01-01 00:53:29</td><td>2.0</td><td>3.8</td><td>1.0</td><td>N</td><td>142</td><td>236</td><td>1</td><td>14.5</td><td>3.0</td><td>0.5</td><td>3.65</td><td>0.0</td><td>0.3</td><td>21.95</td><td>2.5</td><td>0.0</td></tr>\n",
       "<tr><td>1</td><td>2022-01-01 00:33:43</td><td>2022-01-01 00:42:07</td><td>1.0</td><td>2.1</td><td>1.0</td><td>N</td><td>236</td><td>42</td><td>1</td><td>8.0</td><td>0.5</td><td>0.5</td><td>4.0</td><td>0.0</td><td>0.3</td><td>13.3</td><td>0.0</td><td>0.0</td></tr>\n",
       "<tr><td>2</td><td>2022-01-01 00:53:21</td><td>2022-01-01 01:02:19</td><td>1.0</td><td>0.97</td><td>1.0</td><td>N</td><td>166</td><td>166</td><td>1</td><td>7.5</td><td>0.5</td><td>0.5</td><td>1.76</td><td>0.0</td><td>0.3</td><td>10.56</td><td>0.0</td><td>0.0</td></tr>\n",
       "<tr><td>2</td><td>2022-01-01 00:25:21</td><td>2022-01-01 00:35:23</td><td>1.0</td><td>1.09</td><td>1.0</td><td>N</td><td>114</td><td>68</td><td>2</td><td>8.0</td><td>0.5</td><td>0.5</td><td>0.0</td><td>0.0</td><td>0.3</td><td>11.8</td><td>2.5</td><td>0.0</td></tr>\n",
       "<tr><td>2</td><td>2022-01-01 00:36:48</td><td>2022-01-01 01:14:20</td><td>1.0</td><td>4.3</td><td>1.0</td><td>N</td><td>68</td><td>163</td><td>1</td><td>23.5</td><td>0.5</td><td>0.5</td><td>3.0</td><td>0.0</td><td>0.3</td><td>30.3</td><td>2.5</td><td>0.0</td></tr>\n",
       "<tr><td>1</td><td>2022-01-01 00:40:15</td><td>2022-01-01 01:09:48</td><td>1.0</td><td>10.3</td><td>1.0</td><td>N</td><td>138</td><td>161</td><td>1</td><td>33.0</td><td>3.0</td><td>0.5</td><td>13.0</td><td>6.55</td><td>0.3</td><td>56.35</td><td>2.5</td><td>0.0</td></tr>\n",
       "<tr><td>2</td><td>2022-01-01 00:20:50</td><td>2022-01-01 00:34:58</td><td>1.0</td><td>5.07</td><td>1.0</td><td>N</td><td>233</td><td>87</td><td>1</td><td>17.0</td><td>0.5</td><td>0.5</td><td>5.2</td><td>0.0</td><td>0.3</td><td>26.0</td><td>2.5</td><td>0.0</td></tr>\n",
       "<tr><td>2</td><td>2022-01-01 00:13:04</td><td>2022-01-01 00:22:45</td><td>1.0</td><td>2.02</td><td>1.0</td><td>N</td><td>238</td><td>152</td><td>2</td><td>9.0</td><td>0.5</td><td>0.5</td><td>0.0</td><td>0.0</td><td>0.3</td><td>12.8</td><td>2.5</td><td>0.0</td></tr>\n",
       "<tr><td>2</td><td>2022-01-01 00:30:02</td><td>2022-01-01 00:44:49</td><td>1.0</td><td>2.71</td><td>1.0</td><td>N</td><td>166</td><td>236</td><td>1</td><td>12.0</td><td>0.5</td><td>0.5</td><td>2.25</td><td>0.0</td><td>0.3</td><td>18.05</td><td>2.5</td><td>0.0</td></tr>\n",
       "<tr><td>2</td><td>2022-01-01 00:48:52</td><td>2022-01-01 00:53:28</td><td>1.0</td><td>0.78</td><td>1.0</td><td>N</td><td>236</td><td>141</td><td>2</td><td>5.0</td><td>0.5</td><td>0.5</td><td>0.0</td><td>0.0</td><td>0.3</td><td>8.8</td><td>2.5</td><td>0.0</td></tr>\n",
       "</table>\n"
      ],
      "text/plain": [
       "+--------+--------------------+---------------------+---------------+-------------+----------+------------------+------------+------------+------------+-----------+-----+-------+----------+------------+---------------------+------------+--------------------+-----------+\n",
       "|VendorID|tpep_pickup_datetime|tpep_dropoff_datetime|passenger_count|trip_distance|RatecodeID|store_and_fwd_flag|PULocationID|DOLocationID|payment_type|fare_amount|extra|mta_tax|tip_amount|tolls_amount|improvement_surcharge|total_amount|congestion_surcharge|airport_fee|\n",
       "+--------+--------------------+---------------------+---------------+-------------+----------+------------------+------------+------------+------------+-----------+-----+-------+----------+------------+---------------------+------------+--------------------+-----------+\n",
       "|       1| 2022-01-01 00:35:40|  2022-01-01 00:53:29|            2.0|          3.8|       1.0|                 N|         142|         236|           1|       14.5|  3.0|    0.5|      3.65|         0.0|                  0.3|       21.95|                 2.5|        0.0|\n",
       "|       1| 2022-01-01 00:33:43|  2022-01-01 00:42:07|            1.0|          2.1|       1.0|                 N|         236|          42|           1|        8.0|  0.5|    0.5|       4.0|         0.0|                  0.3|        13.3|                 0.0|        0.0|\n",
       "|       2| 2022-01-01 00:53:21|  2022-01-01 01:02:19|            1.0|         0.97|       1.0|                 N|         166|         166|           1|        7.5|  0.5|    0.5|      1.76|         0.0|                  0.3|       10.56|                 0.0|        0.0|\n",
       "|       2| 2022-01-01 00:25:21|  2022-01-01 00:35:23|            1.0|         1.09|       1.0|                 N|         114|          68|           2|        8.0|  0.5|    0.5|       0.0|         0.0|                  0.3|        11.8|                 2.5|        0.0|\n",
       "|       2| 2022-01-01 00:36:48|  2022-01-01 01:14:20|            1.0|          4.3|       1.0|                 N|          68|         163|           1|       23.5|  0.5|    0.5|       3.0|         0.0|                  0.3|        30.3|                 2.5|        0.0|\n",
       "|       1| 2022-01-01 00:40:15|  2022-01-01 01:09:48|            1.0|         10.3|       1.0|                 N|         138|         161|           1|       33.0|  3.0|    0.5|      13.0|        6.55|                  0.3|       56.35|                 2.5|        0.0|\n",
       "|       2| 2022-01-01 00:20:50|  2022-01-01 00:34:58|            1.0|         5.07|       1.0|                 N|         233|          87|           1|       17.0|  0.5|    0.5|       5.2|         0.0|                  0.3|        26.0|                 2.5|        0.0|\n",
       "|       2| 2022-01-01 00:13:04|  2022-01-01 00:22:45|            1.0|         2.02|       1.0|                 N|         238|         152|           2|        9.0|  0.5|    0.5|       0.0|         0.0|                  0.3|        12.8|                 2.5|        0.0|\n",
       "|       2| 2022-01-01 00:30:02|  2022-01-01 00:44:49|            1.0|         2.71|       1.0|                 N|         166|         236|           1|       12.0|  0.5|    0.5|      2.25|         0.0|                  0.3|       18.05|                 2.5|        0.0|\n",
       "|       2| 2022-01-01 00:48:52|  2022-01-01 00:53:28|            1.0|         0.78|       1.0|                 N|         236|         141|           2|        5.0|  0.5|    0.5|       0.0|         0.0|                  0.3|         8.8|                 2.5|        0.0|\n",
       "+--------+--------------------+---------------------+---------------+-------------+----------+------------------+------------+------------+------------+-----------+-----+-------+----------+------------+---------------------+------------+--------------------+-----------+"
      ]
     },
     "execution_count": 4,
     "metadata": {},
     "output_type": "execute_result"
    }
   ],
   "source": [
    "yellow = spark.read.parquet('../../ADS_Project_1/raw_data/tlc_yellow')\n",
    "yellow.limit(10)"
   ]
  },
  {
   "cell_type": "code",
   "execution_count": 5,
   "metadata": {
    "scrolled": false
   },
   "outputs": [
    {
     "name": "stdout",
     "output_type": "stream",
     "text": [
      "root\n",
      " |-- VendorID: long (nullable = true)\n",
      " |-- tpep_pickup_datetime: timestamp (nullable = true)\n",
      " |-- tpep_dropoff_datetime: timestamp (nullable = true)\n",
      " |-- passenger_count: double (nullable = true)\n",
      " |-- trip_distance: double (nullable = true)\n",
      " |-- RatecodeID: double (nullable = true)\n",
      " |-- store_and_fwd_flag: string (nullable = true)\n",
      " |-- PULocationID: long (nullable = true)\n",
      " |-- DOLocationID: long (nullable = true)\n",
      " |-- payment_type: long (nullable = true)\n",
      " |-- fare_amount: double (nullable = true)\n",
      " |-- extra: double (nullable = true)\n",
      " |-- mta_tax: double (nullable = true)\n",
      " |-- tip_amount: double (nullable = true)\n",
      " |-- tolls_amount: double (nullable = true)\n",
      " |-- improvement_surcharge: double (nullable = true)\n",
      " |-- total_amount: double (nullable = true)\n",
      " |-- congestion_surcharge: double (nullable = true)\n",
      " |-- airport_fee: double (nullable = true)\n",
      "\n"
     ]
    }
   ],
   "source": [
    "yellow.printSchema()"
   ]
  },
  {
   "cell_type": "code",
   "execution_count": 15,
   "metadata": {},
   "outputs": [
    {
     "name": "stdout",
     "output_type": "stream",
     "text": [
      "Shape of yellow dataset is 12671164 rows x 19 columns\n"
     ]
    }
   ],
   "source": [
    "print(f'Shape of yellow dataset is {yellow.count()} rows x {len(yellow.columns)} columns')"
   ]
  },
  {
   "cell_type": "markdown",
   "metadata": {},
   "source": [
    "# Inspecting HVFHV dataset "
   ]
  },
  {
   "cell_type": "code",
   "execution_count": 6,
   "metadata": {},
   "outputs": [
    {
     "name": "stderr",
     "output_type": "stream",
     "text": [
      "                                                                                \r"
     ]
    },
    {
     "data": {
      "text/html": [
       "<table border='1'>\n",
       "<tr><th>hvfhs_license_num</th><th>dispatching_base_num</th><th>originating_base_num</th><th>request_datetime</th><th>on_scene_datetime</th><th>pickup_datetime</th><th>dropoff_datetime</th><th>PULocationID</th><th>DOLocationID</th><th>trip_miles</th><th>trip_time</th><th>base_passenger_fare</th><th>tolls</th><th>bcf</th><th>sales_tax</th><th>congestion_surcharge</th><th>airport_fee</th><th>tips</th><th>driver_pay</th><th>shared_request_flag</th><th>shared_match_flag</th><th>access_a_ride_flag</th><th>wav_request_flag</th><th>wav_match_flag</th></tr>\n",
       "<tr><td>HV0003</td><td>B03404</td><td>B03404</td><td>2022-01-01 00:05:31</td><td>2022-01-01 00:05:40</td><td>2022-01-01 00:07:24</td><td>2022-01-01 00:18:28</td><td>170</td><td>161</td><td>1.18</td><td>664</td><td>24.9</td><td>0.0</td><td>0.75</td><td>2.21</td><td>2.75</td><td>0.0</td><td>0.0</td><td>23.03</td><td>N</td><td>N</td><td> </td><td>N</td><td>N</td></tr>\n",
       "<tr><td>HV0003</td><td>B03404</td><td>B03404</td><td>2022-01-01 00:19:27</td><td>2022-01-01 00:22:08</td><td>2022-01-01 00:22:32</td><td>2022-01-01 00:30:12</td><td>237</td><td>161</td><td>0.82</td><td>460</td><td>11.97</td><td>0.0</td><td>0.36</td><td>1.06</td><td>2.75</td><td>0.0</td><td>0.0</td><td>12.32</td><td>N</td><td>N</td><td> </td><td>N</td><td>N</td></tr>\n",
       "<tr><td>HV0003</td><td>B03404</td><td>B03404</td><td>2022-01-01 00:43:53</td><td>2022-01-01 00:57:37</td><td>2022-01-01 00:57:37</td><td>2022-01-01 01:07:32</td><td>237</td><td>161</td><td>1.18</td><td>595</td><td>29.82</td><td>0.0</td><td>0.89</td><td>2.65</td><td>2.75</td><td>0.0</td><td>0.0</td><td>23.3</td><td>N</td><td>N</td><td> </td><td>N</td><td>N</td></tr>\n",
       "<tr><td>HV0003</td><td>B03404</td><td>B03404</td><td>2022-01-01 00:15:36</td><td>2022-01-01 00:17:08</td><td>2022-01-01 00:18:02</td><td>2022-01-01 00:23:05</td><td>262</td><td>229</td><td>1.65</td><td>303</td><td>7.91</td><td>0.0</td><td>0.24</td><td>0.7</td><td>2.75</td><td>0.0</td><td>0.0</td><td>6.3</td><td>N</td><td>N</td><td> </td><td>N</td><td>N</td></tr>\n",
       "<tr><td>HV0003</td><td>B03404</td><td>B03404</td><td>2022-01-01 00:25:45</td><td>2022-01-01 00:26:01</td><td>2022-01-01 00:28:01</td><td>2022-01-01 00:35:42</td><td>229</td><td>141</td><td>1.65</td><td>461</td><td>9.44</td><td>0.0</td><td>0.28</td><td>0.84</td><td>2.75</td><td>0.0</td><td>0.0</td><td>7.44</td><td>N</td><td>N</td><td> </td><td>N</td><td>N</td></tr>\n",
       "<tr><td>HV0003</td><td>B03404</td><td>B03404</td><td>2022-01-01 00:34:44</td><td>2022-01-01 00:36:52</td><td>2022-01-01 00:38:50</td><td>2022-01-01 00:51:32</td><td>263</td><td>79</td><td>4.51</td><td>762</td><td>17.67</td><td>0.0</td><td>0.53</td><td>1.57</td><td>2.75</td><td>0.0</td><td>0.0</td><td>12.25</td><td>N</td><td>N</td><td> </td><td>N</td><td>N</td></tr>\n",
       "<tr><td>HV0003</td><td>B03404</td><td>B03404</td><td>2022-01-01 00:47:51</td><td>2022-01-01 00:52:00</td><td>2022-01-01 00:53:25</td><td>2022-01-01 01:08:56</td><td>113</td><td>140</td><td>3.68</td><td>931</td><td>16.68</td><td>0.0</td><td>0.5</td><td>1.48</td><td>2.75</td><td>0.0</td><td>0.0</td><td>12.75</td><td>N</td><td>N</td><td> </td><td>N</td><td>N</td></tr>\n",
       "<tr><td>HV0003</td><td>B03404</td><td>B03404</td><td>2022-01-01 00:06:21</td><td>2022-01-01 00:06:58</td><td>2022-01-01 00:08:58</td><td>2022-01-01 00:23:01</td><td>151</td><td>75</td><td>2.77</td><td>843</td><td>14.41</td><td>0.0</td><td>0.43</td><td>1.28</td><td>0.0</td><td>0.0</td><td>4.0</td><td>11.47</td><td>N</td><td>N</td><td> </td><td>N</td><td>N</td></tr>\n",
       "<tr><td>HV0003</td><td>B03404</td><td>B03404</td><td>2022-01-01 00:27:54</td><td>2022-01-01 00:30:26</td><td>2022-01-01 00:32:25</td><td>2022-01-01 00:44:15</td><td>263</td><td>229</td><td>2.04</td><td>710</td><td>10.64</td><td>0.0</td><td>0.32</td><td>0.94</td><td>2.75</td><td>0.0</td><td>0.0</td><td>9.55</td><td>N</td><td>N</td><td> </td><td>N</td><td>N</td></tr>\n",
       "<tr><td>HV0003</td><td>B03404</td><td>B03404</td><td>2022-01-01 00:44:59</td><td>2022-01-01 00:48:23</td><td>2022-01-01 00:50:23</td><td>2022-01-01 01:15:30</td><td>237</td><td>169</td><td>8.79</td><td>1507</td><td>107.56</td><td>0.0</td><td>0.83</td><td>2.45</td><td>2.75</td><td>0.0</td><td>0.0</td><td>23.67</td><td>N</td><td>N</td><td> </td><td>N</td><td>N</td></tr>\n",
       "</table>\n"
      ],
      "text/plain": [
       "+-----------------+--------------------+--------------------+-------------------+-------------------+-------------------+-------------------+------------+------------+----------+---------+-------------------+-----+----+---------+--------------------+-----------+----+----------+-------------------+-----------------+------------------+----------------+--------------+\n",
       "|hvfhs_license_num|dispatching_base_num|originating_base_num|   request_datetime|  on_scene_datetime|    pickup_datetime|   dropoff_datetime|PULocationID|DOLocationID|trip_miles|trip_time|base_passenger_fare|tolls| bcf|sales_tax|congestion_surcharge|airport_fee|tips|driver_pay|shared_request_flag|shared_match_flag|access_a_ride_flag|wav_request_flag|wav_match_flag|\n",
       "+-----------------+--------------------+--------------------+-------------------+-------------------+-------------------+-------------------+------------+------------+----------+---------+-------------------+-----+----+---------+--------------------+-----------+----+----------+-------------------+-----------------+------------------+----------------+--------------+\n",
       "|           HV0003|              B03404|              B03404|2022-01-01 00:05:31|2022-01-01 00:05:40|2022-01-01 00:07:24|2022-01-01 00:18:28|         170|         161|      1.18|      664|               24.9|  0.0|0.75|     2.21|                2.75|        0.0| 0.0|     23.03|                  N|                N|                  |               N|             N|\n",
       "|           HV0003|              B03404|              B03404|2022-01-01 00:19:27|2022-01-01 00:22:08|2022-01-01 00:22:32|2022-01-01 00:30:12|         237|         161|      0.82|      460|              11.97|  0.0|0.36|     1.06|                2.75|        0.0| 0.0|     12.32|                  N|                N|                  |               N|             N|\n",
       "|           HV0003|              B03404|              B03404|2022-01-01 00:43:53|2022-01-01 00:57:37|2022-01-01 00:57:37|2022-01-01 01:07:32|         237|         161|      1.18|      595|              29.82|  0.0|0.89|     2.65|                2.75|        0.0| 0.0|      23.3|                  N|                N|                  |               N|             N|\n",
       "|           HV0003|              B03404|              B03404|2022-01-01 00:15:36|2022-01-01 00:17:08|2022-01-01 00:18:02|2022-01-01 00:23:05|         262|         229|      1.65|      303|               7.91|  0.0|0.24|      0.7|                2.75|        0.0| 0.0|       6.3|                  N|                N|                  |               N|             N|\n",
       "|           HV0003|              B03404|              B03404|2022-01-01 00:25:45|2022-01-01 00:26:01|2022-01-01 00:28:01|2022-01-01 00:35:42|         229|         141|      1.65|      461|               9.44|  0.0|0.28|     0.84|                2.75|        0.0| 0.0|      7.44|                  N|                N|                  |               N|             N|\n",
       "|           HV0003|              B03404|              B03404|2022-01-01 00:34:44|2022-01-01 00:36:52|2022-01-01 00:38:50|2022-01-01 00:51:32|         263|          79|      4.51|      762|              17.67|  0.0|0.53|     1.57|                2.75|        0.0| 0.0|     12.25|                  N|                N|                  |               N|             N|\n",
       "|           HV0003|              B03404|              B03404|2022-01-01 00:47:51|2022-01-01 00:52:00|2022-01-01 00:53:25|2022-01-01 01:08:56|         113|         140|      3.68|      931|              16.68|  0.0| 0.5|     1.48|                2.75|        0.0| 0.0|     12.75|                  N|                N|                  |               N|             N|\n",
       "|           HV0003|              B03404|              B03404|2022-01-01 00:06:21|2022-01-01 00:06:58|2022-01-01 00:08:58|2022-01-01 00:23:01|         151|          75|      2.77|      843|              14.41|  0.0|0.43|     1.28|                 0.0|        0.0| 4.0|     11.47|                  N|                N|                  |               N|             N|\n",
       "|           HV0003|              B03404|              B03404|2022-01-01 00:27:54|2022-01-01 00:30:26|2022-01-01 00:32:25|2022-01-01 00:44:15|         263|         229|      2.04|      710|              10.64|  0.0|0.32|     0.94|                2.75|        0.0| 0.0|      9.55|                  N|                N|                  |               N|             N|\n",
       "|           HV0003|              B03404|              B03404|2022-01-01 00:44:59|2022-01-01 00:48:23|2022-01-01 00:50:23|2022-01-01 01:15:30|         237|         169|      8.79|     1507|             107.56|  0.0|0.83|     2.45|                2.75|        0.0| 0.0|     23.67|                  N|                N|                  |               N|             N|\n",
       "+-----------------+--------------------+--------------------+-------------------+-------------------+-------------------+-------------------+------------+------------+----------+---------+-------------------+-----+----+---------+--------------------+-----------+----+----------+-------------------+-----------------+------------------+----------------+--------------+"
      ]
     },
     "execution_count": 6,
     "metadata": {},
     "output_type": "execute_result"
    }
   ],
   "source": [
    "hvfhv = spark.read.parquet('../../ADS_Project_1/raw_data/hvfhv')\n",
    "hvfhv.limit(10)"
   ]
  },
  {
   "cell_type": "code",
   "execution_count": 7,
   "metadata": {
    "scrolled": true
   },
   "outputs": [
    {
     "name": "stdout",
     "output_type": "stream",
     "text": [
      "root\n",
      " |-- hvfhs_license_num: string (nullable = true)\n",
      " |-- dispatching_base_num: string (nullable = true)\n",
      " |-- originating_base_num: string (nullable = true)\n",
      " |-- request_datetime: timestamp (nullable = true)\n",
      " |-- on_scene_datetime: timestamp (nullable = true)\n",
      " |-- pickup_datetime: timestamp (nullable = true)\n",
      " |-- dropoff_datetime: timestamp (nullable = true)\n",
      " |-- PULocationID: long (nullable = true)\n",
      " |-- DOLocationID: long (nullable = true)\n",
      " |-- trip_miles: double (nullable = true)\n",
      " |-- trip_time: long (nullable = true)\n",
      " |-- base_passenger_fare: double (nullable = true)\n",
      " |-- tolls: double (nullable = true)\n",
      " |-- bcf: double (nullable = true)\n",
      " |-- sales_tax: double (nullable = true)\n",
      " |-- congestion_surcharge: double (nullable = true)\n",
      " |-- airport_fee: double (nullable = true)\n",
      " |-- tips: double (nullable = true)\n",
      " |-- driver_pay: double (nullable = true)\n",
      " |-- shared_request_flag: string (nullable = true)\n",
      " |-- shared_match_flag: string (nullable = true)\n",
      " |-- access_a_ride_flag: string (nullable = true)\n",
      " |-- wav_request_flag: string (nullable = true)\n",
      " |-- wav_match_flag: string (nullable = true)\n",
      "\n"
     ]
    }
   ],
   "source": [
    "hvfhv.printSchema()"
   ]
  },
  {
   "cell_type": "code",
   "execution_count": 16,
   "metadata": {},
   "outputs": [
    {
     "name": "stdout",
     "output_type": "stream",
     "text": [
      "Shape of hvfhv dataset is 66976983 rows x 24 columns\n"
     ]
    }
   ],
   "source": [
    "print(f'Shape of hvfhv dataset is {hvfhv.count()} rows x {len(hvfhv.columns)} columns')"
   ]
  },
  {
   "cell_type": "markdown",
   "metadata": {},
   "source": [
    "# Preprocessing Steps -\n",
    "\n",
    "\n",
    "## 1. Typecasting\n",
    "Making sure that all columns are appropriately typed\n",
    "\n",
    "## 2. Getting rid of unrelated data (as per Data Dictionary)\n",
    "We won't care about some fields for the purposes of our analysis, so need to drop them\n",
    "\n",
    "## 3. Handling of Missing Values\n",
    "If NaN / null values are present, need to deal with them appropriately - imputation, deletion, etc\n",
    "\n",
    "## 4. Outlier Removal / Analysis\n",
    "Outliers have to be dealt with appropriately, as they can skew data\n"
   ]
  },
  {
   "cell_type": "markdown",
   "metadata": {},
   "source": [
    "### Typecasting\n",
    "\n",
    "There are several columns that we need to adjust the type for. They'll be listed below with their justifications\n",
    "- VendorID: Inspection of the data revealed that this only takes integer values, so it should be changed to an int\n",
    "- passenger_count: Should be changed to int since # of people is an integer\n",
    "- RatecodeID: Similar to VendorID"
   ]
  },
  {
   "cell_type": "code",
   "execution_count": 8,
   "metadata": {},
   "outputs": [
    {
     "ename": "NameError",
     "evalue": "name 'sdf' is not defined",
     "output_type": "error",
     "traceback": [
      "\u001b[0;31m---------------------------------------------------------------------------\u001b[0m",
      "\u001b[0;31mNameError\u001b[0m                                 Traceback (most recent call last)",
      "\u001b[0;32m/tmp/ipykernel_778/1411093675.py\u001b[0m in \u001b[0;36m<module>\u001b[0;34m\u001b[0m\n\u001b[1;32m      2\u001b[0m \u001b[0mcolumns\u001b[0m \u001b[0;34m=\u001b[0m \u001b[0;34m[\u001b[0m\u001b[0;34m'passenger_count'\u001b[0m\u001b[0;34m]\u001b[0m\u001b[0;34m\u001b[0m\u001b[0;34m\u001b[0m\u001b[0m\n\u001b[1;32m      3\u001b[0m \u001b[0;32mfor\u001b[0m \u001b[0mcolumn\u001b[0m \u001b[0;32min\u001b[0m \u001b[0mcolumns\u001b[0m\u001b[0;34m:\u001b[0m\u001b[0;34m\u001b[0m\u001b[0;34m\u001b[0m\u001b[0m\n\u001b[0;32m----> 4\u001b[0;31m     \u001b[0msdf\u001b[0m\u001b[0;34m.\u001b[0m\u001b[0mselect\u001b[0m\u001b[0;34m(\u001b[0m\u001b[0mcolumn\u001b[0m\u001b[0;34m)\u001b[0m\u001b[0;34m.\u001b[0m\u001b[0mdistinct\u001b[0m\u001b[0;34m(\u001b[0m\u001b[0;34m)\u001b[0m\u001b[0;34m.\u001b[0m\u001b[0mshow\u001b[0m\u001b[0;34m(\u001b[0m\u001b[0;34m)\u001b[0m\u001b[0;34m\u001b[0m\u001b[0;34m\u001b[0m\u001b[0m\n\u001b[0m\u001b[1;32m      5\u001b[0m \u001b[0;34m\u001b[0m\u001b[0m\n\u001b[1;32m      6\u001b[0m \u001b[0;31m# Can confirm that only integers are reported\u001b[0m\u001b[0;34m\u001b[0m\u001b[0;34m\u001b[0m\u001b[0;34m\u001b[0m\u001b[0m\n",
      "\u001b[0;31mNameError\u001b[0m: name 'sdf' is not defined"
     ]
    }
   ],
   "source": [
    "# I want to check if any taxi drivers have reported half a person -\n",
    "columns = ['passenger_count']\n",
    "for column in columns:\n",
    "    sdf.select(column).distinct().show()\n",
    "    \n",
    "# Can confirm that only integers are reported"
   ]
  },
  {
   "cell_type": "markdown",
   "metadata": {},
   "source": [
    "# How come this code doesn't work?\n",
    "\n",
    "sdf.select(column).distinct().show()"
   ]
  },
  {
   "cell_type": "code",
   "execution_count": null,
   "metadata": {},
   "outputs": [],
   "source": [
    "columns = ['VendorID', 'passenger_count', 'RatecodeID']\n",
    "for column in columns:\n",
    "    sdf = sdf.withColumn(\n",
    "        column,\n",
    "        F.col(column).astype('INT')\n",
    "    )"
   ]
  },
  {
   "cell_type": "code",
   "execution_count": null,
   "metadata": {},
   "outputs": [],
   "source": [
    "sdf.printSchema()"
   ]
  },
  {
   "cell_type": "markdown",
   "metadata": {},
   "source": [
    "### Converting PU/DOLocation to Geometry \n",
    "Code attributed to tute2"
   ]
  },
  {
   "cell_type": "code",
   "execution_count": null,
   "metadata": {},
   "outputs": [],
   "source": [
    "sdf.select(F.min('fare_amount'))"
   ]
  },
  {
   "cell_type": "code",
   "execution_count": null,
   "metadata": {},
   "outputs": [],
   "source": [
    "aggregated_results = sdf \\\n",
    "                    .groupBy(\"passenger_count\") \\\n",
    "                    .agg(\n",
    "                        F.mean(\"total_amount\").alias(\"avg_trip_amount_usd\"),\n",
    "                        F.max(\"trip_distance\").alias(\"max_trip_distance_miles\")\n",
    "                    ) \\\n",
    "                    .orderBy(\"passenger_count\")\n",
    "\n",
    "aggregated_results.show()"
   ]
  }
 ],
 "metadata": {
  "kernelspec": {
   "display_name": "Python 3 (ipykernel)",
   "language": "python",
   "name": "python3"
  },
  "language_info": {
   "codemirror_mode": {
    "name": "ipython",
    "version": 3
   },
   "file_extension": ".py",
   "mimetype": "text/x-python",
   "name": "python",
   "nbconvert_exporter": "python",
   "pygments_lexer": "ipython3",
   "version": "3.8.10"
  },
  "vscode": {
   "interpreter": {
    "hash": "916dbcbb3f70747c44a77c7bcd40155683ae19c65e1c03b4aa3499c5328201f1"
   }
  }
 },
 "nbformat": 4,
 "nbformat_minor": 2
}
