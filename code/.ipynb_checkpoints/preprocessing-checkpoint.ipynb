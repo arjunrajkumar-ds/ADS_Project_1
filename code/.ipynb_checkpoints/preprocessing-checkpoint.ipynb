{
 "cells": [
  {
   "cell_type": "code",
   "execution_count": 1,
   "metadata": {},
   "outputs": [],
   "source": [
    "import pyspark"
   ]
  },
  {
   "cell_type": "code",
   "execution_count": 2,
   "metadata": {},
   "outputs": [],
   "source": [
    "from pyspark.sql import SparkSession, functions as F"
   ]
  },
  {
   "cell_type": "code",
   "execution_count": 3,
   "metadata": {},
   "outputs": [
    {
     "name": "stdout",
     "output_type": "stream",
     "text": [
      "22/08/22 15:29:58 WARN Utils: Your hostname, DESKTOP-7TBG09Q resolves to a loopback address: 127.0.1.1; using 172.26.168.108 instead (on interface eth0)\n",
      "22/08/22 15:29:58 WARN Utils: Set SPARK_LOCAL_IP if you need to bind to another address\n"
     ]
    },
    {
     "name": "stderr",
     "output_type": "stream",
     "text": [
      "Setting default log level to \"WARN\".\n",
      "To adjust logging level use sc.setLogLevel(newLevel). For SparkR, use setLogLevel(newLevel).\n"
     ]
    },
    {
     "name": "stdout",
     "output_type": "stream",
     "text": [
      "22/08/22 15:29:59 WARN NativeCodeLoader: Unable to load native-hadoop library for your platform... using builtin-java classes where applicable\n"
     ]
    }
   ],
   "source": [
    "spark = (\n",
    "    SparkSession.builder.appName(\"MAST30034 Tutorial 1\")\n",
    "    .config(\"spark.sql.repl.eagerEval.enabled\", True) \n",
    "    .config(\"spark.sql.parquet.cacheMetadata\", \"true\")\n",
    "    .getOrCreate()\n",
    ")"
   ]
  },
  {
   "cell_type": "code",
   "execution_count": 15,
   "metadata": {},
   "outputs": [],
   "source": [
    "sdf = spark.read.parquet('../../ADS_Project_1/raw_data/fhv')"
   ]
  },
  {
   "cell_type": "code",
   "execution_count": 17,
   "metadata": {},
   "outputs": [
    {
     "data": {
      "text/html": [
       "<table border='1'>\n",
       "<tr><th>dispatching_base_num</th><th>pickup_datetime</th><th>dropOff_datetime</th><th>PUlocationID</th><th>DOlocationID</th><th>SR_Flag</th><th>Affiliated_base_number</th></tr>\n",
       "<tr><td>B00009</td><td>2022-01-01 11:31:00</td><td>2022-01-01 12:05:00</td><td>null</td><td>null</td><td>null</td><td>B00009</td></tr>\n",
       "<tr><td>B00009</td><td>2022-01-01 11:37:00</td><td>2022-01-01 12:05:00</td><td>null</td><td>null</td><td>null</td><td>B00009</td></tr>\n",
       "<tr><td>B00037</td><td>2022-01-01 11:56:37</td><td>2022-01-01 12:06:11</td><td>null</td><td>85.0</td><td>null</td><td>B00037</td></tr>\n",
       "<tr><td>B00037</td><td>2022-01-01 11:19:54</td><td>2022-01-01 11:30:47</td><td>null</td><td>85.0</td><td>null</td><td>B00037</td></tr>\n",
       "<tr><td>B00037</td><td>2022-01-01 11:41:49</td><td>2022-01-01 11:52:16</td><td>null</td><td>188.0</td><td>null</td><td>B00037</td></tr>\n",
       "<tr><td>B00037</td><td>2022-01-01 11:21:32</td><td>2022-01-01 11:35:06</td><td>null</td><td>61.0</td><td>null</td><td>B00037</td></tr>\n",
       "<tr><td>B00037</td><td>2022-01-01 11:51:19</td><td>2022-01-01 12:08:06</td><td>null</td><td>76.0</td><td>null</td><td>B00037</td></tr>\n",
       "<tr><td>B00111</td><td>2022-01-01 11:30:00</td><td>2022-01-01 12:41:00</td><td>null</td><td>null</td><td>null</td><td>B03406</td></tr>\n",
       "<tr><td>B00112</td><td>2022-01-01 11:31:30</td><td>2022-01-01 12:10:06</td><td>null</td><td>67.0</td><td>null</td><td>B00112</td></tr>\n",
       "<tr><td>B00112</td><td>2022-01-01 11:12:26</td><td>2022-01-01 11:37:22</td><td>null</td><td>155.0</td><td>null</td><td>B00112</td></tr>\n",
       "<tr><td>B00112</td><td>2022-01-01 11:46:54</td><td>2022-01-01 12:05:12</td><td>null</td><td>14.0</td><td>null</td><td>B00112</td></tr>\n",
       "<tr><td>B00112</td><td>2022-01-01 11:28:53</td><td>2022-01-01 11:29:04</td><td>null</td><td>65.0</td><td>null</td><td>B00112</td></tr>\n",
       "<tr><td>B00112</td><td>2022-01-01 11:26:44</td><td>2022-01-01 11:43:37</td><td>null</td><td>14.0</td><td>null</td><td>B00112</td></tr>\n",
       "<tr><td>B00112</td><td>2022-01-01 11:45:38</td><td>2022-01-01 11:51:12</td><td>null</td><td>14.0</td><td>null</td><td>B00112</td></tr>\n",
       "<tr><td>B00112</td><td>2022-01-01 11:58:22</td><td>2022-01-01 12:05:26</td><td>null</td><td>14.0</td><td>null</td><td>B00112</td></tr>\n",
       "<tr><td>B00112</td><td>2022-01-01 11:18:44</td><td>2022-01-01 11:45:58</td><td>null</td><td>14.0</td><td>null</td><td>B00112</td></tr>\n",
       "<tr><td>B00112</td><td>2022-01-01 11:44:04</td><td>2022-01-01 11:45:10</td><td>null</td><td>14.0</td><td>null</td><td>B00112</td></tr>\n",
       "<tr><td>B00171</td><td>2022-01-01 11:32:00</td><td>2022-01-01 11:58:00</td><td>66.0</td><td>198.0</td><td>null</td><td>B01200</td></tr>\n",
       "<tr><td>B00225</td><td>2022-01-01 11:36:23</td><td>2022-01-01 11:48:15</td><td>null</td><td>232.0</td><td>null</td><td>B03404</td></tr>\n",
       "<tr><td>B00225</td><td>2022-01-01 11:09:21</td><td>2022-01-01 11:33:44</td><td>null</td><td>195.0</td><td>null</td><td>B03404</td></tr>\n",
       "</table>\n",
       "only showing top 20 rows\n"
      ],
      "text/plain": [
       "+--------------------+-------------------+-------------------+------------+------------+-------+----------------------+\n",
       "|dispatching_base_num|    pickup_datetime|   dropOff_datetime|PUlocationID|DOlocationID|SR_Flag|Affiliated_base_number|\n",
       "+--------------------+-------------------+-------------------+------------+------------+-------+----------------------+\n",
       "|              B00009|2022-01-01 11:31:00|2022-01-01 12:05:00|        null|        null|   null|                B00009|\n",
       "|              B00009|2022-01-01 11:37:00|2022-01-01 12:05:00|        null|        null|   null|                B00009|\n",
       "|              B00037|2022-01-01 11:56:37|2022-01-01 12:06:11|        null|        85.0|   null|                B00037|\n",
       "|              B00037|2022-01-01 11:19:54|2022-01-01 11:30:47|        null|        85.0|   null|                B00037|\n",
       "|              B00037|2022-01-01 11:41:49|2022-01-01 11:52:16|        null|       188.0|   null|                B00037|\n",
       "|              B00037|2022-01-01 11:21:32|2022-01-01 11:35:06|        null|        61.0|   null|                B00037|\n",
       "|              B00037|2022-01-01 11:51:19|2022-01-01 12:08:06|        null|        76.0|   null|                B00037|\n",
       "|              B00111|2022-01-01 11:30:00|2022-01-01 12:41:00|        null|        null|   null|                B03406|\n",
       "|              B00112|2022-01-01 11:31:30|2022-01-01 12:10:06|        null|        67.0|   null|                B00112|\n",
       "|              B00112|2022-01-01 11:12:26|2022-01-01 11:37:22|        null|       155.0|   null|                B00112|\n",
       "|              B00112|2022-01-01 11:46:54|2022-01-01 12:05:12|        null|        14.0|   null|                B00112|\n",
       "|              B00112|2022-01-01 11:28:53|2022-01-01 11:29:04|        null|        65.0|   null|                B00112|\n",
       "|              B00112|2022-01-01 11:26:44|2022-01-01 11:43:37|        null|        14.0|   null|                B00112|\n",
       "|              B00112|2022-01-01 11:45:38|2022-01-01 11:51:12|        null|        14.0|   null|                B00112|\n",
       "|              B00112|2022-01-01 11:58:22|2022-01-01 12:05:26|        null|        14.0|   null|                B00112|\n",
       "|              B00112|2022-01-01 11:18:44|2022-01-01 11:45:58|        null|        14.0|   null|                B00112|\n",
       "|              B00112|2022-01-01 11:44:04|2022-01-01 11:45:10|        null|        14.0|   null|                B00112|\n",
       "|              B00171|2022-01-01 11:32:00|2022-01-01 11:58:00|        66.0|       198.0|   null|                B01200|\n",
       "|              B00225|2022-01-01 11:36:23|2022-01-01 11:48:15|        null|       232.0|   null|                B03404|\n",
       "|              B00225|2022-01-01 11:09:21|2022-01-01 11:33:44|        null|       195.0|   null|                B03404|\n",
       "+--------------------+-------------------+-------------------+------------+------------+-------+----------------------+\n",
       "only showing top 20 rows"
      ]
     },
     "execution_count": 17,
     "metadata": {},
     "output_type": "execute_result"
    },
    {
     "name": "stdout",
     "output_type": "stream",
     "text": [
      "22/08/22 16:00:06 WARN HeartbeatReceiver: Removing executor driver with no recent heartbeats: 415116 ms exceeds timeout 120000 ms\n",
      "22/08/22 16:00:06 WARN SparkContext: Killing executors is not supported by current scheduler.\n"
     ]
    }
   ],
   "source": [
    "sdf.limit(30)"
   ]
  },
  {
   "cell_type": "code",
   "execution_count": 13,
   "metadata": {},
   "outputs": [
    {
     "data": {
      "text/plain": [
       "12671164"
      ]
     },
     "execution_count": 13,
     "metadata": {},
     "output_type": "execute_result"
    }
   ],
   "source": [
    "sdf.count()"
   ]
  },
  {
   "cell_type": "code",
   "execution_count": 8,
   "metadata": {
    "scrolled": true
   },
   "outputs": [
    {
     "name": "stdout",
     "output_type": "stream",
     "text": [
      "root\n",
      " |-- VendorID: long (nullable = true)\n",
      " |-- tpep_pickup_datetime: timestamp (nullable = true)\n",
      " |-- tpep_dropoff_datetime: timestamp (nullable = true)\n",
      " |-- passenger_count: double (nullable = true)\n",
      " |-- trip_distance: double (nullable = true)\n",
      " |-- RatecodeID: double (nullable = true)\n",
      " |-- store_and_fwd_flag: string (nullable = true)\n",
      " |-- PULocationID: long (nullable = true)\n",
      " |-- DOLocationID: long (nullable = true)\n",
      " |-- payment_type: long (nullable = true)\n",
      " |-- fare_amount: double (nullable = true)\n",
      " |-- extra: double (nullable = true)\n",
      " |-- mta_tax: double (nullable = true)\n",
      " |-- tip_amount: double (nullable = true)\n",
      " |-- tolls_amount: double (nullable = true)\n",
      " |-- improvement_surcharge: double (nullable = true)\n",
      " |-- total_amount: double (nullable = true)\n",
      " |-- congestion_surcharge: double (nullable = true)\n",
      " |-- airport_fee: double (nullable = true)\n",
      "\n"
     ]
    }
   ],
   "source": [
    "sdf.printSchema()"
   ]
  },
  {
   "cell_type": "markdown",
   "metadata": {},
   "source": [
    "# Preprocessing Steps -\n",
    "\n",
    "\n",
    "## 1. Typecasting\n",
    "Making sure that all columns are appropriately typed\n",
    "\n",
    "## 2. Getting rid of unrelated data (as per Data Dictionary)\n",
    "We won't care about some fields for the purposes of our analysis, so need to drop them\n",
    "\n",
    "## 3. Handling of Missing Values\n",
    "If NaN / null values are present, need to deal with them appropriately - imputation, deletion, etc\n",
    "\n",
    "## 4. Outlier Removal / Analysis\n",
    "Outliers have to be dealt with appropriately, as they can skew data\n"
   ]
  },
  {
   "cell_type": "markdown",
   "metadata": {},
   "source": [
    "### Typecasting\n",
    "\n",
    "There are several columns that we need to adjust the type for. They'll be listed below with their justifications\n",
    "- VendorID: Inspection of the data revealed that this only takes integer values, so it should be changed to an int\n",
    "- passenger_count: Should be changed to int since # of people is an integer\n",
    "- RatecodeID: Similar to VendorID"
   ]
  },
  {
   "cell_type": "code",
   "execution_count": 13,
   "metadata": {},
   "outputs": [
    {
     "name": "stdout",
     "output_type": "stream",
     "text": [
      "+---------------+\n",
      "|passenger_count|\n",
      "+---------------+\n",
      "|            8.0|\n",
      "|            0.0|\n",
      "|            7.0|\n",
      "|           null|\n",
      "|            1.0|\n",
      "|            4.0|\n",
      "|            3.0|\n",
      "|            2.0|\n",
      "|            6.0|\n",
      "|            5.0|\n",
      "|            9.0|\n",
      "+---------------+\n",
      "\n"
     ]
    }
   ],
   "source": [
    "# I want to check if any taxi drivers have reported half a person -\n",
    "columns = ['passenger_count']\n",
    "for column in columns:\n",
    "    sdf.select(column).distinct().show()\n",
    "    \n",
    "# Can confirm that only integers are reported"
   ]
  },
  {
   "cell_type": "markdown",
   "metadata": {},
   "source": [
    "# How come this code doesn't work?\n",
    "\n",
    "sdf.select(column).distinct().show()"
   ]
  },
  {
   "cell_type": "code",
   "execution_count": 16,
   "metadata": {},
   "outputs": [],
   "source": [
    "columns = ['VendorID', 'passenger_count', 'RatecodeID']\n",
    "for column in columns:\n",
    "    sdf = sdf.withColumn(\n",
    "        column,\n",
    "        F.col(column).astype('INT')\n",
    "    )"
   ]
  },
  {
   "cell_type": "code",
   "execution_count": 17,
   "metadata": {},
   "outputs": [
    {
     "name": "stdout",
     "output_type": "stream",
     "text": [
      "root\n",
      " |-- VendorID: integer (nullable = true)\n",
      " |-- tpep_pickup_datetime: timestamp (nullable = true)\n",
      " |-- tpep_dropoff_datetime: timestamp (nullable = true)\n",
      " |-- passenger_count: integer (nullable = true)\n",
      " |-- trip_distance: double (nullable = true)\n",
      " |-- RatecodeID: integer (nullable = true)\n",
      " |-- store_and_fwd_flag: string (nullable = true)\n",
      " |-- PULocationID: long (nullable = true)\n",
      " |-- DOLocationID: long (nullable = true)\n",
      " |-- payment_type: long (nullable = true)\n",
      " |-- fare_amount: double (nullable = true)\n",
      " |-- extra: double (nullable = true)\n",
      " |-- mta_tax: double (nullable = true)\n",
      " |-- tip_amount: double (nullable = true)\n",
      " |-- tolls_amount: double (nullable = true)\n",
      " |-- improvement_surcharge: double (nullable = true)\n",
      " |-- total_amount: double (nullable = true)\n",
      " |-- congestion_surcharge: double (nullable = true)\n",
      " |-- airport_fee: double (nullable = true)\n",
      "\n"
     ]
    }
   ],
   "source": [
    "sdf.printSchema()"
   ]
  },
  {
   "cell_type": "markdown",
   "metadata": {},
   "source": [
    "### Converting PU/DOLocation to Geometry \n",
    "Code attributed to tute2"
   ]
  },
  {
   "cell_type": "code",
   "execution_count": 21,
   "metadata": {},
   "outputs": [
    {
     "name": "stderr",
     "output_type": "stream",
     "text": [
      "                                                                                \r"
     ]
    },
    {
     "data": {
      "text/html": [
       "<table border='1'>\n",
       "<tr><th>min(fare_amount)</th></tr>\n",
       "<tr><td>-2564.0</td></tr>\n",
       "</table>\n"
      ],
      "text/plain": [
       "+----------------+\n",
       "|min(fare_amount)|\n",
       "+----------------+\n",
       "|         -2564.0|\n",
       "+----------------+"
      ]
     },
     "execution_count": 21,
     "metadata": {},
     "output_type": "execute_result"
    }
   ],
   "source": [
    "sdf.select(F.min('fare_amount'))"
   ]
  },
  {
   "cell_type": "code",
   "execution_count": null,
   "metadata": {},
   "outputs": [],
   "source": [
    "aggregated_results = sdf \\\n",
    "                    .groupBy(\"passenger_count\") \\\n",
    "                    .agg(\n",
    "                        F.mean(\"total_amount\").alias(\"avg_trip_amount_usd\"),\n",
    "                        F.max(\"trip_distance\").alias(\"max_trip_distance_miles\")\n",
    "                    ) \\\n",
    "                    .orderBy(\"passenger_count\")\n",
    "\n",
    "aggregated_results.show()"
   ]
  }
 ],
 "metadata": {
  "kernelspec": {
   "display_name": "Python 3 (ipykernel)",
   "language": "python",
   "name": "python3"
  },
  "language_info": {
   "codemirror_mode": {
    "name": "ipython",
    "version": 3
   },
   "file_extension": ".py",
   "mimetype": "text/x-python",
   "name": "python",
   "nbconvert_exporter": "python",
   "pygments_lexer": "ipython3",
   "version": "3.8.10"
  },
  "vscode": {
   "interpreter": {
    "hash": "916dbcbb3f70747c44a77c7bcd40155683ae19c65e1c03b4aa3499c5328201f1"
   }
  }
 },
 "nbformat": 4,
 "nbformat_minor": 2
}
