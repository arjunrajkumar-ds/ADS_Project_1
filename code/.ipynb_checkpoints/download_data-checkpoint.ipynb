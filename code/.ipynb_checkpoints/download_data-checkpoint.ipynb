{
 "cells": [
  {
   "cell_type": "code",
   "execution_count": 1,
   "metadata": {},
   "outputs": [],
   "source": [
    "import time\n",
    "from datetime import datetime\n",
    "\n",
    "t1 = datetime.now()"
   ]
  },
  {
   "cell_type": "markdown",
   "metadata": {},
   "source": [
    "https://data.cityofnewyork.us/Public-Safety/Motor-Vehicle-Collisions-Crashes/h9gi-nx95"
   ]
  },
  {
   "cell_type": "markdown",
   "metadata": {},
   "source": [
    "### Download scripts have been taken and/or amended from code provided in Pre-Req Notebook from tutorials"
   ]
  },
  {
   "cell_type": "code",
   "execution_count": 2,
   "metadata": {},
   "outputs": [],
   "source": [
    "from urllib.request import urlretrieve\n",
    "import os"
   ]
  },
  {
   "cell_type": "code",
   "execution_count": 3,
   "metadata": {},
   "outputs": [],
   "source": [
    "output_relative_dir = '../raw_data/'\n",
    "if not os.path.exists(output_relative_dir):\n",
    "    os.makedirs(output_relative_dir)"
   ]
  },
  {
   "cell_type": "markdown",
   "metadata": {},
   "source": [
    "### Making directories for the different data we're downloading"
   ]
  },
  {
   "cell_type": "code",
   "execution_count": 4,
   "metadata": {},
   "outputs": [],
   "source": [
    "if not os.path.exists(output_relative_dir + 'tlc_yellow'):\n",
    "    os.makedirs(output_relative_dir + 'tlc_yellow')"
   ]
  },
  {
   "cell_type": "markdown",
   "metadata": {},
   "source": [
    "### Download script for 2022 Yellow Taxi Data\n",
    "\n",
    "Only 5 months of data available for 2022"
   ]
  },
  {
   "cell_type": "code",
   "execution_count": 5,
   "metadata": {},
   "outputs": [],
   "source": [
    "YEAR = '2022'\n",
    "MONTHS = range(1, 5)"
   ]
  },
  {
   "cell_type": "code",
   "execution_count": 6,
   "metadata": {},
   "outputs": [
    {
     "name": "stdout",
     "output_type": "stream",
     "text": [
      "Begin month 01\n",
      "Completed month 01\n",
      "Begin month 02\n",
      "Completed month 02\n",
      "Begin month 03\n",
      "Completed month 03\n",
      "Begin month 04\n",
      "Completed month 04\n"
     ]
    }
   ],
   "source": [
    "# data output directory is `data/tlc_data/`\n",
    "# output_dir points to raw_data directory\n",
    "# Code below creates the path for the downloaded data to go in\n",
    "tlc_output_dir = output_relative_dir + 'tlc_yellow'\n",
    "URL_TEMPLATE = \"https://d37ci6vzurychx.cloudfront.net/trip-data/yellow_tripdata_\"#year-month.parquet\n",
    "\n",
    "for month in MONTHS:\n",
    "    # 0-fill i.e 1 -> 01, 2 -> 02, etc\n",
    "    month = str(month).zfill(2) \n",
    "    print(f\"Begin month {month}\")\n",
    "    \n",
    "    # generate url\n",
    "    url = f'{URL_TEMPLATE}{YEAR}-{month}.parquet'\n",
    "    # generate output location and filename\n",
    "    output_dir = f\"{tlc_output_dir}/{YEAR}-{month}.parquet\"\n",
    "    # download\n",
    "    urlretrieve(url, output_dir) \n",
    "    \n",
    "    print(f\"Completed month {month}\")"
   ]
  },
  {
   "cell_type": "markdown",
   "metadata": {},
   "source": [
    "### Download script for property sales data (NYC Open Data)"
   ]
  },
  {
   "cell_type": "code",
   "execution_count": 7,
   "metadata": {},
   "outputs": [],
   "source": [
    "if not os.path.exists(output_relative_dir + 'property_data'):\n",
    "    os.makedirs(output_relative_dir + 'property_data')\n",
    "    \n",
    "property_output_dir = '../raw_data/property_data/'"
   ]
  },
  {
   "cell_type": "code",
   "execution_count": 8,
   "metadata": {
    "scrolled": true
   },
   "outputs": [
    {
     "name": "stdout",
     "output_type": "stream",
     "text": [
      "Begin borough manhattan\n",
      "Completed borough manhattan\n",
      "\n",
      "Begin borough bronx\n",
      "Completed borough bronx\n",
      "\n",
      "Begin borough brooklyn\n",
      "Completed borough brooklyn\n",
      "\n",
      "Begin borough queens\n",
      "Completed borough queens\n",
      "\n",
      "Begin borough statenisland\n",
      "Completed borough statenisland\n",
      "\n"
     ]
    }
   ],
   "source": [
    "boroughs = ['manhattan', 'bronx', 'brooklyn', 'queens', 'statenisland']\n",
    "#manhattan.xlsx\n",
    "\n",
    "URL_TEMPLATE = \"https://www1.nyc.gov/assets/finance/downloads/pdf/rolling_sales/rollingsales_\"\n",
    "\n",
    "for borough in boroughs:\n",
    "    print(f\"Begin borough {borough}\")\n",
    "          \n",
    "    url = f'{URL_TEMPLATE}{borough}.xlsx'\n",
    "    output_dir = f\"{property_output_dir}{borough}.xlsx\"\n",
    "    urlretrieve(url, output_dir)\n",
    "    \n",
    "    print(f\"Completed borough {borough}\\n\")"
   ]
  },
  {
   "cell_type": "markdown",
   "metadata": {},
   "source": [
    "# *NOTE*\n",
    "Here, please refer to step ___ in the ReadME - I manually deleted the first _ rows of the excel spreadsheet, since it wasn't able to be read in properly via read_excel. Instructions on what rows to delete and how are in the ReadME"
   ]
  },
  {
   "cell_type": "markdown",
   "metadata": {},
   "source": [
    "# 2nd readme -\n",
    "\n",
    "Download files and put into raw_data folder\n",
    "\n",
    "https://d37ci6vzurychx.cloudfront.net/misc/taxi+_zone_lookup.parquet\n",
    "https://d37ci6vzurychx.cloudfront.net/misc/taxi_zones.zip\n"
   ]
  },
  {
   "cell_type": "code",
   "execution_count": 11,
   "metadata": {},
   "outputs": [
    {
     "name": "stdout",
     "output_type": "stream",
     "text": [
      "This notebook took 0:01:10.163243 to run.\n",
      "This notebook took 1.17 minutes to run.\n"
     ]
    }
   ],
   "source": [
    "t2 = datetime.now()\n",
    "\n",
    "time_taken = t2 - t1\n",
    "print(f'This notebook took {time_taken} to run.')\n",
    "minutes_taken = round(time_taken.total_seconds() / 60, 2)\n",
    "print(f'This notebook took {minutes_taken} minutes to run.')"
   ]
  }
 ],
 "metadata": {
  "kernelspec": {
   "display_name": "Python 3 (ipykernel)",
   "language": "python",
   "name": "python3"
  },
  "language_info": {
   "codemirror_mode": {
    "name": "ipython",
    "version": 3
   },
   "file_extension": ".py",
   "mimetype": "text/x-python",
   "name": "python",
   "nbconvert_exporter": "python",
   "pygments_lexer": "ipython3",
   "version": "3.8.10"
  },
  "vscode": {
   "interpreter": {
    "hash": "916dbcbb3f70747c44a77c7bcd40155683ae19c65e1c03b4aa3499c5328201f1"
   }
  }
 },
 "nbformat": 4,
 "nbformat_minor": 2
}
