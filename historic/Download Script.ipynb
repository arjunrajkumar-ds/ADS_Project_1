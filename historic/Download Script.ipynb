{
 "cells": [
  {
   "cell_type": "markdown",
   "metadata": {},
   "source": [
    "Code taken from Akira's github / resources available for this subject\n",
    "\n",
    "Code is to download the entire year of yellow taxi trip data for 2020"
   ]
  },
  {
   "cell_type": "code",
   "execution_count": 3,
   "metadata": {},
   "outputs": [
    {
     "name": "stdout",
     "output_type": "stream",
     "text": [
      "Done downloading yellow_tripdata_2020-01.csv to C:/Users/arjra/Dropbox/Year 5/Applied Data Science/raw_data with size 0.55GB\n",
      "Done downloading yellow_tripdata_2020-02.csv to C:/Users/arjra/Dropbox/Year 5/Applied Data Science/raw_data with size 0.54GB\n",
      "Done downloading yellow_tripdata_2020-03.csv to C:/Users/arjra/Dropbox/Year 5/Applied Data Science/raw_data with size 0.26GB\n",
      "Done downloading yellow_tripdata_2020-04.csv to C:/Users/arjra/Dropbox/Year 5/Applied Data Science/raw_data with size 0.02GB\n",
      "Done downloading yellow_tripdata_2020-05.csv to C:/Users/arjra/Dropbox/Year 5/Applied Data Science/raw_data with size 0.03GB\n",
      "Done downloading yellow_tripdata_2020-06.csv to C:/Users/arjra/Dropbox/Year 5/Applied Data Science/raw_data with size 0.05GB\n",
      "Done downloading yellow_tripdata_2020-07.csv to C:/Users/arjra/Dropbox/Year 5/Applied Data Science/raw_data with size 0.07GB\n",
      "Done downloading yellow_tripdata_2020-08.csv to C:/Users/arjra/Dropbox/Year 5/Applied Data Science/raw_data with size 0.09GB\n",
      "Done downloading yellow_tripdata_2020-09.csv to C:/Users/arjra/Dropbox/Year 5/Applied Data Science/raw_data with size 0.11GB\n",
      "Done downloading yellow_tripdata_2020-10.csv to C:/Users/arjra/Dropbox/Year 5/Applied Data Science/raw_data with size 0.14GB\n",
      "Done downloading yellow_tripdata_2020-11.csv to C:/Users/arjra/Dropbox/Year 5/Applied Data Science/raw_data with size 0.13GB\n",
      "Done downloading yellow_tripdata_2020-12.csv to C:/Users/arjra/Dropbox/Year 5/Applied Data Science/raw_data with size 0.13GB\n"
     ]
    }
   ],
   "source": [
    "from os.path import getsize\n",
    "from urllib.request import urlretrieve\n",
    "\n",
    "# you will need to create the \"large\" folder if it does not exist\n",
    "# you can also change this to change where you want the data to be downloaded\n",
    "#output_dir = \"../data/large\"\n",
    "output_dir = \"C:/Users/arjra/Dropbox/Year 5/Applied Data Science/raw_data\"\n",
    "\n",
    "# template for the type of taxi / year you wish to download\n",
    "fname_template = \"yellow_tripdata_2020\"\n",
    "\n",
    "# change range(x, y) to be the months you want\n",
    "for m in range(1, 13):\n",
    "    month = str(m).zfill(2)\n",
    "    out = f'{fname_template}-{month}.csv'\n",
    "    url = f\"https://s3.amazonaws.com/nyc-tlc/trip+data/{out}\"\n",
    "    urlretrieve(url, f\"{output_dir}/{out}\")\n",
    "\n",
    "    print(f\"Done downloading {out} to {output_dir} with size {getsize(f'{output_dir}/{out}') / 1073741824:.2f}GB\")"
   ]
  }
 ],
 "metadata": {
  "kernelspec": {
   "display_name": "Python 3 (ipykernel)",
   "language": "python",
   "name": "python3"
  },
  "language_info": {
   "codemirror_mode": {
    "name": "ipython",
    "version": 3
   },
   "file_extension": ".py",
   "mimetype": "text/x-python",
   "name": "python",
   "nbconvert_exporter": "python",
   "pygments_lexer": "ipython3",
   "version": "3.8.10"
  }
 },
 "nbformat": 4,
 "nbformat_minor": 4
}
